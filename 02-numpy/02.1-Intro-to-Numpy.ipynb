{
  "cells": [
    {
      "cell_type": "markdown",
      "id": "bdfbcacc",
      "metadata": {
        "id": "bdfbcacc"
      },
      "source": [
        "<img src=\"https://github.com/4GeeksAcademy/machine-learning-prework/blob/main/02-numpy/assets/numpy_logo.png?raw=1\" alt=\"logo\" width=\"400\"/>\n",
        "\n",
        "## Introduction to numpy\n",
        "\n",
        "NumPy stands for 'Numerical Python'. It is an open-source Python library used to perform various mathematical and scientific tasks. It contains multi-dimensional arrays and matrixes, along with many high-level mathematical functions that operate on them. It contains among other things:\n",
        "\n",
        "→ a powerful N-dimensional array object.\n",
        "\n",
        "→ sophisticated (broadcasting) functions.\n",
        "\n",
        "→ tools for integrating C/C++ and Fortran code.\n",
        "\n",
        "→ useful linear algebra, Fourier transform, and random number capabilities."
      ]
    },
    {
      "cell_type": "markdown",
      "id": "85902746",
      "metadata": {
        "id": "85902746"
      },
      "source": [
        "## Installing NumPy\n",
        "When you want to work with numpy locally, you should run the following commands:\n",
        "\n",
        "You can install NumPy with:\\\n",
        "`pip install numpy`\\\n",
        "or\\\n",
        "`conda install numpy`\n",
        "\n",
        "In our case, 4Geeks have prepared all the environment in order that you can work comfortably."
      ]
    },
    {
      "cell_type": "markdown",
      "id": "58765356",
      "metadata": {
        "id": "58765356"
      },
      "source": [
        "## Why should we use NumPy?\n",
        "\n",
        "Numpy is a library that performs numerical calculations in python. We will use it mainly because it allows us to create, modify matrixes, and do operations on them with ease.\n",
        "\n",
        "NumPy is like Pandas, Matplotlib or Scikit-Learn. It is one of the packages that you cannot miss when you are studying Machine Learning. Mainly because this library provides a matrix data structure that has some benefits over regular Python lists. Some of these benefits are: being more compact, quicker access to reading and writing articles, more convenient and efficient.\n",
        "\n",
        "For example, we will see later in the bootcamp that working with images is dealing with three-dimensional matrixes as large as 3840 x 2160, which means we will have 3×3840×2160 = 24883200 entries!!! 😱😱😱.\n",
        "\n",
        "Working with matrixes of that magnitude is practically impossible to carry out with lists and dictionaries if one wants to have an efficient and fast programming."
      ]
    },
    {
      "cell_type": "markdown",
      "id": "c4e52ee5",
      "metadata": {
        "id": "c4e52ee5"
      },
      "source": [
        "#### Exercise: Import the numpy package under the name `np` (★☆☆)\n",
        "\n",
        "`numpy` is commonly imported as `np` so we highly recommend to put this alias."
      ]
    },
    {
      "cell_type": "code",
      "execution_count": 2,
      "id": "ea3038d9",
      "metadata": {
        "id": "ea3038d9"
      },
      "outputs": [],
      "source": [
        "import numpy as np"
      ]
    },
    {
      "cell_type": "markdown",
      "id": "40631cd6",
      "metadata": {
        "id": "40631cd6"
      },
      "source": [
        "## What is an array and why it is important for Machine Learning?\n",
        "\n",
        "An array is a data structure consisting of a collection of elements (values or variables), each identified by at least one index or key.\n"
      ]
    },
    {
      "cell_type": "markdown",
      "id": "ce969254",
      "metadata": {
        "id": "ce969254"
      },
      "source": [
        "![alt text](assets/1D.png \"1D\")"
      ]
    },
    {
      "cell_type": "markdown",
      "id": "735d02e2",
      "metadata": {
        "id": "735d02e2"
      },
      "source": [
        "An array is known as the central data structure of the Numpy library; it can also be of several dimensions. For example, neural networks sometimes deal with 4D arrays.\n",
        "\n",
        "Later on, we are also going to use another kind of arrays called: Tensors."
      ]
    },
    {
      "cell_type": "markdown",
      "id": "a20ce3a4",
      "metadata": {
        "id": "a20ce3a4"
      },
      "source": [
        "![alt text](./assets/3D.png \"3D\")"
      ]
    },
    {
      "cell_type": "markdown",
      "id": "46950f4f",
      "metadata": {
        "id": "46950f4f"
      },
      "source": [
        "#### Exercise: Print the version and configuration of numpy (★☆☆)\n",
        "\n",
        "You can print the version of any package of Python using `name_of_package.__version__`"
      ]
    },
    {
      "cell_type": "code",
      "execution_count": null,
      "id": "2a9f5838",
      "metadata": {
        "id": "2a9f5838",
        "outputId": "9e931598-ed4c-47b2-e23b-44b9bc217d24"
      },
      "outputs": [
        {
          "name": "stdout",
          "output_type": "stream",
          "text": [
            "1.21.3\n"
          ]
        }
      ],
      "source": [
        "import numpy as np\n",
        "print(np.__version__)"
      ]
    },
    {
      "cell_type": "markdown",
      "id": "e3c20b3d",
      "metadata": {
        "id": "e3c20b3d"
      },
      "source": [
        "#### Exercise: Create a null vector of size 10 (★☆☆)\n",
        "\n",
        "A `null vector` is an array of zeros (`0`), also called `initialization vector`.\n",
        "\n",
        ">Check de function `np.zeros` (https://numpy.org/doc/stable/reference/generated/numpy.zeros.html)"
      ]
    },
    {
      "cell_type": "code",
      "execution_count": null,
      "id": "8a758bcf",
      "metadata": {
        "id": "8a758bcf",
        "outputId": "ee2e6568-0101-40d0-ce65-1c2564fec16c",
        "colab": {
          "base_uri": "https://localhost:8080/"
        }
      },
      "outputs": [
        {
          "output_type": "execute_result",
          "data": {
            "text/plain": [
              "array([0., 0., 0., 0., 0., 0., 0., 0., 0., 0.])"
            ]
          },
          "metadata": {},
          "execution_count": 2
        }
      ],
      "source": [
        "np.zeros(10)"
      ]
    },
    {
      "cell_type": "markdown",
      "id": "6cbe7954",
      "metadata": {
        "id": "6cbe7954"
      },
      "source": [
        "#### Exercise: Create a vector of ones with size 10 (★☆☆)\n",
        "\n",
        ">Check de function `np.ones` (https://numpy.org/doc/stable/reference/generated/numpy.ones.html)"
      ]
    },
    {
      "cell_type": "code",
      "execution_count": null,
      "id": "86477874",
      "metadata": {
        "id": "86477874",
        "outputId": "64cac585-c09e-435c-e464-ed28ab2dd088",
        "colab": {
          "base_uri": "https://localhost:8080/"
        }
      },
      "outputs": [
        {
          "output_type": "execute_result",
          "data": {
            "text/plain": [
              "array([1., 1., 1., 1., 1., 1., 1., 1., 1., 1.])"
            ]
          },
          "metadata": {},
          "execution_count": 3
        }
      ],
      "source": [
        "np.ones(10)"
      ]
    },
    {
      "cell_type": "markdown",
      "id": "0a708990",
      "metadata": {
        "id": "0a708990"
      },
      "source": [
        "#### Exercise: Create an 1D array with a specific start value, end value, and number of values (★☆☆)\n",
        "\n",
        ">Check the function `np.linspace` (https://numpy.org/doc/stable/reference/generated/numpy.linspace.html)"
      ]
    },
    {
      "cell_type": "code",
      "execution_count": null,
      "id": "477e01f4",
      "metadata": {
        "id": "477e01f4",
        "outputId": "a9f424d5-04dd-4717-9022-d5755010f165",
        "colab": {
          "base_uri": "https://localhost:8080/"
        }
      },
      "outputs": [
        {
          "output_type": "execute_result",
          "data": {
            "text/plain": [
              "array([1.        , 1.11111111, 1.22222222, 1.33333333, 1.44444444,\n",
              "       1.55555556, 1.66666667, 1.77777778, 1.88888889, 2.        ])"
            ]
          },
          "metadata": {},
          "execution_count": 4
        }
      ],
      "source": [
        "np.linspace(1,2,10)"
      ]
    },
    {
      "cell_type": "markdown",
      "id": "782d4c77",
      "metadata": {
        "id": "782d4c77"
      },
      "source": [
        "#### Run: Create a vector (1D array) with random integers from 10 to 49 and dimension 1x35 (★☆☆)\n",
        "\n",
        "When `dimension` is expressed `1x35` it means: One dimension array with 35 items (length=35).\n",
        "\n",
        ">Check the function `np.random` which allows you to create random arrays (https://numpy.org/doc/1.16/reference/routines.random.html)"
      ]
    },
    {
      "cell_type": "code",
      "execution_count": null,
      "id": "5dbe1a08",
      "metadata": {
        "id": "5dbe1a08",
        "outputId": "32c88ee2-b2e4-4ed7-9dde-0a2f203d405c",
        "colab": {
          "base_uri": "https://localhost:8080/"
        }
      },
      "outputs": [
        {
          "output_type": "stream",
          "name": "stdout",
          "text": [
            "[0.90666705 0.70121841 0.9617762  0.43889271 0.5323519  0.22807794\n",
            " 0.62892901 0.34939372 0.25170211 0.10926433]\n"
          ]
        }
      ],
      "source": [
        "import numpy as np\n",
        "\n",
        "## 10 random numbers between (0, 1)\n",
        "print(np.random.random(10)) "
      ]
    },
    {
      "cell_type": "code",
      "execution_count": null,
      "id": "a9354456",
      "metadata": {
        "id": "a9354456",
        "outputId": "bd33f1fd-c419-4782-c57f-5c63cca938b3",
        "colab": {
          "base_uri": "https://localhost:8080/"
        }
      },
      "outputs": [
        {
          "output_type": "stream",
          "name": "stdout",
          "text": [
            "[0.66916193 0.91645771 0.90681464 0.13585408 0.51812297 0.78101946\n",
            " 0.26139777 0.98544708 0.46759922 0.13630126]\n",
            "[-0.40083568  1.91067682 -0.67016031 -1.92192514  0.95808487  0.13669545\n",
            " -1.63584847  0.36359165  0.63828228  1.09244371]\n"
          ]
        }
      ],
      "source": [
        "## Two ways to create numbers with normal distribution\n",
        "print(np.random.rand(10)) # 10 random values with distribution N(0,1)\n",
        "print(np.random.normal(loc = 0, scale = 1, size = 10)) # 10 random values with distribution N(0,1)"
      ]
    },
    {
      "cell_type": "code",
      "execution_count": null,
      "id": "73ed6271",
      "metadata": {
        "id": "73ed6271",
        "outputId": "670bfa42-b931-4a0e-acdc-df62bcb39763",
        "colab": {
          "base_uri": "https://localhost:8080/"
        }
      },
      "outputs": [
        {
          "output_type": "stream",
          "name": "stdout",
          "text": [
            "[ 38.99557603  40.36385416 -13.96816617 -17.65426979   2.34587517\n",
            "  11.93450689   1.68958439  48.58208172  37.30408387  35.37720604]\n"
          ]
        }
      ],
      "source": [
        "## Did you notice the difference between both functions? \n",
        "print(np.random.normal(loc = -5, scale = 33, size = 10)) # 10 random values with distribution N(-5,33)"
      ]
    },
    {
      "cell_type": "code",
      "execution_count": null,
      "id": "49ae7a5a",
      "metadata": {
        "id": "49ae7a5a",
        "outputId": "be71c47f-d0e6-498c-d032-8ba1179cd3d6",
        "colab": {
          "base_uri": "https://localhost:8080/"
        }
      },
      "outputs": [
        {
          "output_type": "stream",
          "name": "stdout",
          "text": [
            "[ 74.52624739   2.72296565  45.75252264  44.92848297  -8.81274528\n",
            " -19.03464485  57.84577544  32.56189166  42.17003072  95.73155888]\n"
          ]
        }
      ],
      "source": [
        "## 10 random values with uniform distribution. That means, all values have the same probability\n",
        "print(np.random.uniform(-30,100,10)) # All values are between -30 and 100."
      ]
    },
    {
      "cell_type": "code",
      "execution_count": null,
      "id": "f78e72cb",
      "metadata": {
        "id": "f78e72cb",
        "outputId": "3a9f4f1a-12e7-4e8a-9fe8-aca1b642cc07",
        "colab": {
          "base_uri": "https://localhost:8080/"
        }
      },
      "outputs": [
        {
          "output_type": "stream",
          "name": "stdout",
          "text": [
            "[78  8 65 17 67 85 91 20 44 46]\n"
          ]
        }
      ],
      "source": [
        "# 10 integers values between 0 and 100.\n",
        "print(np.random.randint(0, 100, 10))"
      ]
    },
    {
      "cell_type": "code",
      "execution_count": null,
      "id": "db278431",
      "metadata": {
        "id": "db278431",
        "outputId": "28e1e1d9-1cf8-41a9-dd3b-0584eddf371d",
        "colab": {
          "base_uri": "https://localhost:8080/"
        }
      },
      "outputs": [
        {
          "output_type": "stream",
          "name": "stdout",
          "text": [
            "[12.11213674  4.33656542  0.43534211  6.89514359  9.71031171  4.6660105\n",
            "  2.06807835  8.02856223  1.85624211 13.54187938]\n"
          ]
        }
      ],
      "source": [
        "# 10 random values with Chi distribution with 5 degrees of freedom\n",
        "print(np.random.chisquare(5,10))"
      ]
    },
    {
      "cell_type": "markdown",
      "id": "1b7841da",
      "metadata": {
        "id": "1b7841da"
      },
      "source": [
        "The above examples are the most common distribution and random values you will learn throughout the bootcamp. Now, let's deal with those arrays."
      ]
    },
    {
      "cell_type": "markdown",
      "id": "48d48f01",
      "metadata": {
        "id": "48d48f01"
      },
      "source": [
        "#### Exercise: Reverse one of the last vector we created before (first element becomes last) (★☆☆)\n",
        "Try with `[::-1]`"
      ]
    },
    {
      "cell_type": "code",
      "execution_count": null,
      "id": "3ed233e7",
      "metadata": {
        "id": "3ed233e7",
        "outputId": "4a9a172f-9521-474c-b2bd-c27464b82f01",
        "colab": {
          "base_uri": "https://localhost:8080/"
        }
      },
      "outputs": [
        {
          "output_type": "stream",
          "name": "stdout",
          "text": [
            "[23  2  1 43  5]\n",
            "[ 5 43  1  2 23]\n"
          ]
        }
      ],
      "source": [
        "vector = np.random.randint(0, 50, 5) # 5 integers values between 0 and 50\n",
        "print(vector)\n",
        "print(vector[::-1])"
      ]
    },
    {
      "cell_type": "markdown",
      "id": "4fa39382",
      "metadata": {
        "id": "4fa39382"
      },
      "source": [
        "#### Exercise: Create a 5x5 identity matrix (★☆☆)\n",
        "\n",
        ">Check the function `np.eye`(https://numpy.org/devdocs/reference/generated/numpy.eye.html)"
      ]
    },
    {
      "cell_type": "code",
      "execution_count": null,
      "id": "c97757ec",
      "metadata": {
        "id": "c97757ec",
        "outputId": "d7ffbaaf-616d-487e-da87-466ec8f8003b",
        "colab": {
          "base_uri": "https://localhost:8080/"
        }
      },
      "outputs": [
        {
          "output_type": "stream",
          "name": "stdout",
          "text": [
            "[[1. 0. 0. 0. 0.]\n",
            " [0. 1. 0. 0. 0.]\n",
            " [0. 0. 1. 0. 0.]\n",
            " [0. 0. 0. 1. 0.]\n",
            " [0. 0. 0. 0. 1.]]\n"
          ]
        }
      ],
      "source": [
        "#An identity matrix is a given square matrix of any order which contains on its main diagonal elements with value of one, while the rest of the matrix elements are equal to zero.\n",
        "\n",
        "identity_matrix = np.eye(5)\n",
        "print(identity_matrix)\n"
      ]
    },
    {
      "cell_type": "markdown",
      "id": "da64551a",
      "metadata": {
        "id": "da64551a"
      },
      "source": [
        "#### Exercise: Find indexes of non-zero elements from [1,2,0,0,4,0] (★☆☆)\n",
        "\n",
        ">Check the function `where`(https://numpy.org/devdocs/reference/generated/numpy.where.html)"
      ]
    },
    {
      "cell_type": "code",
      "execution_count": null,
      "id": "327f7adb",
      "metadata": {
        "id": "327f7adb",
        "outputId": "f0211c40-e9dc-4271-e7a5-5cf647aff477",
        "colab": {
          "base_uri": "https://localhost:8080/"
        }
      },
      "outputs": [
        {
          "output_type": "stream",
          "name": "stdout",
          "text": [
            "(array([0, 1, 4]),)\n"
          ]
        }
      ],
      "source": [
        "v = [1,2,0,0,4,0]\n",
        "#nonzero is the function that is called when x and y are omitted\n",
        "print(np.where(v))"
      ]
    },
    {
      "cell_type": "markdown",
      "id": "13c5928c",
      "metadata": {
        "id": "13c5928c"
      },
      "source": [
        "#### Exercise: Create a 10x10 array with random values and find the minimum and maximum values (★☆☆)\n",
        "\n",
        ">Check the function `min` (https://numpy.org/devdocs/reference/generated/numpy.where.html) and `max` (https://numpy.org/devdocs/reference/generated/numpy.max.html)"
      ]
    },
    {
      "cell_type": "code",
      "execution_count": null,
      "id": "911c9b93",
      "metadata": {
        "id": "911c9b93",
        "outputId": "f2b8914d-502b-439d-9831-b34b461b8765",
        "colab": {
          "base_uri": "https://localhost:8080/"
        }
      },
      "outputs": [
        {
          "output_type": "stream",
          "name": "stdout",
          "text": [
            "99\n",
            "2\n"
          ]
        }
      ],
      "source": [
        "m = np.random.randint(0, 100, (10,10))\n",
        "print(m.max())\n",
        "print(m.min())\n",
        "\n"
      ]
    },
    {
      "cell_type": "markdown",
      "id": "3fa2e461",
      "metadata": {
        "id": "3fa2e461"
      },
      "source": [
        "#### Exercise: Create a random vector of size 30 and find the mean value (★☆☆)"
      ]
    },
    {
      "cell_type": "code",
      "execution_count": null,
      "id": "323eb38a",
      "metadata": {
        "id": "323eb38a",
        "outputId": "4d2203a8-21e0-4b17-ca8b-d8d125ad3951",
        "colab": {
          "base_uri": "https://localhost:8080/"
        }
      },
      "outputs": [
        {
          "output_type": "stream",
          "name": "stdout",
          "text": [
            "[69 99 79 45 22 49 96 29 93 30 63 20 69 29 62 82  5 69 70 26 33 69 23 30\n",
            "  3 24 14 97 28 40]\n",
            "48.9\n"
          ]
        }
      ],
      "source": [
        "random_v = np.random.randint(0, 100, 30)\n",
        "print(random_v)\n",
        "print(np.mean(random_v))"
      ]
    },
    {
      "cell_type": "markdown",
      "id": "961f074f",
      "metadata": {
        "id": "961f074f"
      },
      "source": [
        "#### Exercise: Define a function with your date of birth (yyyy/mm/dd) as imput, that returns a random array with the following dimensions: (★★☆)\n",
        "\n",
        "$$yyyy-1900 \\times |mm - dd|$$"
      ]
    },
    {
      "cell_type": "code",
      "execution_count": null,
      "id": "d3f49255",
      "metadata": {
        "id": "d3f49255",
        "outputId": "05818f81-7097-4b52-c076-b92c4e6155b0",
        "colab": {
          "base_uri": "https://localhost:8080/"
        }
      },
      "outputs": [
        {
          "output_type": "stream",
          "name": "stdout",
          "text": [
            "(98, 1, array([[0.41594918],\n",
            "       [0.81757403],\n",
            "       [0.20169665],\n",
            "       [0.36760688],\n",
            "       [0.72451902],\n",
            "       [0.71549948],\n",
            "       [0.35949563],\n",
            "       [0.86145386],\n",
            "       [0.32045627],\n",
            "       [0.59178504],\n",
            "       [0.60296646],\n",
            "       [0.12566557],\n",
            "       [0.55055126],\n",
            "       [0.58856042],\n",
            "       [0.29916503],\n",
            "       [0.83180172],\n",
            "       [0.48396355],\n",
            "       [0.15164763],\n",
            "       [0.79411552],\n",
            "       [0.62711273],\n",
            "       [0.51866337],\n",
            "       [0.84495176],\n",
            "       [0.91979374],\n",
            "       [0.20323151],\n",
            "       [0.96702115],\n",
            "       [0.06128485],\n",
            "       [0.24929446],\n",
            "       [0.486322  ],\n",
            "       [0.3575688 ],\n",
            "       [0.69057456],\n",
            "       [0.51506658],\n",
            "       [0.91018835],\n",
            "       [0.49474677],\n",
            "       [0.89371406],\n",
            "       [0.3470399 ],\n",
            "       [0.6545827 ],\n",
            "       [0.59203458],\n",
            "       [0.84965489],\n",
            "       [0.88444362],\n",
            "       [0.42155761],\n",
            "       [0.7346636 ],\n",
            "       [0.03708347],\n",
            "       [0.55833519],\n",
            "       [0.26435889],\n",
            "       [0.8281408 ],\n",
            "       [0.77056446],\n",
            "       [0.749749  ],\n",
            "       [0.62298776],\n",
            "       [0.24537222],\n",
            "       [0.12506337],\n",
            "       [0.13110429],\n",
            "       [0.47844313],\n",
            "       [0.44360762],\n",
            "       [0.80855699],\n",
            "       [0.92715599],\n",
            "       [0.8036002 ],\n",
            "       [0.00918905],\n",
            "       [0.87722604],\n",
            "       [0.14239248],\n",
            "       [0.57747477],\n",
            "       [0.25135577],\n",
            "       [0.52789241],\n",
            "       [0.29837888],\n",
            "       [0.97353909],\n",
            "       [0.01537466],\n",
            "       [0.02855859],\n",
            "       [0.69164445],\n",
            "       [0.55398   ],\n",
            "       [0.30410612],\n",
            "       [0.74817667],\n",
            "       [0.51183259],\n",
            "       [0.8129359 ],\n",
            "       [0.61672583],\n",
            "       [0.35360845],\n",
            "       [0.17128349],\n",
            "       [0.08041725],\n",
            "       [0.40337608],\n",
            "       [0.35192062],\n",
            "       [0.03493937],\n",
            "       [0.50602701],\n",
            "       [0.04596298],\n",
            "       [0.79022664],\n",
            "       [0.78236112],\n",
            "       [0.04613472],\n",
            "       [0.55810357],\n",
            "       [0.25206116],\n",
            "       [0.16714371],\n",
            "       [0.93368856],\n",
            "       [0.16120528],\n",
            "       [0.07846524],\n",
            "       [0.35561248],\n",
            "       [0.22738474],\n",
            "       [0.69069085],\n",
            "       [0.99579729],\n",
            "       [0.61517347],\n",
            "       [0.85746719],\n",
            "       [0.59182718],\n",
            "       [0.21246739]]))\n"
          ]
        }
      ],
      "source": [
        "import datetime\n",
        "\n",
        "def birth_matrix(x):\n",
        "  year = int(x.strftime(\"%Y\"))\n",
        "  month = int(x.strftime(\"%m\"))\n",
        "  day = int(x.strftime(\"%d\"))\n",
        "  dim1 = year - 1900\n",
        "  dim2 = np.abs(month-day)\n",
        "  matrix = np.random.rand(dim1,dim2)\n",
        "  return dim1,dim2,matrix\n",
        "\n",
        "\n",
        "print(birth_matrix(datetime.datetime(1998, 12, 13)))\n",
        "\n",
        "\n"
      ]
    },
    {
      "cell_type": "markdown",
      "id": "ff8dbb92",
      "metadata": {
        "id": "ff8dbb92"
      },
      "source": [
        "## What is the difference between Python List and a Numpy Array?\n",
        "\n",
        "- Python list can contain elements with different data types, while Numpy Array‘s elements are always homogeneous (same data types).\n",
        "\n",
        "- Numpy arrays are faster and more compact than Python lists.\n",
        "\n",
        "## Why Numpy Arrays are faster than Lists?\n",
        "\n",
        "- Numpy Arrays use fixed memory to store data and less memory than Python lists.\n",
        "\n",
        "- Contiguous memory allocation in Numpy Arrays."
      ]
    },
    {
      "cell_type": "markdown",
      "id": "e3a7ba7f",
      "metadata": {
        "id": "e3a7ba7f"
      },
      "source": [
        "#### Exercise: Convert the list `my_list = [1, 2, 3]` to numpy array (★☆☆)"
      ]
    },
    {
      "cell_type": "code",
      "execution_count": null,
      "id": "01d8e257",
      "metadata": {
        "id": "01d8e257",
        "outputId": "0b9e8a37-e362-48e4-c130-fcc4a0329375",
        "colab": {
          "base_uri": "https://localhost:8080/"
        }
      },
      "outputs": [
        {
          "output_type": "stream",
          "name": "stdout",
          "text": [
            "<class 'numpy.ndarray'>\n",
            "[1 2 3]\n"
          ]
        }
      ],
      "source": [
        "my_list = [1,2,3]\n",
        "\n",
        "arr = np.asarray(my_list)\n",
        "\n",
        "\n",
        "print(type(arr))\n",
        "print(arr)"
      ]
    },
    {
      "cell_type": "markdown",
      "id": "6d17ab5d",
      "metadata": {
        "id": "6d17ab5d"
      },
      "source": [
        "#### Exercise: Convert the tuple `my_list = (1, 2, 3)` to numpy array (★☆☆)"
      ]
    },
    {
      "cell_type": "code",
      "execution_count": null,
      "id": "841373cd",
      "metadata": {
        "id": "841373cd",
        "outputId": "1b0896a6-ebb8-405b-a9ba-080e7cbce183",
        "colab": {
          "base_uri": "https://localhost:8080/"
        }
      },
      "outputs": [
        {
          "output_type": "stream",
          "name": "stdout",
          "text": [
            "<class 'numpy.ndarray'>\n",
            "[1 2 3]\n"
          ]
        }
      ],
      "source": [
        "my_tuple = (1,2,3)\n",
        "\n",
        "a = np.asarray(my_tuple)\n",
        "\n",
        "\n",
        "print(type(a))\n",
        "print(a)"
      ]
    },
    {
      "cell_type": "markdown",
      "id": "8837119b",
      "metadata": {
        "id": "8837119b"
      },
      "source": [
        "#### Exercise: Convert the list of tuples `my_list = [(1,2,3), (4,5)]` to numpy array (★☆☆)"
      ]
    },
    {
      "cell_type": "code",
      "execution_count": null,
      "id": "2c0d16f1",
      "metadata": {
        "id": "2c0d16f1",
        "outputId": "f2fc0937-184c-4fea-f1e6-a58ce5e27085",
        "colab": {
          "base_uri": "https://localhost:8080/"
        }
      },
      "outputs": [
        {
          "output_type": "stream",
          "name": "stdout",
          "text": [
            "<class 'numpy.ndarray'>\n",
            "[1 2 3]\n"
          ]
        }
      ],
      "source": [
        "list_of_tuples = [(1,2,3), (4,5)]\n",
        "np_arr = np.array(list_of_tuples, dtype=object)\n",
        "\n",
        "\n",
        "print(type(a))\n",
        "print(a)"
      ]
    },
    {
      "cell_type": "markdown",
      "id": "ec788c9f",
      "metadata": {
        "id": "ec788c9f"
      },
      "source": [
        "#### Exercise: Resize a random array of dimensions 5x12 into 12x5 (★☆☆)\n",
        "\n",
        ">Check `reshape` from `numpy` (https://numpy.org/doc/stable/reference/generated/numpy.reshape.html)"
      ]
    },
    {
      "cell_type": "code",
      "execution_count": null,
      "id": "0a4f919f",
      "metadata": {
        "id": "0a4f919f",
        "outputId": "5bfcd207-0766-49d3-a36e-437de6066982",
        "colab": {
          "base_uri": "https://localhost:8080/"
        }
      },
      "outputs": [
        {
          "output_type": "stream",
          "name": "stdout",
          "text": [
            "[[0.31939651 0.01359961 0.62101228 0.50531806 0.05160676 0.29252249\n",
            "  0.4830068  0.47943383 0.09894356 0.90653853 0.37322175 0.86728739]\n",
            " [0.39344269 0.11764884 0.11001125 0.00187505 0.73029581 0.25411566\n",
            "  0.05174184 0.70644298 0.60264884 0.69751349 0.98006429 0.23772388]\n",
            " [0.79206408 0.49351712 0.87759074 0.88747274 0.4825026  0.13291337\n",
            "  0.32215634 0.46529666 0.19903885 0.13071506 0.24012086 0.48174999]\n",
            " [0.74365162 0.68483726 0.46338753 0.42117317 0.54774768 0.71809626\n",
            "  0.91151225 0.35139443 0.04076093 0.86439275 0.70674754 0.08109307]\n",
            " [0.47454314 0.57410023 0.21504592 0.64818057 0.6423083  0.60266615\n",
            "  0.46605863 0.01319036 0.05514588 0.49848604 0.5534186  0.96115684]]\n",
            "[[0.31939651 0.01359961 0.62101228 0.50531806 0.05160676]\n",
            " [0.29252249 0.4830068  0.47943383 0.09894356 0.90653853]\n",
            " [0.37322175 0.86728739 0.39344269 0.11764884 0.11001125]\n",
            " [0.00187505 0.73029581 0.25411566 0.05174184 0.70644298]\n",
            " [0.60264884 0.69751349 0.98006429 0.23772388 0.79206408]\n",
            " [0.49351712 0.87759074 0.88747274 0.4825026  0.13291337]\n",
            " [0.32215634 0.46529666 0.19903885 0.13071506 0.24012086]\n",
            " [0.48174999 0.74365162 0.68483726 0.46338753 0.42117317]\n",
            " [0.54774768 0.71809626 0.91151225 0.35139443 0.04076093]\n",
            " [0.86439275 0.70674754 0.08109307 0.47454314 0.57410023]\n",
            " [0.21504592 0.64818057 0.6423083  0.60266615 0.46605863]\n",
            " [0.01319036 0.05514588 0.49848604 0.5534186  0.96115684]]\n"
          ]
        }
      ],
      "source": [
        "random_array = np.random.rand(5,12)\n",
        "print(random_array)\n",
        "reshape_array = np.reshape(random_array,(12,5))\n",
        "print(reshape_array)"
      ]
    },
    {
      "cell_type": "markdown",
      "id": "391791e0",
      "metadata": {
        "id": "391791e0"
      },
      "source": [
        "#### Exercise: Create a function that normalize a 5x5 random matrix (★☆☆)\n",
        "\n",
        ">Remember from probability (https://en.wikipedia.org/wiki/Normalization_(statistics)) that :\n",
        "$$ x_{norm} = \\frac{x - \\bar{x}}{\\sigma}$$\n"
      ]
    },
    {
      "cell_type": "markdown",
      "source": [
        "\"Generally, normalization is a process that is used to rescale the real values of a numeric attribute into a range from 0 to 1. Normalization helps organize the data in such a way that it appears similar across all the areas and records. There are various advantages of data normalization, such as redundancy reduction, complexity reduction, clarity, and acquiring higher quality data.\"\n",
        "\n",
        "https://www.mygreatlearning.com/blog/numpy-normalization-tutorial/"
      ],
      "metadata": {
        "id": "XeYUIQmFWJen"
      },
      "id": "XeYUIQmFWJen"
    },
    {
      "cell_type": "code",
      "execution_count": null,
      "id": "f6533d39",
      "metadata": {
        "id": "f6533d39",
        "outputId": "72dfdb63-f786-478d-eb52-f2648e94ab0d",
        "colab": {
          "base_uri": "https://localhost:8080/"
        }
      },
      "outputs": [
        {
          "output_type": "stream",
          "name": "stdout",
          "text": [
            "[[0.93244356 0.22687592 6.75602791 5.03067163 1.56118017]\n",
            " [6.85768603 4.66574374 0.14340577 3.89609979 6.16425737]\n",
            " [8.11165549 0.56006582 3.73929568 2.71703816 3.20650694]\n",
            " [8.08160166 0.29681945 0.61153193 1.74786176 5.56714847]\n",
            " [4.05503281 9.06461157 1.51917607 2.74448732 1.95907764]]\n",
            "22.498334565884548\n",
            "[[0.041445   0.01008412 0.30029013 0.22360196 0.06939092]\n",
            " [0.30480861 0.20738174 0.00637406 0.17317281 0.27398727]\n",
            " [0.36054471 0.02489366 0.16620322 0.12076619 0.14252197]\n",
            " [0.35920888 0.01319295 0.02718121 0.0776885  0.24744714]\n",
            " [0.18023702 0.40290145 0.06752393 0.12198624 0.08707656]]\n"
          ]
        }
      ],
      "source": [
        "ran_two_array = np.random.rand(5, 5) *10 # defining a random array of 5 rows and 5 columns using  rand function of random sub module of the numpy library. Here 10 represents the range of the values of the elements which will be between 0 and 10\n",
        "print(ran_two_array)                       # printing the array\n",
        "norm = np.linalg.norm(ran_two_array)       # To find the norm of the array\n",
        "print(norm)                                # Printing the value of the norm\n",
        "normalized_array = ran_two_array/norm   # Formula used to perform array normalization\n",
        "print(normalized_array)          "
      ]
    },
    {
      "cell_type": "markdown",
      "id": "d2d143f1",
      "metadata": {
        "id": "d2d143f1"
      },
      "source": [
        "## Stacking numpy arrays\n",
        "\n",
        "Stacking is used to join a sequence of same dimension arrays along a new axis.\n",
        "\n",
        "`numpy.stack(arrays,axis)` : It returns a stacked array of the input arrays which has one more dimension than the input arrays.\n",
        "\n",
        "### You have two ways to do it:\n",
        "\n",
        "\n",
        "![alt text](./assets/stack.jpeg \"stack\")\n",
        "\n",
        "\n",
        "### or\n",
        "\n",
        "\n",
        "![alt text](./assets/stack2.jpeg \"stack\")\n",
        "\n",
        "\n"
      ]
    },
    {
      "cell_type": "markdown",
      "id": "1e74d39e",
      "metadata": {
        "id": "1e74d39e"
      },
      "source": [
        "#### Exercise: Generate two random arrays with integers and apply the stacking using `stack` (★★☆)"
      ]
    },
    {
      "cell_type": "code",
      "execution_count": null,
      "id": "3f639d33",
      "metadata": {
        "id": "3f639d33",
        "outputId": "f7b8b94b-4489-4b8f-b580-64b6703c79ce",
        "colab": {
          "base_uri": "https://localhost:8080/"
        }
      },
      "outputs": [
        {
          "output_type": "stream",
          "name": "stdout",
          "text": [
            "[74 32 43 91 14 91  0 73 39 28] [25 26 94 70 54 58 17 62 74 97]\n",
            "Apply stacking\n",
            "[[74 32 43 91 14 91  0 73 39 28]\n",
            " [25 26 94 70 54 58 17 62 74 97]]\n"
          ]
        }
      ],
      "source": [
        "a = np.random.randint(0, 100, 10)\n",
        "b = np.random.randint(0, 100, 10)\n",
        "print(a,b)\n",
        "print(\"Apply stacking\")\n",
        "stacked = np.stack((a,b))\n",
        "print(stacked)"
      ]
    },
    {
      "cell_type": "markdown",
      "id": "78250c14",
      "metadata": {
        "id": "78250c14"
      },
      "source": [
        "#### Exercise: Generate two random arrays with integers and apply the stacking using `hstack` and `vstack` (★★☆)"
      ]
    },
    {
      "cell_type": "markdown",
      "source": [
        "\"The major difference is that np.hstack combines NumPy arrays horizontally and np.vstack combines arrays vertically.\""
      ],
      "metadata": {
        "id": "LX6n7WVMX6gq"
      },
      "id": "LX6n7WVMX6gq"
    },
    {
      "cell_type": "code",
      "execution_count": null,
      "id": "9fe729cb",
      "metadata": {
        "id": "9fe729cb",
        "outputId": "5956d210-9e3f-45b9-e46f-8aa36ffac21d",
        "colab": {
          "base_uri": "https://localhost:8080/"
        }
      },
      "outputs": [
        {
          "output_type": "stream",
          "name": "stdout",
          "text": [
            "[[18  7]\n",
            " [ 3  5]]\n",
            "[18  7  3  5]\n"
          ]
        }
      ],
      "source": [
        "a = np.random.randint(0, 20, 2)\n",
        "b = np.random.randint(0, 20, 2)\n",
        "\n",
        "print(np.vstack((a,b)))\n",
        "\n",
        "print(np.hstack((a,b)))"
      ]
    },
    {
      "cell_type": "markdown",
      "id": "51898680",
      "metadata": {
        "id": "51898680"
      },
      "source": [
        "## Basic maths in numpy\n",
        "\n",
        "You can make typical math operations like:\n",
        "\n",
        "- Addition,Subtraction,Multiplication and Division between two arrays using numpy.\n",
        "- Operation on arrays using sum() & cumsum() function.\n",
        "- Minimum and Maximum value from an array.\n",
        "- Exponent/Power , Square Root and Cube Root functions.\n",
        "\n",
        "or even apply common trigonometric functions:\n",
        "\n",
        "- `numpy.sin()`:  Sine (x) Function\n",
        "- `numpy.cos()`: Cosine(x) Function\n",
        "- `numpy.tan()`: Tangent(x) Function\n",
        "- `numpy.sinh()`: Hyperbolic Sine (x) Function\n",
        "- `numpy.cosh()`: Hyperbolic Cosine(x) Function\n",
        "- `numpy.tanh()`: Hyperbolic Tangent(x) Function\n",
        "- `numpy.arcsin()`: Inverse Sine(x) Function\n",
        "- `numpy.arccos()`: Inverse Cosine(x) Function\n",
        "- `numpy.arctan()`: Inverse Tangent(X) Function\n",
        "- `numpy.pi`: Pi value π\n",
        "- `numpy.hypot(w,h)`: For calculating Hypotenuse $c = \\sqrt{(w^2 + h^2)}$\n",
        "- `numpy.rad2deg()`: Radians to degrees\n",
        "- `numpy.deg2rad()`: Degrees to radians"
      ]
    },
    {
      "cell_type": "markdown",
      "id": "89e78048",
      "metadata": {
        "id": "89e78048"
      },
      "source": [
        "#### Exercise: Generate two random 8 - dimensional vectors and apply the most common operation between vectors:  addition, substraction, multiplication, division(★☆☆)\n",
        "\n",
        ">Check the math functions here: https://numpy.org/doc/stable/reference/routines.math.html"
      ]
    },
    {
      "cell_type": "code",
      "execution_count": 3,
      "id": "b62e9d1c",
      "metadata": {
        "id": "b62e9d1c",
        "outputId": "59fc2490-24bf-43b7-c951-3f1f532ee85e",
        "colab": {
          "base_uri": "https://localhost:8080/"
        }
      },
      "outputs": [
        {
          "output_type": "stream",
          "name": "stdout",
          "text": [
            "[1 6 9 7 7 9 4 3]\n",
            "[3 4 5 6 2 7 8 3]\n",
            "Addition\n",
            "[ 4 10 14 13  9 16 12  6]\n",
            "Substraction\n",
            "[-2  2  4  1  5  2 -4  0]\n",
            "Multiplication\n",
            "[ 3 24 45 42 14 63 32  9]\n",
            "Division\n",
            "[0.33333333 1.5        1.8        1.16666667 3.5        1.28571429\n",
            " 0.5        1.        ]\n"
          ]
        }
      ],
      "source": [
        "r_1 = np.random.randint(1, 10, 8)\n",
        "r_2 = np.random.randint(1, 10, 8)\n",
        "\n",
        "print(r_1)\n",
        "print(r_2)\n",
        "print(\"Addition\")\n",
        "print(np.add(r_1,r_2))\n",
        "print(\"Substraction\")\n",
        "print(np.subtract(r_1,r_2))\n",
        "print(\"Multiplication\")\n",
        "print(np.multiply(r_1,r_2))\n",
        "print(\"Division\")\n",
        "print(np.divide(r_1,r_2))\n",
        "\n"
      ]
    },
    {
      "cell_type": "markdown",
      "id": "ebd10810",
      "metadata": {
        "id": "ebd10810"
      },
      "source": [
        "#### Exercise: Generate two random matrices with dimensions between 5 and 10. For example, try 5x7 vs 8x9. Were you able to do the matrix multiplication? why? (★★☆) "
      ]
    },
    {
      "cell_type": "markdown",
      "source": [
        "\"There are three main ways to perform NumPy matrix multiplication:\n",
        "\n",
        "**np.dot(array a, array b):** returns the scalar or dot product of two arrays\n",
        "\n",
        "**np.matmul(array a, array b)**: returns the matrix product of two arrays\n",
        "\n",
        "**np.multiply(array a, array b):** returns the element-wise matrix multiplication of two arrays\""
      ],
      "metadata": {
        "id": "CzEaffyMbb1K"
      },
      "id": "CzEaffyMbb1K"
    },
    {
      "cell_type": "code",
      "source": [
        "r1 = np.random.randint(1, 10, (5,7))\n",
        "r2 = np.random.randint(1, 10, (8,9))\n",
        "\n",
        "#It’s important to note that we can only multiply two matrices if the number of columns in the first matrix is equal to the number of rows in the second matrix.\n",
        "\n",
        "\n",
        "# np.dot(r1,r2) # ValueError: shapes (5,7) and (8,9) not aligned: 7 (dim 1) != 8 (dim 0)\n",
        "# np.matmul(r1,r2) #ValueError: (size 8 is different from 7)\n",
        "\n",
        "#np.multiply(r1,r2) # ValueError: operands could not be broadcast together with shapes (5,7) (8,9) "
      ],
      "metadata": {
        "id": "wfrUGZRsbqaW",
        "outputId": "3040855a-99db-46f6-ac44-f81155e73dca",
        "colab": {
          "base_uri": "https://localhost:8080/"
        }
      },
      "id": "wfrUGZRsbqaW",
      "execution_count": null,
      "outputs": [
        {
          "output_type": "execute_result",
          "data": {
            "text/plain": [
              "array([[84, 66],\n",
              "       [95, 81],\n",
              "       [84, 63],\n",
              "       [54, 45],\n",
              "       [44, 38]])"
            ]
          },
          "metadata": {},
          "execution_count": 116
        }
      ]
    },
    {
      "cell_type": "markdown",
      "id": "c0e940f8",
      "metadata": {
        "id": "c0e940f8"
      },
      "source": [
        "#### Exercise: Given 2 numpy arrays as matrices, output the result of multiplying the 2 matrices (as a numpy array) Were you able to do the matrix multiplication? (★★☆) \n",
        "\n",
        "$$ a = \\left(\\begin{matrix}\n",
        "0 & 1 & 2\\\\ \n",
        "3 & 4 & 5\\\\ \n",
        "6 & 7 & 8\n",
        "\\end{matrix}\\right)$$\n",
        "\n",
        "$$ b = \\left(\\begin{matrix}\n",
        "2 & 3 & 4\\\\ \n",
        "5 & 6 & 7\\\\ \n",
        "8 & 9 & 10\n",
        "\\end{matrix}\\right)$$\n",
        "\n",
        "\n"
      ]
    },
    {
      "cell_type": "code",
      "execution_count": null,
      "id": "820dc7a5",
      "metadata": {
        "id": "820dc7a5",
        "outputId": "0516519f-e210-4df2-a485-e499ea5a6fcc",
        "colab": {
          "base_uri": "https://localhost:8080/"
        }
      },
      "outputs": [
        {
          "output_type": "stream",
          "name": "stdout",
          "text": [
            "[[0 1 2]\n",
            " [3 4 5]\n",
            " [6 7 8]]\n",
            "[[ 2  3  4]\n",
            " [ 5  6  7]\n",
            " [ 8  9 10]]\n",
            "[[ 21  24  27]\n",
            " [ 66  78  90]\n",
            " [111 132 153]]\n"
          ]
        }
      ],
      "source": [
        "a = np.arange(0,9).reshape(3,3)\n",
        "print(a)\n",
        "\n",
        "b = np.arange(2,11).reshape(3,3)\n",
        "print(b)\n",
        "\n",
        "print(np.dot(a,b))"
      ]
    },
    {
      "cell_type": "markdown",
      "id": "22713c3f",
      "metadata": {
        "id": "22713c3f"
      },
      "source": [
        "#### Exercise: Multiply a 5x3 matrix by a 3x2 matrix (real matrix product) (★★☆)"
      ]
    },
    {
      "cell_type": "code",
      "execution_count": null,
      "id": "a3e05c29",
      "metadata": {
        "id": "a3e05c29",
        "outputId": "239343bb-0c57-4e44-c66a-278d034db562",
        "colab": {
          "base_uri": "https://localhost:8080/"
        }
      },
      "outputs": [
        {
          "output_type": "stream",
          "name": "stdout",
          "text": [
            "First matrix:\n",
            "[[0.73864756 0.99711069 0.60234462]\n",
            " [0.46963915 0.30728332 0.65271959]\n",
            " [0.44243073 0.99737885 0.20915235]\n",
            " [0.51443626 0.79561162 0.85242699]\n",
            " [0.30140099 0.52046845 0.04066741]]\n",
            "Second matrix:\n",
            "[[0.64460816 0.69053492]\n",
            " [0.70606773 0.10174835]\n",
            " [0.16356823 0.27648416]]\n",
            "Product\n",
            "[[1.27869036 0.77805505]\n",
            " [0.62646025 0.53603443]\n",
            " [1.02362216 0.46482284]\n",
            " [1.03279547 0.67187093]\n",
            " [0.56842341 0.27232861]]\n"
          ]
        }
      ],
      "source": [
        "a = np.random.random((5,3))\n",
        "print(\"First matrix:\")\n",
        "print(a)\n",
        "b = np.random.random((3,2))\n",
        "print(\"Second matrix:\")\n",
        "print(b)\n",
        "c = np.matmul(a, b)\n",
        "print(\"Product\")\n",
        "print(c)"
      ]
    },
    {
      "cell_type": "markdown",
      "id": "4815930e",
      "metadata": {
        "id": "4815930e"
      },
      "source": [
        "## Data types\n",
        "\n",
        "Do you think the following preposition is true?\n",
        "\n",
        "`8==8`\n",
        "\n",
        "Surely you will definetely say yes, which is true mathematically, but computationally it is not always the same, at least in terms of memory. For example, run the following cell:"
      ]
    },
    {
      "cell_type": "code",
      "execution_count": null,
      "id": "cd81c3c6",
      "metadata": {
        "id": "cd81c3c6",
        "outputId": "83b5064a-7079-48ed-eb6d-9ad72325adca",
        "colab": {
          "base_uri": "https://localhost:8080/"
        }
      },
      "outputs": [
        {
          "output_type": "stream",
          "name": "stdout",
          "text": [
            "int64: 96\n",
            "int8: 89\n",
            "float32: 92\n"
          ]
        }
      ],
      "source": [
        "import sys\n",
        "\n",
        "# int64\n",
        "x = np.array(123)\n",
        "print(\"int64: \" + str(sys.getsizeof(x)))\n",
        "\n",
        "# int8\n",
        "x = np.array(123,dtype=np.int8)\n",
        "print(\"int8: \" + str(sys.getsizeof(x)))\n",
        "\n",
        "# float32\n",
        "x = np.array(123,dtype=np.float32)\n",
        "print(\"float32: \" + str(sys.getsizeof(x)))"
      ]
    },
    {
      "cell_type": "markdown",
      "id": "8e34f294",
      "metadata": {
        "id": "8e34f294"
      },
      "source": [
        "#### It turns out that there are many computational representation of the same number and you can create arrays with different Data Types (dtypes) depending on what you need:\n",
        "\n",
        "- Boolean : `np.bool_`\n",
        "- Char : `np.byte`\n",
        "- Short : `np.short`\n",
        "- Integer : `np.short`\n",
        "- Long : `np.int_`\n",
        "- Float : `np.single`&np.float32`\n",
        "- Double :`np.double`&`np.float64`\n",
        "- `np.int8`: integer (-128 to 127)\n",
        "- `np.int16`:integer( -32768 to 32767)\n",
        "- `np.int32`: integer(-2147483648 to 2147483647)\n",
        "- `np.int64`:integer( -9223372036854775808 to 9223372036854775807)\n",
        "\n",
        "\n",
        "Sometimes, you will need to load, create or export arrays from different data types.\n"
      ]
    },
    {
      "cell_type": "code",
      "execution_count": null,
      "id": "890bde78",
      "metadata": {
        "id": "890bde78"
      },
      "outputs": [],
      "source": [
        ""
      ]
    },
    {
      "cell_type": "markdown",
      "id": "f1ae2c2d",
      "metadata": {
        "id": "f1ae2c2d"
      },
      "source": [
        "## Harder exercises\n",
        "\n",
        "The next exercises are related with real situations you could face while you are working in data science and machine learning. Also, we will be frequently talking about matrices and bidimensional arrays."
      ]
    },
    {
      "cell_type": "markdown",
      "id": "759c9c8d",
      "metadata": {
        "id": "759c9c8d"
      },
      "source": [
        "#### Exercise: Subtract the mean of each row of a matrix (★★☆)"
      ]
    },
    {
      "cell_type": "code",
      "execution_count": null,
      "id": "6801c73d",
      "metadata": {
        "colab": {
          "base_uri": "https://localhost:8080/"
        },
        "id": "6801c73d",
        "outputId": "1c007936-9892-41da-fb98-fd102306811e"
      },
      "outputs": [
        {
          "output_type": "stream",
          "name": "stdout",
          "text": [
            "[[1 2 3]\n",
            " [4 1 2]\n",
            " [4 2 1]]\n",
            "[[2.        ]\n",
            " [2.33333333]\n",
            " [2.33333333]]\n",
            "[[-1.          0.          1.        ]\n",
            " [ 1.66666667 -1.33333333 -0.33333333]\n",
            " [ 1.66666667 -0.33333333 -1.33333333]]\n"
          ]
        }
      ],
      "source": [
        "matrix = np.random.randint(5,size=(3,3))\n",
        "print(matrix)\n",
        "promedio = matrix.mean(axis=1, keepdims=True)\n",
        "print(promedio)\n",
        "new_matrix = matrix - promedio\n",
        "print(new_matrix)\n",
        "\n"
      ]
    },
    {
      "cell_type": "markdown",
      "id": "129c342d",
      "metadata": {
        "id": "129c342d"
      },
      "source": [
        "#### Exercise: How to get the dates of yesterday, today and tomorrow? (★★☆)\n",
        "\n",
        ">Check `np.datetime64`, `np.timedelta64` in numpy (https://numpy.org/doc/stable/reference/arrays.datetime.html)"
      ]
    },
    {
      "cell_type": "code",
      "execution_count": null,
      "id": "8ba1badb",
      "metadata": {
        "colab": {
          "base_uri": "https://localhost:8080/"
        },
        "id": "8ba1badb",
        "outputId": "0dd91e50-9883-451d-ab41-d06cb81769a4"
      },
      "outputs": [
        {
          "output_type": "stream",
          "name": "stdout",
          "text": [
            "2022-05-20\n",
            "2022-05-19\n",
            "2022-05-21\n"
          ]
        }
      ],
      "source": [
        "today = np.datetime64(\"today\", \"D\")\n",
        "print(today)\n",
        "\n",
        "ayer = today - np.timedelta64(1,\"D\")\n",
        "print(ayer)\n",
        "mañana = today + np.timedelta64(1,\"D\")\n",
        "print(mañana)"
      ]
    },
    {
      "cell_type": "markdown",
      "id": "42f8b2f9",
      "metadata": {
        "id": "42f8b2f9"
      },
      "source": [
        "#### Exercise: How to get all the dates corresponding to the month of December 2022? (★★☆)\n",
        "Combine `arange`with `datetime`\n"
      ]
    },
    {
      "cell_type": "code",
      "execution_count": null,
      "id": "eb8ebe45",
      "metadata": {
        "colab": {
          "base_uri": "https://localhost:8080/"
        },
        "id": "eb8ebe45",
        "outputId": "0e9d19d1-812a-4c2f-e3bd-f15cd0cfec45"
      },
      "outputs": [
        {
          "output_type": "execute_result",
          "data": {
            "text/plain": [
              "array(['2022-12-01', '2022-12-02', '2022-12-03', '2022-12-04',\n",
              "       '2022-12-05', '2022-12-06', '2022-12-07', '2022-12-08',\n",
              "       '2022-12-09', '2022-12-10', '2022-12-11', '2022-12-12',\n",
              "       '2022-12-13', '2022-12-14', '2022-12-15', '2022-12-16',\n",
              "       '2022-12-17', '2022-12-18', '2022-12-19', '2022-12-20',\n",
              "       '2022-12-21', '2022-12-22', '2022-12-23', '2022-12-24',\n",
              "       '2022-12-25', '2022-12-26', '2022-12-27', '2022-12-28',\n",
              "       '2022-12-29', '2022-12-30', '2022-12-31'], dtype='datetime64[D]')"
            ]
          },
          "metadata": {},
          "execution_count": 20
        }
      ],
      "source": [
        "np.arange(\"2022-12\",\"2023-01\",dtype=\"datetime64[D]\")"
      ]
    },
    {
      "cell_type": "markdown",
      "id": "486df8ea",
      "metadata": {
        "id": "486df8ea"
      },
      "source": [
        "#### Exercise: Extract the integer part of a random array of positive numbers using 2 different methods (★★☆)"
      ]
    },
    {
      "cell_type": "code",
      "execution_count": null,
      "id": "34b4fa08",
      "metadata": {
        "colab": {
          "base_uri": "https://localhost:8080/"
        },
        "id": "34b4fa08",
        "outputId": "977ca9c0-ad9b-4229-d00a-763794b9cfd9"
      },
      "outputs": [
        {
          "output_type": "execute_result",
          "data": {
            "text/plain": [
              "array([2., 1., 2., 4., 1.])"
            ]
          },
          "metadata": {},
          "execution_count": 34
        }
      ],
      "source": [
        "arreglo = np.random.uniform(1,5,5)\n",
        "#np.floor(arreglo)\n",
        "#arreglo.astype(int)\n",
        "#print(arreglo//1)\n",
        "#np.trunc(arreglo)"
      ]
    },
    {
      "cell_type": "markdown",
      "id": "649e89f9",
      "metadata": {
        "id": "649e89f9"
      },
      "source": [
        "#### Exercise: Create a 5x5 matrix with row values ranging from 0 to 4 (★★☆)"
      ]
    },
    {
      "cell_type": "code",
      "execution_count": null,
      "id": "663cc611",
      "metadata": {
        "colab": {
          "base_uri": "https://localhost:8080/"
        },
        "id": "663cc611",
        "outputId": "46e3af7f-849b-4b6e-e722-9023038509f5"
      },
      "outputs": [
        {
          "output_type": "stream",
          "name": "stdout",
          "text": [
            "[[0 1 2 3 4]\n",
            " [0 1 2 3 4]\n",
            " [0 1 2 3 4]\n",
            " [0 1 2 3 4]\n",
            " [0 1 2 3 4]]\n"
          ]
        }
      ],
      "source": [
        "matrix = np.tile(np.arange(0,5),(5,1))\n",
        "print(matrix)"
      ]
    },
    {
      "cell_type": "code",
      "source": [
        "x = np.zeros((5,5))\n",
        "x += np.arange(5)\n",
        "print(x)"
      ],
      "metadata": {
        "colab": {
          "base_uri": "https://localhost:8080/"
        },
        "id": "_JuGcb-j1hdE",
        "outputId": "e32445e9-9653-4755-df9b-6ccdb74cb1bf"
      },
      "id": "_JuGcb-j1hdE",
      "execution_count": null,
      "outputs": [
        {
          "output_type": "stream",
          "name": "stdout",
          "text": [
            "[[0. 1. 2. 3. 4.]\n",
            " [0. 1. 2. 3. 4.]\n",
            " [0. 1. 2. 3. 4.]\n",
            " [0. 1. 2. 3. 4.]\n",
            " [0. 1. 2. 3. 4.]]\n"
          ]
        }
      ]
    },
    {
      "cell_type": "markdown",
      "id": "3421e17f",
      "metadata": {
        "id": "3421e17f"
      },
      "source": [
        "#### Exercise: Consider a generator function that generates 10 integers and use it to build an array (★★☆)"
      ]
    },
    {
      "cell_type": "code",
      "execution_count": null,
      "id": "7336b8e4",
      "metadata": {
        "colab": {
          "base_uri": "https://localhost:8080/"
        },
        "id": "7336b8e4",
        "outputId": "88c41125-3f08-4ec1-f6b0-24f7db8ba040"
      },
      "outputs": [
        {
          "output_type": "stream",
          "name": "stdout",
          "text": [
            "[0 1 2 3 4 5 6 7 8 9]\n"
          ]
        }
      ],
      "source": [
        "def generate():\n",
        "  for x in range(10):\n",
        "    yield x\n",
        "\n",
        "Z = np.fromiter(generate(),dtype=int, count= -1)\n",
        "print(Z)"
      ]
    },
    {
      "cell_type": "markdown",
      "id": "483dd554",
      "metadata": {
        "id": "483dd554"
      },
      "source": [
        "#### Exercise: Create a vector of size 10 with values ranging from 0 to 1, both excluded (★★☆)"
      ]
    },
    {
      "cell_type": "code",
      "execution_count": 4,
      "id": "c89b93e7",
      "metadata": {
        "id": "c89b93e7",
        "outputId": "f123aaf7-5d73-409f-9517-6501f539f513",
        "colab": {
          "base_uri": "https://localhost:8080/"
        }
      },
      "outputs": [
        {
          "output_type": "stream",
          "name": "stdout",
          "text": [
            "[0.09090909 0.18181818 0.27272727 0.36363636 0.45454545 0.54545455\n",
            " 0.63636364 0.72727273 0.81818182 0.90909091]\n"
          ]
        }
      ],
      "source": [
        "x = np.linspace(0,1,12,endpoint=True)[1:-1]\n",
        "print(x)"
      ]
    },
    {
      "cell_type": "markdown",
      "id": "2d07be1c",
      "metadata": {
        "id": "2d07be1c"
      },
      "source": [
        "#### Exercise: Create a random vector of size 10 and sort it (★★☆)"
      ]
    },
    {
      "cell_type": "code",
      "execution_count": 8,
      "id": "4f7cb3ad",
      "metadata": {
        "id": "4f7cb3ad",
        "outputId": "fb4c14ef-72ef-44aa-a15e-155593983721",
        "colab": {
          "base_uri": "https://localhost:8080/"
        }
      },
      "outputs": [
        {
          "output_type": "stream",
          "name": "stdout",
          "text": [
            "[19  3  8 11 19 10 17 10  9 10]\n",
            "[ 3  8  9 10 10 10 11 17 19 19]\n"
          ]
        }
      ],
      "source": [
        "v = np.random.randint(20, size=10)\n",
        "print(v)\n",
        "sorted_v = np.sort(v)\n",
        "print(sorted_v)"
      ]
    },
    {
      "cell_type": "markdown",
      "id": "fe043549",
      "metadata": {
        "id": "fe043549"
      },
      "source": [
        "#### Exercise: Consider two random arrays A and B, check if they are equal (★★☆)"
      ]
    },
    {
      "cell_type": "code",
      "execution_count": 9,
      "id": "3326a686",
      "metadata": {
        "id": "3326a686",
        "outputId": "764b960e-464b-4422-f1d4-4ae048c5c1fd",
        "colab": {
          "base_uri": "https://localhost:8080/"
        }
      },
      "outputs": [
        {
          "output_type": "stream",
          "name": "stdout",
          "text": [
            "[ 3  9  6  7 15 16 17  8 13 11]\n",
            "[ 0 11 16  7 17  0  7 17 18 14]\n",
            "[False False False  True False False False False False False]\n"
          ]
        }
      ],
      "source": [
        "a = np.random.randint(20, size=10)\n",
        "print(a)\n",
        "b = np.random.randint(20, size=10)\n",
        "print(b)\n",
        "\n",
        "print(a==b)"
      ]
    },
    {
      "cell_type": "markdown",
      "id": "2002cb03",
      "metadata": {
        "id": "2002cb03"
      },
      "source": [
        "#### Exercise: Consider a random 10x2 matrix representing cartesian coordinates, convert them to polar coordinates (★★★)\n",
        ">Suggestion: check how to calculate the \"square of a matrix\""
      ]
    },
    {
      "cell_type": "markdown",
      "source": [
        "\"To convert from Cartesian coordinates to polar coordinates: r=√x2+y2 . Since tanθ=yx, θ=tan−1(yx) . So, the Cartesian ordered pair (x,y) converts to the Polar ordered pair (r,θ)=(√x2+y2,tan−1(yx)) .\""
      ],
      "metadata": {
        "id": "t1WfQ45EaNVe"
      },
      "id": "t1WfQ45EaNVe"
    },
    {
      "cell_type": "code",
      "execution_count": 11,
      "id": "58be72bc",
      "metadata": {
        "id": "58be72bc",
        "outputId": "009e210a-1e4c-4e95-e61c-2c143c90eaf7",
        "colab": {
          "base_uri": "https://localhost:8080/"
        }
      },
      "outputs": [
        {
          "output_type": "stream",
          "name": "stdout",
          "text": [
            "[[0.44501366 0.56096217]\n",
            " [0.93550372 0.02050123]\n",
            " [0.49551079 0.59123789]\n",
            " [0.89355567 0.13274301]\n",
            " [0.71911758 0.81514482]\n",
            " [0.14608074 0.33728885]\n",
            " [0.93568437 0.17027719]\n",
            " [0.24931365 0.32029028]\n",
            " [0.33653793 0.65233236]\n",
            " [0.29910444 0.32645546]]\n",
            "[0.7160417  0.93572833 0.77142283 0.90336174 1.08701019 0.36756408\n",
            " 0.95105182 0.40588565 0.73402676 0.44276024]\n",
            "[0.90015153 0.02191113 0.87325717 0.14747737 0.84790517 1.16208261\n",
            " 0.18001153 0.90936617 1.09451018 0.82909281]\n"
          ]
        }
      ],
      "source": [
        "z= np.random.random((10,2))\n",
        "print(z)\n",
        "x,y = z[:,0], z[:,1]\n",
        "r = np.sqrt(x**2+y**2)\n",
        "t = np.arctan2(y,x) #The numpy.arctan2() method computes element-wise arc tangent of arr1/arr2 choosing the quadrant correctly\n",
        "print(r)\n",
        "print(t)"
      ]
    },
    {
      "cell_type": "markdown",
      "id": "b7109c9f",
      "metadata": {
        "id": "b7109c9f"
      },
      "source": [
        "#### Exercise: Create random vector of size 10 and replace the maximum value by 0 (★★☆)"
      ]
    },
    {
      "cell_type": "code",
      "execution_count": 16,
      "id": "f79e79a7",
      "metadata": {
        "id": "f79e79a7",
        "outputId": "d5eef9c9-f989-4aa2-cc6e-22736e57018f",
        "colab": {
          "base_uri": "https://localhost:8080/"
        }
      },
      "outputs": [
        {
          "output_type": "stream",
          "name": "stdout",
          "text": [
            "[85 75 10 65 23 70 72 92 28 71]\n",
            "[85 75 10 65 23 70 72  0 28 71]\n"
          ]
        }
      ],
      "source": [
        "rv = np.random.randint(1,100, size=10)\n",
        "print(rv)\n",
        "#numpy.argmax returns the indices of the maximum values along an axis.\n",
        "rv[rv.argmax()] = 0\n",
        "print(rv)"
      ]
    },
    {
      "cell_type": "markdown",
      "id": "fb24674c",
      "metadata": {
        "id": "fb24674c"
      },
      "source": [
        "#### Exercise: How to print all the values of an array? (★★☆)"
      ]
    },
    {
      "cell_type": "code",
      "execution_count": 18,
      "id": "c81f1456",
      "metadata": {
        "id": "c81f1456",
        "outputId": "cb1a1f45-6759-42d5-a8f4-790dd1dffd51",
        "colab": {
          "base_uri": "https://localhost:8080/"
        }
      },
      "outputs": [
        {
          "output_type": "stream",
          "name": "stdout",
          "text": [
            "[   0    1    2 ...  998  999 1000]\n",
            "[   0    1    2    3    4    5    6    7    8    9   10   11   12   13\n",
            "   14   15   16   17   18   19   20   21   22   23   24   25   26   27\n",
            "   28   29   30   31   32   33   34   35   36   37   38   39   40   41\n",
            "   42   43   44   45   46   47   48   49   50   51   52   53   54   55\n",
            "   56   57   58   59   60   61   62   63   64   65   66   67   68   69\n",
            "   70   71   72   73   74   75   76   77   78   79   80   81   82   83\n",
            "   84   85   86   87   88   89   90   91   92   93   94   95   96   97\n",
            "   98   99  100  101  102  103  104  105  106  107  108  109  110  111\n",
            "  112  113  114  115  116  117  118  119  120  121  122  123  124  125\n",
            "  126  127  128  129  130  131  132  133  134  135  136  137  138  139\n",
            "  140  141  142  143  144  145  146  147  148  149  150  151  152  153\n",
            "  154  155  156  157  158  159  160  161  162  163  164  165  166  167\n",
            "  168  169  170  171  172  173  174  175  176  177  178  179  180  181\n",
            "  182  183  184  185  186  187  188  189  190  191  192  193  194  195\n",
            "  196  197  198  199  200  201  202  203  204  205  206  207  208  209\n",
            "  210  211  212  213  214  215  216  217  218  219  220  221  222  223\n",
            "  224  225  226  227  228  229  230  231  232  233  234  235  236  237\n",
            "  238  239  240  241  242  243  244  245  246  247  248  249  250  251\n",
            "  252  253  254  255  256  257  258  259  260  261  262  263  264  265\n",
            "  266  267  268  269  270  271  272  273  274  275  276  277  278  279\n",
            "  280  281  282  283  284  285  286  287  288  289  290  291  292  293\n",
            "  294  295  296  297  298  299  300  301  302  303  304  305  306  307\n",
            "  308  309  310  311  312  313  314  315  316  317  318  319  320  321\n",
            "  322  323  324  325  326  327  328  329  330  331  332  333  334  335\n",
            "  336  337  338  339  340  341  342  343  344  345  346  347  348  349\n",
            "  350  351  352  353  354  355  356  357  358  359  360  361  362  363\n",
            "  364  365  366  367  368  369  370  371  372  373  374  375  376  377\n",
            "  378  379  380  381  382  383  384  385  386  387  388  389  390  391\n",
            "  392  393  394  395  396  397  398  399  400  401  402  403  404  405\n",
            "  406  407  408  409  410  411  412  413  414  415  416  417  418  419\n",
            "  420  421  422  423  424  425  426  427  428  429  430  431  432  433\n",
            "  434  435  436  437  438  439  440  441  442  443  444  445  446  447\n",
            "  448  449  450  451  452  453  454  455  456  457  458  459  460  461\n",
            "  462  463  464  465  466  467  468  469  470  471  472  473  474  475\n",
            "  476  477  478  479  480  481  482  483  484  485  486  487  488  489\n",
            "  490  491  492  493  494  495  496  497  498  499  500  501  502  503\n",
            "  504  505  506  507  508  509  510  511  512  513  514  515  516  517\n",
            "  518  519  520  521  522  523  524  525  526  527  528  529  530  531\n",
            "  532  533  534  535  536  537  538  539  540  541  542  543  544  545\n",
            "  546  547  548  549  550  551  552  553  554  555  556  557  558  559\n",
            "  560  561  562  563  564  565  566  567  568  569  570  571  572  573\n",
            "  574  575  576  577  578  579  580  581  582  583  584  585  586  587\n",
            "  588  589  590  591  592  593  594  595  596  597  598  599  600  601\n",
            "  602  603  604  605  606  607  608  609  610  611  612  613  614  615\n",
            "  616  617  618  619  620  621  622  623  624  625  626  627  628  629\n",
            "  630  631  632  633  634  635  636  637  638  639  640  641  642  643\n",
            "  644  645  646  647  648  649  650  651  652  653  654  655  656  657\n",
            "  658  659  660  661  662  663  664  665  666  667  668  669  670  671\n",
            "  672  673  674  675  676  677  678  679  680  681  682  683  684  685\n",
            "  686  687  688  689  690  691  692  693  694  695  696  697  698  699\n",
            "  700  701  702  703  704  705  706  707  708  709  710  711  712  713\n",
            "  714  715  716  717  718  719  720  721  722  723  724  725  726  727\n",
            "  728  729  730  731  732  733  734  735  736  737  738  739  740  741\n",
            "  742  743  744  745  746  747  748  749  750  751  752  753  754  755\n",
            "  756  757  758  759  760  761  762  763  764  765  766  767  768  769\n",
            "  770  771  772  773  774  775  776  777  778  779  780  781  782  783\n",
            "  784  785  786  787  788  789  790  791  792  793  794  795  796  797\n",
            "  798  799  800  801  802  803  804  805  806  807  808  809  810  811\n",
            "  812  813  814  815  816  817  818  819  820  821  822  823  824  825\n",
            "  826  827  828  829  830  831  832  833  834  835  836  837  838  839\n",
            "  840  841  842  843  844  845  846  847  848  849  850  851  852  853\n",
            "  854  855  856  857  858  859  860  861  862  863  864  865  866  867\n",
            "  868  869  870  871  872  873  874  875  876  877  878  879  880  881\n",
            "  882  883  884  885  886  887  888  889  890  891  892  893  894  895\n",
            "  896  897  898  899  900  901  902  903  904  905  906  907  908  909\n",
            "  910  911  912  913  914  915  916  917  918  919  920  921  922  923\n",
            "  924  925  926  927  928  929  930  931  932  933  934  935  936  937\n",
            "  938  939  940  941  942  943  944  945  946  947  948  949  950  951\n",
            "  952  953  954  955  956  957  958  959  960  961  962  963  964  965\n",
            "  966  967  968  969  970  971  972  973  974  975  976  977  978  979\n",
            "  980  981  982  983  984  985  986  987  988  989  990  991  992  993\n",
            "  994  995  996  997  998  999 1000]\n"
          ]
        }
      ],
      "source": [
        "my_array = np.arange(1001)\n",
        "#By default, printing a NumPy array that contains more than 1000 elements truncates the array\n",
        "print(my_array)\n",
        "\n",
        "np.set_printoptions(threshold=np.inf)\n",
        "print(my_array)\n"
      ]
    },
    {
      "cell_type": "markdown",
      "id": "48413134",
      "metadata": {
        "id": "48413134"
      },
      "source": [
        "#### Exercise: How to convert a float (32 bits) array into an integer (32 bits) in place?\n",
        ">Check: https://stackoverflow.com/a/4396247/5989906"
      ]
    },
    {
      "cell_type": "code",
      "execution_count": 22,
      "id": "5db64b6d",
      "metadata": {
        "id": "5db64b6d",
        "outputId": "6d243224-86a7-4712-a73e-9beb632d03a2",
        "colab": {
          "base_uri": "https://localhost:8080/"
        }
      },
      "outputs": [
        {
          "output_type": "stream",
          "name": "stdout",
          "text": [
            "[78.58143509 76.74038011 15.62376211  0.89616364 57.05483316  3.44594156\n",
            " 79.97131901 99.20740719 30.22111709 30.43850483] float64\n",
            "[78 76 15  0 57  3 79 99 30 30] int32\n"
          ]
        }
      ],
      "source": [
        "arr = np.random.uniform(0,100,10) # All values are between -30 and 100.\n",
        "print(arr, arr.dtype)\n",
        "\n",
        "#Use syntax numpy.ndarray.astype(dtype, copy=False) to convert numpy.ndarray to dtype without allocating new memory by reinterpreting the bytes of numpy.ndarray.\n",
        "\n",
        "arr = arr.astype(dtype=np.int32, copy=False)\n",
        "print(arr, arr.dtype)\n"
      ]
    },
    {
      "cell_type": "markdown",
      "id": "215b6acc",
      "metadata": {
        "id": "215b6acc"
      },
      "source": [
        "#### Exercise: Subtract the mean of each row of a matrix (★★☆)"
      ]
    },
    {
      "cell_type": "code",
      "execution_count": 23,
      "id": "dd1adef4",
      "metadata": {
        "id": "dd1adef4",
        "outputId": "c7425f57-791a-4f06-9bbf-8ed725af2b41",
        "colab": {
          "base_uri": "https://localhost:8080/"
        }
      },
      "outputs": [
        {
          "output_type": "stream",
          "name": "stdout",
          "text": [
            "[[0 3 0]\n",
            " [2 1 4]\n",
            " [2 3 1]]\n",
            "[[1.        ]\n",
            " [2.33333333]\n",
            " [2.        ]]\n",
            "[[-1.          2.         -1.        ]\n",
            " [-0.33333333 -1.33333333  1.66666667]\n",
            " [ 0.          1.         -1.        ]]\n"
          ]
        }
      ],
      "source": [
        "matrix = np.random.randint(5,size=(3,3))\n",
        "print(matrix)\n",
        "promedio = matrix.mean(axis=1, keepdims=True)\n",
        "print(promedio)\n",
        "new_matrix = matrix - promedio\n",
        "print(new_matrix)"
      ]
    },
    {
      "cell_type": "markdown",
      "id": "c0cf37e0",
      "metadata": {
        "id": "c0cf37e0"
      },
      "source": [
        "#### Exercise: How to sort an array by the nth column? (★★☆)"
      ]
    },
    {
      "cell_type": "code",
      "execution_count": 27,
      "id": "9336ca5f",
      "metadata": {
        "id": "9336ca5f",
        "outputId": "beb42f22-10d7-4b6e-9c0c-b94d15c9ef72",
        "colab": {
          "base_uri": "https://localhost:8080/"
        }
      },
      "outputs": [
        {
          "output_type": "stream",
          "name": "stdout",
          "text": [
            "[[4 5 6]\n",
            " [7 0 5]\n",
            " [9 2 3]]\n",
            "[[7 0 5]\n",
            " [9 2 3]\n",
            " [4 5 6]]\n"
          ]
        },
        {
          "output_type": "execute_result",
          "data": {
            "text/plain": [
              "array([[9, 2, 3],\n",
              "       [7, 0, 5],\n",
              "       [4, 5, 6]])"
            ]
          },
          "metadata": {},
          "execution_count": 27
        }
      ],
      "source": [
        "a = np.array([[9, 2, 3],\n",
        "           [4, 5, 6],\n",
        "           [7, 0, 5]])\n",
        "\n",
        "\n",
        "\n",
        "#Sort by first column\n",
        "\n",
        "print(a[a[:, 0].argsort()])\n",
        "\n",
        "#Sort by second column\n",
        "\n",
        "print(a[a[:, 1].argsort()])\n",
        "\n",
        "#Sort by third column\n",
        "\n",
        "a[a[:, 2].argsort()]"
      ]
    },
    {
      "cell_type": "markdown",
      "id": "c17fb213",
      "metadata": {
        "id": "c17fb213"
      },
      "source": [
        "#### Exercise: Find the position of the minimum of a 2D matrix (★★☆)"
      ]
    },
    {
      "cell_type": "code",
      "execution_count": null,
      "id": "7fdda78d",
      "metadata": {
        "id": "7fdda78d"
      },
      "outputs": [],
      "source": [
        ""
      ]
    },
    {
      "cell_type": "markdown",
      "id": "f4427f7f",
      "metadata": {
        "id": "f4427f7f"
      },
      "source": [
        "#### Exercise: Read an image using openCV, check its dimensions, normalize the numbers and show the image (★★★)\n",
        "\n",
        ">Check: https://www.geeksforgeeks.org/python-opencv-cv2-imread-method/"
      ]
    },
    {
      "cell_type": "code",
      "execution_count": null,
      "id": "fe253212",
      "metadata": {
        "id": "fe253212"
      },
      "outputs": [],
      "source": [
        ""
      ]
    },
    {
      "cell_type": "markdown",
      "id": "33c986d9",
      "metadata": {
        "id": "33c986d9"
      },
      "source": [
        "#### Exercise: Considering a four dimensions array, how to get the sum over the last two axis at once? (★★★)"
      ]
    },
    {
      "cell_type": "code",
      "execution_count": null,
      "id": "a99a50e2",
      "metadata": {
        "id": "a99a50e2"
      },
      "outputs": [],
      "source": [
        ""
      ]
    },
    {
      "cell_type": "markdown",
      "id": "928a1a15",
      "metadata": {
        "id": "928a1a15"
      },
      "source": [
        "#### Exercise: How to get the diagonal of a dot product? (★★★)"
      ]
    },
    {
      "cell_type": "code",
      "execution_count": null,
      "id": "ef2c9ddd",
      "metadata": {
        "id": "ef2c9ddd"
      },
      "outputs": [],
      "source": [
        ""
      ]
    },
    {
      "cell_type": "markdown",
      "id": "f62551d8",
      "metadata": {
        "id": "f62551d8"
      },
      "source": [
        "#### Exercise: Consider an array of dimension (5,5,3), how to mulitply it by an array with dimensions (5,5)? (★★★)"
      ]
    },
    {
      "cell_type": "code",
      "execution_count": null,
      "id": "9ab241b7",
      "metadata": {
        "id": "9ab241b7"
      },
      "outputs": [],
      "source": [
        ""
      ]
    },
    {
      "cell_type": "markdown",
      "id": "6896e326",
      "metadata": {
        "id": "6896e326"
      },
      "source": [
        "#### Exercise: How to swap two rows of an array? (★★★)"
      ]
    },
    {
      "cell_type": "code",
      "execution_count": null,
      "id": "9e8fcba9",
      "metadata": {
        "id": "9e8fcba9"
      },
      "outputs": [],
      "source": [
        ""
      ]
    },
    {
      "cell_type": "markdown",
      "id": "8e83df46",
      "metadata": {
        "id": "8e83df46"
      },
      "source": [
        "#### Exercise: Read an image using openCV and tranpose it. What did you get exactly? Was the image rotated? Moved? Reflected with respect to an axis? (★★★)"
      ]
    },
    {
      "cell_type": "code",
      "execution_count": null,
      "id": "f73127b7",
      "metadata": {
        "id": "f73127b7"
      },
      "outputs": [],
      "source": [
        ""
      ]
    },
    {
      "cell_type": "markdown",
      "id": "781fa236",
      "metadata": {
        "id": "781fa236"
      },
      "source": [
        "#### Exercise: Consider an array Z = [1,2,3,4,5,6,7,8,9,10,11,12,13,14], how to generate an array R = [[1,2,3,4], [2,3,4,5], [3,4,5,6], ..., [11,12,13,14]]? (★★★)"
      ]
    },
    {
      "cell_type": "code",
      "execution_count": null,
      "id": "8e84d3c2",
      "metadata": {
        "id": "8e84d3c2"
      },
      "outputs": [],
      "source": [
        ""
      ]
    },
    {
      "cell_type": "markdown",
      "id": "7d8dc135",
      "metadata": {
        "id": "7d8dc135"
      },
      "source": [
        "#### Exercise: How to find the most frequent value in an array? (★★★)"
      ]
    },
    {
      "cell_type": "code",
      "execution_count": null,
      "id": "3978a7a2",
      "metadata": {
        "id": "3978a7a2"
      },
      "outputs": [],
      "source": [
        ""
      ]
    },
    {
      "cell_type": "markdown",
      "id": "4c70397b",
      "metadata": {
        "id": "4c70397b"
      },
      "source": [
        "#### Exercise: How to get the n largest values of an array (★★★)"
      ]
    },
    {
      "cell_type": "code",
      "execution_count": null,
      "id": "16371718",
      "metadata": {
        "id": "16371718"
      },
      "outputs": [],
      "source": [
        ""
      ]
    },
    {
      "cell_type": "markdown",
      "id": "d94352b6",
      "metadata": {
        "id": "d94352b6"
      },
      "source": [
        "#### Exercise: Consider a large vector Z, compute Z to the power of 3 using 3 different methods (★★★)"
      ]
    },
    {
      "cell_type": "code",
      "execution_count": null,
      "id": "301ba8a8",
      "metadata": {
        "id": "301ba8a8"
      },
      "outputs": [],
      "source": [
        ""
      ]
    },
    {
      "cell_type": "markdown",
      "id": "2784c996",
      "metadata": {
        "id": "2784c996"
      },
      "source": [
        "#### Exercise: Given a two dimensional array, how to extract unique rows? (★★★)"
      ]
    },
    {
      "cell_type": "code",
      "execution_count": null,
      "id": "f030595f",
      "metadata": {
        "id": "f030595f"
      },
      "outputs": [],
      "source": [
        ""
      ]
    },
    {
      "cell_type": "markdown",
      "id": "e5737276",
      "metadata": {
        "id": "e5737276"
      },
      "source": [
        "#### Exercise: Can you have an array of strings? Can you mix different data types in the same array? Can you operate (add, sub, mult) arrays with different data types? (★★★)"
      ]
    },
    {
      "cell_type": "code",
      "execution_count": null,
      "id": "68c333b0",
      "metadata": {
        "id": "68c333b0"
      },
      "outputs": [],
      "source": [
        ""
      ]
    }
  ],
  "metadata": {
    "kernelspec": {
      "display_name": "Python 3",
      "language": "python",
      "name": "python3"
    },
    "language_info": {
      "codemirror_mode": {
        "name": "ipython",
        "version": 3
      },
      "file_extension": ".py",
      "mimetype": "text/x-python",
      "name": "python",
      "nbconvert_exporter": "python",
      "pygments_lexer": "ipython3",
      "version": "3.8.12"
    },
    "colab": {
      "name": "02.1-Intro-to-Numpy.ipynb",
      "provenance": []
    }
  },
  "nbformat": 4,
  "nbformat_minor": 5
}