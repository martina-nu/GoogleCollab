{
  "cells": [
    {
      "cell_type": "markdown",
      "id": "bdfbcacc",
      "metadata": {
        "id": "bdfbcacc"
      },
      "source": [
        "<img src=\"https://github.com/4GeeksAcademy/machine-learning-prework/blob/main/02-numpy/assets/numpy_logo.png?raw=1\" alt=\"logo\" width=\"400\"/>\n",
        "\n",
        "## Introduction to numpy\n",
        "\n",
        "NumPy stands for 'Numerical Python'. It is an open-source Python library used to perform various mathematical and scientific tasks. It contains multi-dimensional arrays and matrixes, along with many high-level mathematical functions that operate on them. It contains among other things:\n",
        "\n",
        "→ a powerful N-dimensional array object.\n",
        "\n",
        "→ sophisticated (broadcasting) functions.\n",
        "\n",
        "→ tools for integrating C/C++ and Fortran code.\n",
        "\n",
        "→ useful linear algebra, Fourier transform, and random number capabilities."
      ]
    },
    {
      "cell_type": "markdown",
      "id": "85902746",
      "metadata": {
        "id": "85902746"
      },
      "source": [
        "## Installing NumPy\n",
        "When you want to work with numpy locally, you should run the following commands:\n",
        "\n",
        "You can install NumPy with:\\\n",
        "`pip install numpy`\\\n",
        "or\\\n",
        "`conda install numpy`\n",
        "\n",
        "In our case, 4Geeks have prepared all the environment in order that you can work comfortably."
      ]
    },
    {
      "cell_type": "markdown",
      "id": "58765356",
      "metadata": {
        "id": "58765356"
      },
      "source": [
        "## Why should we use NumPy?\n",
        "\n",
        "Numpy is a library that performs numerical calculations in python. We will use it mainly because it allows us to create, modify matrixes, and do operations on them with ease.\n",
        "\n",
        "NumPy is like Pandas, Matplotlib or Scikit-Learn. It is one of the packages that you cannot miss when you are studying Machine Learning. Mainly because this library provides a matrix data structure that has some benefits over regular Python lists. Some of these benefits are: being more compact, quicker access to reading and writing articles, more convenient and efficient.\n",
        "\n",
        "For example, we will see later in the bootcamp that working with images is dealing with three-dimensional matrixes as large as 3840 x 2160, which means we will have 3×3840×2160 = 24883200 entries!!! 😱😱😱.\n",
        "\n",
        "Working with matrixes of that magnitude is practically impossible to carry out with lists and dictionaries if one wants to have an efficient and fast programming."
      ]
    },
    {
      "cell_type": "markdown",
      "id": "c4e52ee5",
      "metadata": {
        "id": "c4e52ee5"
      },
      "source": [
        "#### Exercise: Import the numpy package under the name `np` (★☆☆)\n",
        "\n",
        "`numpy` is commonly imported as `np` so we highly recommend to put this alias."
      ]
    },
    {
      "cell_type": "code",
      "execution_count": 1,
      "id": "ea3038d9",
      "metadata": {
        "id": "ea3038d9"
      },
      "outputs": [],
      "source": [
        "import numpy as np"
      ]
    },
    {
      "cell_type": "markdown",
      "id": "40631cd6",
      "metadata": {
        "id": "40631cd6"
      },
      "source": [
        "## What is an array and why it is important for Machine Learning?\n",
        "\n",
        "An array is a data structure consisting of a collection of elements (values or variables), each identified by at least one index or key.\n"
      ]
    },
    {
      "cell_type": "markdown",
      "id": "ce969254",
      "metadata": {
        "id": "ce969254"
      },
      "source": [
        "![alt text](assets/1D.png \"1D\")"
      ]
    },
    {
      "cell_type": "markdown",
      "id": "735d02e2",
      "metadata": {
        "id": "735d02e2"
      },
      "source": [
        "An array is known as the central data structure of the Numpy library; it can also be of several dimensions. For example, neural networks sometimes deal with 4D arrays.\n",
        "\n",
        "Later on, we are also going to use another kind of arrays called: Tensors."
      ]
    },
    {
      "cell_type": "markdown",
      "id": "a20ce3a4",
      "metadata": {
        "id": "a20ce3a4"
      },
      "source": [
        "![alt text](./assets/3D.png \"3D\")"
      ]
    },
    {
      "cell_type": "markdown",
      "id": "46950f4f",
      "metadata": {
        "id": "46950f4f"
      },
      "source": [
        "#### Exercise: Print the version and configuration of numpy (★☆☆)\n",
        "\n",
        "You can print the version of any package of Python using `name_of_package.__version__`"
      ]
    },
    {
      "cell_type": "code",
      "execution_count": null,
      "id": "2a9f5838",
      "metadata": {
        "id": "2a9f5838",
        "outputId": "9e931598-ed4c-47b2-e23b-44b9bc217d24"
      },
      "outputs": [
        {
          "name": "stdout",
          "output_type": "stream",
          "text": [
            "1.21.3\n"
          ]
        }
      ],
      "source": [
        "import numpy as np\n",
        "print(np.__version__)"
      ]
    },
    {
      "cell_type": "markdown",
      "id": "e3c20b3d",
      "metadata": {
        "id": "e3c20b3d"
      },
      "source": [
        "#### Exercise: Create a null vector of size 10 (★☆☆)\n",
        "\n",
        "A `null vector` is an array of zeros (`0`), also called `initialization vector`.\n",
        "\n",
        ">Check de function `np.zeros` (https://numpy.org/doc/stable/reference/generated/numpy.zeros.html)"
      ]
    },
    {
      "cell_type": "code",
      "execution_count": 2,
      "id": "8a758bcf",
      "metadata": {
        "id": "8a758bcf",
        "outputId": "ee2e6568-0101-40d0-ce65-1c2564fec16c",
        "colab": {
          "base_uri": "https://localhost:8080/"
        }
      },
      "outputs": [
        {
          "output_type": "execute_result",
          "data": {
            "text/plain": [
              "array([0., 0., 0., 0., 0., 0., 0., 0., 0., 0.])"
            ]
          },
          "metadata": {},
          "execution_count": 2
        }
      ],
      "source": [
        "np.zeros(10)"
      ]
    },
    {
      "cell_type": "markdown",
      "id": "6cbe7954",
      "metadata": {
        "id": "6cbe7954"
      },
      "source": [
        "#### Exercise: Create a vector of ones with size 10 (★☆☆)\n",
        "\n",
        ">Check de function `np.ones` (https://numpy.org/doc/stable/reference/generated/numpy.ones.html)"
      ]
    },
    {
      "cell_type": "code",
      "execution_count": 3,
      "id": "86477874",
      "metadata": {
        "id": "86477874",
        "outputId": "64cac585-c09e-435c-e464-ed28ab2dd088",
        "colab": {
          "base_uri": "https://localhost:8080/"
        }
      },
      "outputs": [
        {
          "output_type": "execute_result",
          "data": {
            "text/plain": [
              "array([1., 1., 1., 1., 1., 1., 1., 1., 1., 1.])"
            ]
          },
          "metadata": {},
          "execution_count": 3
        }
      ],
      "source": [
        "np.ones(10)"
      ]
    },
    {
      "cell_type": "markdown",
      "id": "0a708990",
      "metadata": {
        "id": "0a708990"
      },
      "source": [
        "#### Exercise: Create an 1D array with a specific start value, end value, and number of values (★☆☆)\n",
        "\n",
        ">Check the function `np.linspace` (https://numpy.org/doc/stable/reference/generated/numpy.linspace.html)"
      ]
    },
    {
      "cell_type": "code",
      "execution_count": 4,
      "id": "477e01f4",
      "metadata": {
        "id": "477e01f4",
        "outputId": "a9f424d5-04dd-4717-9022-d5755010f165",
        "colab": {
          "base_uri": "https://localhost:8080/"
        }
      },
      "outputs": [
        {
          "output_type": "execute_result",
          "data": {
            "text/plain": [
              "array([1.        , 1.11111111, 1.22222222, 1.33333333, 1.44444444,\n",
              "       1.55555556, 1.66666667, 1.77777778, 1.88888889, 2.        ])"
            ]
          },
          "metadata": {},
          "execution_count": 4
        }
      ],
      "source": [
        "np.linspace(1,2,10)"
      ]
    },
    {
      "cell_type": "markdown",
      "id": "782d4c77",
      "metadata": {
        "id": "782d4c77"
      },
      "source": [
        "#### Run: Create a vector (1D array) with random integers from 10 to 49 and dimension 1x35 (★☆☆)\n",
        "\n",
        "When `dimension` is expressed `1x35` it means: One dimension array with 35 items (length=35).\n",
        "\n",
        ">Check the function `np.random` which allows you to create random arrays (https://numpy.org/doc/1.16/reference/routines.random.html)"
      ]
    },
    {
      "cell_type": "code",
      "execution_count": 12,
      "id": "5dbe1a08",
      "metadata": {
        "id": "5dbe1a08",
        "outputId": "32c88ee2-b2e4-4ed7-9dde-0a2f203d405c",
        "colab": {
          "base_uri": "https://localhost:8080/"
        }
      },
      "outputs": [
        {
          "output_type": "stream",
          "name": "stdout",
          "text": [
            "[0.90666705 0.70121841 0.9617762  0.43889271 0.5323519  0.22807794\n",
            " 0.62892901 0.34939372 0.25170211 0.10926433]\n"
          ]
        }
      ],
      "source": [
        "import numpy as np\n",
        "\n",
        "## 10 random numbers between (0, 1)\n",
        "print(np.random.random(10)) "
      ]
    },
    {
      "cell_type": "code",
      "execution_count": 13,
      "id": "a9354456",
      "metadata": {
        "id": "a9354456",
        "outputId": "bd33f1fd-c419-4782-c57f-5c63cca938b3",
        "colab": {
          "base_uri": "https://localhost:8080/"
        }
      },
      "outputs": [
        {
          "output_type": "stream",
          "name": "stdout",
          "text": [
            "[0.66916193 0.91645771 0.90681464 0.13585408 0.51812297 0.78101946\n",
            " 0.26139777 0.98544708 0.46759922 0.13630126]\n",
            "[-0.40083568  1.91067682 -0.67016031 -1.92192514  0.95808487  0.13669545\n",
            " -1.63584847  0.36359165  0.63828228  1.09244371]\n"
          ]
        }
      ],
      "source": [
        "## Two ways to create numbers with normal distribution\n",
        "print(np.random.rand(10)) # 10 random values with distribution N(0,1)\n",
        "print(np.random.normal(loc = 0, scale = 1, size = 10)) # 10 random values with distribution N(0,1)"
      ]
    },
    {
      "cell_type": "code",
      "execution_count": 7,
      "id": "73ed6271",
      "metadata": {
        "id": "73ed6271",
        "outputId": "670bfa42-b931-4a0e-acdc-df62bcb39763",
        "colab": {
          "base_uri": "https://localhost:8080/"
        }
      },
      "outputs": [
        {
          "output_type": "stream",
          "name": "stdout",
          "text": [
            "[ 38.99557603  40.36385416 -13.96816617 -17.65426979   2.34587517\n",
            "  11.93450689   1.68958439  48.58208172  37.30408387  35.37720604]\n"
          ]
        }
      ],
      "source": [
        "## Did you notice the difference between both functions? \n",
        "print(np.random.normal(loc = -5, scale = 33, size = 10)) # 10 random values with distribution N(-5,33)"
      ]
    },
    {
      "cell_type": "code",
      "execution_count": 8,
      "id": "49ae7a5a",
      "metadata": {
        "id": "49ae7a5a",
        "outputId": "be71c47f-d0e6-498c-d032-8ba1179cd3d6",
        "colab": {
          "base_uri": "https://localhost:8080/"
        }
      },
      "outputs": [
        {
          "output_type": "stream",
          "name": "stdout",
          "text": [
            "[ 74.52624739   2.72296565  45.75252264  44.92848297  -8.81274528\n",
            " -19.03464485  57.84577544  32.56189166  42.17003072  95.73155888]\n"
          ]
        }
      ],
      "source": [
        "## 10 random values with uniform distribution. That means, all values have the same probability\n",
        "print(np.random.uniform(-30,100,10)) # All values are between -30 and 100."
      ]
    },
    {
      "cell_type": "code",
      "execution_count": 9,
      "id": "f78e72cb",
      "metadata": {
        "id": "f78e72cb",
        "outputId": "3a9f4f1a-12e7-4e8a-9fe8-aca1b642cc07",
        "colab": {
          "base_uri": "https://localhost:8080/"
        }
      },
      "outputs": [
        {
          "output_type": "stream",
          "name": "stdout",
          "text": [
            "[78  8 65 17 67 85 91 20 44 46]\n"
          ]
        }
      ],
      "source": [
        "# 10 integers values between 0 and 100.\n",
        "print(np.random.randint(0, 100, 10))"
      ]
    },
    {
      "cell_type": "code",
      "execution_count": 10,
      "id": "db278431",
      "metadata": {
        "id": "db278431",
        "outputId": "28e1e1d9-1cf8-41a9-dd3b-0584eddf371d",
        "colab": {
          "base_uri": "https://localhost:8080/"
        }
      },
      "outputs": [
        {
          "output_type": "stream",
          "name": "stdout",
          "text": [
            "[12.11213674  4.33656542  0.43534211  6.89514359  9.71031171  4.6660105\n",
            "  2.06807835  8.02856223  1.85624211 13.54187938]\n"
          ]
        }
      ],
      "source": [
        "# 10 random values with Chi distribution with 5 degrees of freedom\n",
        "print(np.random.chisquare(5,10))"
      ]
    },
    {
      "cell_type": "markdown",
      "id": "1b7841da",
      "metadata": {
        "id": "1b7841da"
      },
      "source": [
        "The above examples are the most common distribution and random values you will learn throughout the bootcamp. Now, let's deal with those arrays."
      ]
    },
    {
      "cell_type": "markdown",
      "id": "48d48f01",
      "metadata": {
        "id": "48d48f01"
      },
      "source": [
        "#### Exercise: Reverse one of the last vector we created before (first element becomes last) (★☆☆)\n",
        "Try with `[::-1]`"
      ]
    },
    {
      "cell_type": "code",
      "execution_count": 15,
      "id": "3ed233e7",
      "metadata": {
        "id": "3ed233e7",
        "outputId": "4a9a172f-9521-474c-b2bd-c27464b82f01",
        "colab": {
          "base_uri": "https://localhost:8080/"
        }
      },
      "outputs": [
        {
          "output_type": "stream",
          "name": "stdout",
          "text": [
            "[23  2  1 43  5]\n",
            "[ 5 43  1  2 23]\n"
          ]
        }
      ],
      "source": [
        "vector = np.random.randint(0, 50, 5) # 5 integers values between 0 and 50\n",
        "print(vector)\n",
        "print(vector[::-1])"
      ]
    },
    {
      "cell_type": "markdown",
      "id": "4fa39382",
      "metadata": {
        "id": "4fa39382"
      },
      "source": [
        "#### Exercise: Create a 5x5 identity matrix (★☆☆)\n",
        "\n",
        ">Check the function `np.eye`(https://numpy.org/devdocs/reference/generated/numpy.eye.html)"
      ]
    },
    {
      "cell_type": "code",
      "execution_count": 19,
      "id": "c97757ec",
      "metadata": {
        "id": "c97757ec",
        "outputId": "d7ffbaaf-616d-487e-da87-466ec8f8003b",
        "colab": {
          "base_uri": "https://localhost:8080/"
        }
      },
      "outputs": [
        {
          "output_type": "stream",
          "name": "stdout",
          "text": [
            "[[1. 0. 0. 0. 0.]\n",
            " [0. 1. 0. 0. 0.]\n",
            " [0. 0. 1. 0. 0.]\n",
            " [0. 0. 0. 1. 0.]\n",
            " [0. 0. 0. 0. 1.]]\n"
          ]
        }
      ],
      "source": [
        "#An identity matrix is a given square matrix of any order which contains on its main diagonal elements with value of one, while the rest of the matrix elements are equal to zero.\n",
        "\n",
        "identity_matrix = np.eye(5)\n",
        "print(identity_matrix)\n"
      ]
    },
    {
      "cell_type": "markdown",
      "id": "da64551a",
      "metadata": {
        "id": "da64551a"
      },
      "source": [
        "#### Exercise: Find indexes of non-zero elements from [1,2,0,0,4,0] (★☆☆)\n",
        "\n",
        ">Check the function `where`(https://numpy.org/devdocs/reference/generated/numpy.where.html)"
      ]
    },
    {
      "cell_type": "code",
      "execution_count": 20,
      "id": "327f7adb",
      "metadata": {
        "id": "327f7adb",
        "outputId": "f0211c40-e9dc-4271-e7a5-5cf647aff477",
        "colab": {
          "base_uri": "https://localhost:8080/"
        }
      },
      "outputs": [
        {
          "output_type": "stream",
          "name": "stdout",
          "text": [
            "(array([0, 1, 4]),)\n"
          ]
        }
      ],
      "source": [
        "v = [1,2,0,0,4,0]\n",
        "#nonzero is the function that is called when x and y are omitted\n",
        "print(np.where(v))"
      ]
    },
    {
      "cell_type": "markdown",
      "id": "13c5928c",
      "metadata": {
        "id": "13c5928c"
      },
      "source": [
        "#### Exercise: Create a 10x10 array with random values and find the minimum and maximum values (★☆☆)\n",
        "\n",
        ">Check the function `min` (https://numpy.org/devdocs/reference/generated/numpy.where.html) and `max` (https://numpy.org/devdocs/reference/generated/numpy.max.html)"
      ]
    },
    {
      "cell_type": "code",
      "execution_count": 35,
      "id": "911c9b93",
      "metadata": {
        "id": "911c9b93",
        "outputId": "f2b8914d-502b-439d-9831-b34b461b8765",
        "colab": {
          "base_uri": "https://localhost:8080/"
        }
      },
      "outputs": [
        {
          "output_type": "stream",
          "name": "stdout",
          "text": [
            "99\n",
            "2\n"
          ]
        }
      ],
      "source": [
        "m = np.random.randint(0, 100, (10,10))\n",
        "print(m.max())\n",
        "print(m.min())\n",
        "\n"
      ]
    },
    {
      "cell_type": "markdown",
      "id": "3fa2e461",
      "metadata": {
        "id": "3fa2e461"
      },
      "source": [
        "#### Exercise: Create a random vector of size 30 and find the mean value (★☆☆)"
      ]
    },
    {
      "cell_type": "code",
      "execution_count": 38,
      "id": "323eb38a",
      "metadata": {
        "id": "323eb38a",
        "outputId": "4d2203a8-21e0-4b17-ca8b-d8d125ad3951",
        "colab": {
          "base_uri": "https://localhost:8080/"
        }
      },
      "outputs": [
        {
          "output_type": "stream",
          "name": "stdout",
          "text": [
            "[69 99 79 45 22 49 96 29 93 30 63 20 69 29 62 82  5 69 70 26 33 69 23 30\n",
            "  3 24 14 97 28 40]\n",
            "48.9\n"
          ]
        }
      ],
      "source": [
        "random_v = np.random.randint(0, 100, 30)\n",
        "print(random_v)\n",
        "print(np.mean(random_v))"
      ]
    },
    {
      "cell_type": "markdown",
      "id": "961f074f",
      "metadata": {
        "id": "961f074f"
      },
      "source": [
        "#### Exercise: Define a function with your date of birth (yyyy/mm/dd) as imput, that returns a random array with the following dimensions: (★★☆)\n",
        "\n",
        "$$yyyy-1900 \\times |mm - dd|$$"
      ]
    },
    {
      "cell_type": "code",
      "execution_count": 56,
      "id": "d3f49255",
      "metadata": {
        "id": "d3f49255",
        "outputId": "05818f81-7097-4b52-c076-b92c4e6155b0",
        "colab": {
          "base_uri": "https://localhost:8080/"
        }
      },
      "outputs": [
        {
          "output_type": "stream",
          "name": "stdout",
          "text": [
            "(98, 1, array([[0.41594918],\n",
            "       [0.81757403],\n",
            "       [0.20169665],\n",
            "       [0.36760688],\n",
            "       [0.72451902],\n",
            "       [0.71549948],\n",
            "       [0.35949563],\n",
            "       [0.86145386],\n",
            "       [0.32045627],\n",
            "       [0.59178504],\n",
            "       [0.60296646],\n",
            "       [0.12566557],\n",
            "       [0.55055126],\n",
            "       [0.58856042],\n",
            "       [0.29916503],\n",
            "       [0.83180172],\n",
            "       [0.48396355],\n",
            "       [0.15164763],\n",
            "       [0.79411552],\n",
            "       [0.62711273],\n",
            "       [0.51866337],\n",
            "       [0.84495176],\n",
            "       [0.91979374],\n",
            "       [0.20323151],\n",
            "       [0.96702115],\n",
            "       [0.06128485],\n",
            "       [0.24929446],\n",
            "       [0.486322  ],\n",
            "       [0.3575688 ],\n",
            "       [0.69057456],\n",
            "       [0.51506658],\n",
            "       [0.91018835],\n",
            "       [0.49474677],\n",
            "       [0.89371406],\n",
            "       [0.3470399 ],\n",
            "       [0.6545827 ],\n",
            "       [0.59203458],\n",
            "       [0.84965489],\n",
            "       [0.88444362],\n",
            "       [0.42155761],\n",
            "       [0.7346636 ],\n",
            "       [0.03708347],\n",
            "       [0.55833519],\n",
            "       [0.26435889],\n",
            "       [0.8281408 ],\n",
            "       [0.77056446],\n",
            "       [0.749749  ],\n",
            "       [0.62298776],\n",
            "       [0.24537222],\n",
            "       [0.12506337],\n",
            "       [0.13110429],\n",
            "       [0.47844313],\n",
            "       [0.44360762],\n",
            "       [0.80855699],\n",
            "       [0.92715599],\n",
            "       [0.8036002 ],\n",
            "       [0.00918905],\n",
            "       [0.87722604],\n",
            "       [0.14239248],\n",
            "       [0.57747477],\n",
            "       [0.25135577],\n",
            "       [0.52789241],\n",
            "       [0.29837888],\n",
            "       [0.97353909],\n",
            "       [0.01537466],\n",
            "       [0.02855859],\n",
            "       [0.69164445],\n",
            "       [0.55398   ],\n",
            "       [0.30410612],\n",
            "       [0.74817667],\n",
            "       [0.51183259],\n",
            "       [0.8129359 ],\n",
            "       [0.61672583],\n",
            "       [0.35360845],\n",
            "       [0.17128349],\n",
            "       [0.08041725],\n",
            "       [0.40337608],\n",
            "       [0.35192062],\n",
            "       [0.03493937],\n",
            "       [0.50602701],\n",
            "       [0.04596298],\n",
            "       [0.79022664],\n",
            "       [0.78236112],\n",
            "       [0.04613472],\n",
            "       [0.55810357],\n",
            "       [0.25206116],\n",
            "       [0.16714371],\n",
            "       [0.93368856],\n",
            "       [0.16120528],\n",
            "       [0.07846524],\n",
            "       [0.35561248],\n",
            "       [0.22738474],\n",
            "       [0.69069085],\n",
            "       [0.99579729],\n",
            "       [0.61517347],\n",
            "       [0.85746719],\n",
            "       [0.59182718],\n",
            "       [0.21246739]]))\n"
          ]
        }
      ],
      "source": [
        "import datetime\n",
        "\n",
        "def birth_matrix(x):\n",
        "  year = int(x.strftime(\"%Y\"))\n",
        "  month = int(x.strftime(\"%m\"))\n",
        "  day = int(x.strftime(\"%d\"))\n",
        "  dim1 = year - 1900\n",
        "  dim2 = np.abs(month-day)\n",
        "  matrix = np.random.rand(dim1,dim2)\n",
        "  return dim1,dim2,matrix\n",
        "\n",
        "\n",
        "print(birth_matrix(datetime.datetime(1998, 12, 13)))\n",
        "\n",
        "\n"
      ]
    },
    {
      "cell_type": "markdown",
      "id": "ff8dbb92",
      "metadata": {
        "id": "ff8dbb92"
      },
      "source": [
        "## What is the difference between Python List and a Numpy Array?\n",
        "\n",
        "- Python list can contain elements with different data types, while Numpy Array‘s elements are always homogeneous (same data types).\n",
        "\n",
        "- Numpy arrays are faster and more compact than Python lists.\n",
        "\n",
        "## Why Numpy Arrays are faster than Lists?\n",
        "\n",
        "- Numpy Arrays use fixed memory to store data and less memory than Python lists.\n",
        "\n",
        "- Contiguous memory allocation in Numpy Arrays."
      ]
    },
    {
      "cell_type": "markdown",
      "id": "e3a7ba7f",
      "metadata": {
        "id": "e3a7ba7f"
      },
      "source": [
        "#### Exercise: Convert the list `my_list = [1, 2, 3]` to numpy array (★☆☆)"
      ]
    },
    {
      "cell_type": "code",
      "execution_count": 66,
      "id": "01d8e257",
      "metadata": {
        "id": "01d8e257",
        "outputId": "0b9e8a37-e362-48e4-c130-fcc4a0329375",
        "colab": {
          "base_uri": "https://localhost:8080/"
        }
      },
      "outputs": [
        {
          "output_type": "stream",
          "name": "stdout",
          "text": [
            "<class 'numpy.ndarray'>\n",
            "[1 2 3]\n"
          ]
        }
      ],
      "source": [
        "my_list = [1,2,3]\n",
        "\n",
        "arr = np.asarray(my_list)\n",
        "\n",
        "\n",
        "print(type(arr))\n",
        "print(arr)"
      ]
    },
    {
      "cell_type": "markdown",
      "id": "6d17ab5d",
      "metadata": {
        "id": "6d17ab5d"
      },
      "source": [
        "#### Exercise: Convert the tuple `my_list = (1, 2, 3)` to numpy array (★☆☆)"
      ]
    },
    {
      "cell_type": "code",
      "execution_count": 65,
      "id": "841373cd",
      "metadata": {
        "id": "841373cd",
        "outputId": "1b0896a6-ebb8-405b-a9ba-080e7cbce183",
        "colab": {
          "base_uri": "https://localhost:8080/"
        }
      },
      "outputs": [
        {
          "output_type": "stream",
          "name": "stdout",
          "text": [
            "<class 'numpy.ndarray'>\n",
            "[1 2 3]\n"
          ]
        }
      ],
      "source": [
        "my_tuple = (1,2,3)\n",
        "\n",
        "a = np.asarray(my_tuple)\n",
        "\n",
        "\n",
        "print(type(a))\n",
        "print(a)"
      ]
    },
    {
      "cell_type": "markdown",
      "id": "8837119b",
      "metadata": {
        "id": "8837119b"
      },
      "source": [
        "#### Exercise: Convert the list of tuples `my_list = [(1,2,3), (4,5)]` to numpy array (★☆☆)"
      ]
    },
    {
      "cell_type": "code",
      "execution_count": 74,
      "id": "2c0d16f1",
      "metadata": {
        "id": "2c0d16f1",
        "outputId": "f2fc0937-184c-4fea-f1e6-a58ce5e27085",
        "colab": {
          "base_uri": "https://localhost:8080/"
        }
      },
      "outputs": [
        {
          "output_type": "stream",
          "name": "stdout",
          "text": [
            "<class 'numpy.ndarray'>\n",
            "[1 2 3]\n"
          ]
        }
      ],
      "source": [
        "list_of_tuples = [(1,2,3), (4,5)]\n",
        "np_arr = np.array(list_of_tuples, dtype=object)\n",
        "\n",
        "\n",
        "print(type(a))\n",
        "print(a)"
      ]
    },
    {
      "cell_type": "markdown",
      "id": "ec788c9f",
      "metadata": {
        "id": "ec788c9f"
      },
      "source": [
        "#### Exercise: Resize a random array of dimensions 5x12 into 12x5 (★☆☆)\n",
        "\n",
        ">Check `reshape` from `numpy` (https://numpy.org/doc/stable/reference/generated/numpy.reshape.html)"
      ]
    },
    {
      "cell_type": "code",
      "execution_count": 80,
      "id": "0a4f919f",
      "metadata": {
        "id": "0a4f919f",
        "outputId": "5bfcd207-0766-49d3-a36e-437de6066982",
        "colab": {
          "base_uri": "https://localhost:8080/"
        }
      },
      "outputs": [
        {
          "output_type": "stream",
          "name": "stdout",
          "text": [
            "[[0.31939651 0.01359961 0.62101228 0.50531806 0.05160676 0.29252249\n",
            "  0.4830068  0.47943383 0.09894356 0.90653853 0.37322175 0.86728739]\n",
            " [0.39344269 0.11764884 0.11001125 0.00187505 0.73029581 0.25411566\n",
            "  0.05174184 0.70644298 0.60264884 0.69751349 0.98006429 0.23772388]\n",
            " [0.79206408 0.49351712 0.87759074 0.88747274 0.4825026  0.13291337\n",
            "  0.32215634 0.46529666 0.19903885 0.13071506 0.24012086 0.48174999]\n",
            " [0.74365162 0.68483726 0.46338753 0.42117317 0.54774768 0.71809626\n",
            "  0.91151225 0.35139443 0.04076093 0.86439275 0.70674754 0.08109307]\n",
            " [0.47454314 0.57410023 0.21504592 0.64818057 0.6423083  0.60266615\n",
            "  0.46605863 0.01319036 0.05514588 0.49848604 0.5534186  0.96115684]]\n",
            "[[0.31939651 0.01359961 0.62101228 0.50531806 0.05160676]\n",
            " [0.29252249 0.4830068  0.47943383 0.09894356 0.90653853]\n",
            " [0.37322175 0.86728739 0.39344269 0.11764884 0.11001125]\n",
            " [0.00187505 0.73029581 0.25411566 0.05174184 0.70644298]\n",
            " [0.60264884 0.69751349 0.98006429 0.23772388 0.79206408]\n",
            " [0.49351712 0.87759074 0.88747274 0.4825026  0.13291337]\n",
            " [0.32215634 0.46529666 0.19903885 0.13071506 0.24012086]\n",
            " [0.48174999 0.74365162 0.68483726 0.46338753 0.42117317]\n",
            " [0.54774768 0.71809626 0.91151225 0.35139443 0.04076093]\n",
            " [0.86439275 0.70674754 0.08109307 0.47454314 0.57410023]\n",
            " [0.21504592 0.64818057 0.6423083  0.60266615 0.46605863]\n",
            " [0.01319036 0.05514588 0.49848604 0.5534186  0.96115684]]\n"
          ]
        }
      ],
      "source": [
        "random_array = np.random.rand(5,12)\n",
        "print(random_array)\n",
        "reshape_array = np.reshape(random_array,(12,5))\n",
        "print(reshape_array)"
      ]
    },
    {
      "cell_type": "markdown",
      "id": "391791e0",
      "metadata": {
        "id": "391791e0"
      },
      "source": [
        "#### Exercise: Create a function that normalize a 5x5 random matrix (★☆☆)\n",
        "\n",
        ">Remember from probability (https://en.wikipedia.org/wiki/Normalization_(statistics)) that :\n",
        "$$ x_{norm} = \\frac{x - \\bar{x}}{\\sigma}$$\n"
      ]
    },
    {
      "cell_type": "markdown",
      "source": [
        "\"Generally, normalization is a process that is used to rescale the real values of a numeric attribute into a range from 0 to 1. Normalization helps organize the data in such a way that it appears similar across all the areas and records. There are various advantages of data normalization, such as redundancy reduction, complexity reduction, clarity, and acquiring higher quality data.\"\n",
        "\n",
        "https://www.mygreatlearning.com/blog/numpy-normalization-tutorial/"
      ],
      "metadata": {
        "id": "XeYUIQmFWJen"
      },
      "id": "XeYUIQmFWJen"
    },
    {
      "cell_type": "code",
      "execution_count": 85,
      "id": "f6533d39",
      "metadata": {
        "id": "f6533d39",
        "outputId": "72dfdb63-f786-478d-eb52-f2648e94ab0d",
        "colab": {
          "base_uri": "https://localhost:8080/"
        }
      },
      "outputs": [
        {
          "output_type": "stream",
          "name": "stdout",
          "text": [
            "[[0.93244356 0.22687592 6.75602791 5.03067163 1.56118017]\n",
            " [6.85768603 4.66574374 0.14340577 3.89609979 6.16425737]\n",
            " [8.11165549 0.56006582 3.73929568 2.71703816 3.20650694]\n",
            " [8.08160166 0.29681945 0.61153193 1.74786176 5.56714847]\n",
            " [4.05503281 9.06461157 1.51917607 2.74448732 1.95907764]]\n",
            "22.498334565884548\n",
            "[[0.041445   0.01008412 0.30029013 0.22360196 0.06939092]\n",
            " [0.30480861 0.20738174 0.00637406 0.17317281 0.27398727]\n",
            " [0.36054471 0.02489366 0.16620322 0.12076619 0.14252197]\n",
            " [0.35920888 0.01319295 0.02718121 0.0776885  0.24744714]\n",
            " [0.18023702 0.40290145 0.06752393 0.12198624 0.08707656]]\n"
          ]
        }
      ],
      "source": [
        "ran_two_array = np.random.rand(5, 5) *10 # defining a random array of 5 rows and 5 columns using  rand function of random sub module of the numpy library. Here 10 represents the range of the values of the elements which will be between 0 and 10\n",
        "print(ran_two_array)                       # printing the array\n",
        "norm = np.linalg.norm(ran_two_array)       # To find the norm of the array\n",
        "print(norm)                                # Printing the value of the norm\n",
        "normalized_array = ran_two_array/norm   # Formula used to perform array normalization\n",
        "print(normalized_array)          "
      ]
    },
    {
      "cell_type": "markdown",
      "id": "d2d143f1",
      "metadata": {
        "id": "d2d143f1"
      },
      "source": [
        "## Stacking numpy arrays\n",
        "\n",
        "Stacking is used to join a sequence of same dimension arrays along a new axis.\n",
        "\n",
        "`numpy.stack(arrays,axis)` : It returns a stacked array of the input arrays which has one more dimension than the input arrays.\n",
        "\n",
        "### You have two ways to do it:\n",
        "\n",
        "\n",
        "![alt text](./assets/stack.jpeg \"stack\")\n",
        "\n",
        "\n",
        "### or\n",
        "\n",
        "\n",
        "![alt text](./assets/stack2.jpeg \"stack\")\n",
        "\n",
        "\n"
      ]
    },
    {
      "cell_type": "markdown",
      "id": "1e74d39e",
      "metadata": {
        "id": "1e74d39e"
      },
      "source": [
        "#### Exercise: Generate two random arrays with integers and apply the stacking using `stack` (★★☆)"
      ]
    },
    {
      "cell_type": "code",
      "execution_count": 90,
      "id": "3f639d33",
      "metadata": {
        "id": "3f639d33",
        "outputId": "f7b8b94b-4489-4b8f-b580-64b6703c79ce",
        "colab": {
          "base_uri": "https://localhost:8080/"
        }
      },
      "outputs": [
        {
          "output_type": "stream",
          "name": "stdout",
          "text": [
            "[74 32 43 91 14 91  0 73 39 28] [25 26 94 70 54 58 17 62 74 97]\n",
            "Apply stacking\n",
            "[[74 32 43 91 14 91  0 73 39 28]\n",
            " [25 26 94 70 54 58 17 62 74 97]]\n"
          ]
        }
      ],
      "source": [
        "a = np.random.randint(0, 100, 10)\n",
        "b = np.random.randint(0, 100, 10)\n",
        "print(a,b)\n",
        "print(\"Apply stacking\")\n",
        "stacked = np.stack((a,b))\n",
        "print(stacked)"
      ]
    },
    {
      "cell_type": "markdown",
      "id": "78250c14",
      "metadata": {
        "id": "78250c14"
      },
      "source": [
        "#### Exercise: Generate two random arrays with integers and apply the stacking using `hstack` and `vstack` (★★☆)"
      ]
    },
    {
      "cell_type": "markdown",
      "source": [
        "\"The major difference is that np.hstack combines NumPy arrays horizontally and np.vstack combines arrays vertically.\""
      ],
      "metadata": {
        "id": "LX6n7WVMX6gq"
      },
      "id": "LX6n7WVMX6gq"
    },
    {
      "cell_type": "code",
      "execution_count": 92,
      "id": "9fe729cb",
      "metadata": {
        "id": "9fe729cb",
        "outputId": "5956d210-9e3f-45b9-e46f-8aa36ffac21d",
        "colab": {
          "base_uri": "https://localhost:8080/"
        }
      },
      "outputs": [
        {
          "output_type": "stream",
          "name": "stdout",
          "text": [
            "[[18  7]\n",
            " [ 3  5]]\n",
            "[18  7  3  5]\n"
          ]
        }
      ],
      "source": [
        "a = np.random.randint(0, 20, 2)\n",
        "b = np.random.randint(0, 20, 2)\n",
        "\n",
        "print(np.vstack((a,b)))\n",
        "\n",
        "print(np.hstack((a,b)))"
      ]
    },
    {
      "cell_type": "markdown",
      "id": "51898680",
      "metadata": {
        "id": "51898680"
      },
      "source": [
        "## Basic maths in numpy\n",
        "\n",
        "You can make typical math operations like:\n",
        "\n",
        "- Addition,Subtraction,Multiplication and Division between two arrays using numpy.\n",
        "- Operation on arrays using sum() & cumsum() function.\n",
        "- Minimum and Maximum value from an array.\n",
        "- Exponent/Power , Square Root and Cube Root functions.\n",
        "\n",
        "or even apply common trigonometric functions:\n",
        "\n",
        "- `numpy.sin()`:  Sine (x) Function\n",
        "- `numpy.cos()`: Cosine(x) Function\n",
        "- `numpy.tan()`: Tangent(x) Function\n",
        "- `numpy.sinh()`: Hyperbolic Sine (x) Function\n",
        "- `numpy.cosh()`: Hyperbolic Cosine(x) Function\n",
        "- `numpy.tanh()`: Hyperbolic Tangent(x) Function\n",
        "- `numpy.arcsin()`: Inverse Sine(x) Function\n",
        "- `numpy.arccos()`: Inverse Cosine(x) Function\n",
        "- `numpy.arctan()`: Inverse Tangent(X) Function\n",
        "- `numpy.pi`: Pi value π\n",
        "- `numpy.hypot(w,h)`: For calculating Hypotenuse $c = \\sqrt{(w^2 + h^2)}$\n",
        "- `numpy.rad2deg()`: Radians to degrees\n",
        "- `numpy.deg2rad()`: Degrees to radians"
      ]
    },
    {
      "cell_type": "markdown",
      "id": "89e78048",
      "metadata": {
        "id": "89e78048"
      },
      "source": [
        "#### Exercise: Generate two random 8 - dimensional vectors and apply the most common operation between vectors:  addition, substraction, multiplication, division(★☆☆)\n",
        "\n",
        ">Check the math functions here: https://numpy.org/doc/stable/reference/routines.math.html"
      ]
    },
    {
      "cell_type": "code",
      "execution_count": 107,
      "id": "b62e9d1c",
      "metadata": {
        "id": "b62e9d1c",
        "outputId": "b5f6f9ca-863a-4554-e617-2e0850cf2bf1",
        "colab": {
          "base_uri": "https://localhost:8080/"
        }
      },
      "outputs": [
        {
          "output_type": "stream",
          "name": "stdout",
          "text": [
            "[7 4 9 9 5 4 6 5]\n",
            "[4 7 7 7 5 8 8 9]\n",
            "Addition\n",
            "[11 11 16 16 10 12 14 14]\n",
            "Substraction\n",
            "[ 3 -3  2  2  0 -4 -2 -4]\n",
            "Multiplication\n",
            "[28 28 63 63 25 32 48 45]\n",
            "Division\n",
            "[1.75       0.57142857 1.28571429 1.28571429 1.         0.5\n",
            " 0.75       0.55555556]\n"
          ]
        }
      ],
      "source": [
        "r_1 = np.random.randint(1, 10, 8)\n",
        "r_2 = np.random.randint(1, 10, 8)\n",
        "\n",
        "print(r_1)\n",
        "print(r_2)\n",
        "print(\"Addition\")\n",
        "print(np.add(r_1,r_2))\n",
        "print(\"Substraction\")\n",
        "print(np.subtract(r_1,r_2))\n",
        "print(\"Multiplication\")\n",
        "print(np.multiply(r_1,r_2))\n",
        "print(\"Division\")\n",
        "print(np.divide(r_1,r_2))\n",
        "\n"
      ]
    },
    {
      "cell_type": "markdown",
      "id": "ebd10810",
      "metadata": {
        "id": "ebd10810"
      },
      "source": [
        "#### Exercise: Generate two random matrices with dimensions between 5 and 10. For example, try 5x7 vs 8x9. Were you able to do the matrix multiplication? why? (★★☆) "
      ]
    },
    {
      "cell_type": "markdown",
      "source": [
        "\"There are three main ways to perform NumPy matrix multiplication:\n",
        "\n",
        "**np.dot(array a, array b):** returns the scalar or dot product of two arrays\n",
        "\n",
        "**np.matmul(array a, array b)**: returns the matrix product of two arrays\n",
        "\n",
        "**np.multiply(array a, array b):** returns the element-wise matrix multiplication of two arrays\""
      ],
      "metadata": {
        "id": "CzEaffyMbb1K"
      },
      "id": "CzEaffyMbb1K"
    },
    {
      "cell_type": "code",
      "source": [
        "r1 = np.random.randint(1, 10, (5,7))\n",
        "r2 = np.random.randint(1, 10, (8,9))\n",
        "\n",
        "#It’s important to note that we can only multiply two matrices if the number of columns in the first matrix is equal to the number of rows in the second matrix.\n",
        "\n",
        "\n",
        "# np.dot(r1,r2) # ValueError: shapes (5,7) and (8,9) not aligned: 7 (dim 1) != 8 (dim 0)\n",
        "# np.matmul(r1,r2) #ValueError: (size 8 is different from 7)\n",
        "\n",
        "#np.multiply(r1,r2) # ValueError: operands could not be broadcast together with shapes (5,7) (8,9) "
      ],
      "metadata": {
        "id": "wfrUGZRsbqaW",
        "outputId": "3040855a-99db-46f6-ac44-f81155e73dca",
        "colab": {
          "base_uri": "https://localhost:8080/"
        }
      },
      "id": "wfrUGZRsbqaW",
      "execution_count": 116,
      "outputs": [
        {
          "output_type": "execute_result",
          "data": {
            "text/plain": [
              "array([[84, 66],\n",
              "       [95, 81],\n",
              "       [84, 63],\n",
              "       [54, 45],\n",
              "       [44, 38]])"
            ]
          },
          "metadata": {},
          "execution_count": 116
        }
      ]
    },
    {
      "cell_type": "markdown",
      "id": "c0e940f8",
      "metadata": {
        "id": "c0e940f8"
      },
      "source": [
        "#### Exercise: Given 2 numpy arrays as matrices, output the result of multiplying the 2 matrices (as a numpy array) Were you able to do the matrix multiplication? (★★☆) \n",
        "\n",
        "$$ a = \\left(\\begin{matrix}\n",
        "0 & 1 & 2\\\\ \n",
        "3 & 4 & 5\\\\ \n",
        "6 & 7 & 8\n",
        "\\end{matrix}\\right)$$\n",
        "\n",
        "$$ b = \\left(\\begin{matrix}\n",
        "2 & 3 & 4\\\\ \n",
        "5 & 6 & 7\\\\ \n",
        "8 & 9 & 10\n",
        "\\end{matrix}\\right)$$\n",
        "\n",
        "\n"
      ]
    },
    {
      "cell_type": "code",
      "execution_count": 133,
      "id": "820dc7a5",
      "metadata": {
        "id": "820dc7a5",
        "outputId": "0516519f-e210-4df2-a485-e499ea5a6fcc",
        "colab": {
          "base_uri": "https://localhost:8080/"
        }
      },
      "outputs": [
        {
          "output_type": "stream",
          "name": "stdout",
          "text": [
            "[[0 1 2]\n",
            " [3 4 5]\n",
            " [6 7 8]]\n",
            "[[ 2  3  4]\n",
            " [ 5  6  7]\n",
            " [ 8  9 10]]\n",
            "[[ 21  24  27]\n",
            " [ 66  78  90]\n",
            " [111 132 153]]\n"
          ]
        }
      ],
      "source": [
        "a = np.arange(0,9).reshape(3,3)\n",
        "print(a)\n",
        "\n",
        "b = np.arange(2,11).reshape(3,3)\n",
        "print(b)\n",
        "\n",
        "print(np.dot(a,b))"
      ]
    },
    {
      "cell_type": "markdown",
      "id": "22713c3f",
      "metadata": {
        "id": "22713c3f"
      },
      "source": [
        "#### Exercise: Multiply a 5x3 matrix by a 3x2 matrix (real matrix product) (★★☆)"
      ]
    },
    {
      "cell_type": "code",
      "execution_count": 127,
      "id": "a3e05c29",
      "metadata": {
        "id": "a3e05c29",
        "outputId": "239343bb-0c57-4e44-c66a-278d034db562",
        "colab": {
          "base_uri": "https://localhost:8080/"
        }
      },
      "outputs": [
        {
          "output_type": "stream",
          "name": "stdout",
          "text": [
            "First matrix:\n",
            "[[0.73864756 0.99711069 0.60234462]\n",
            " [0.46963915 0.30728332 0.65271959]\n",
            " [0.44243073 0.99737885 0.20915235]\n",
            " [0.51443626 0.79561162 0.85242699]\n",
            " [0.30140099 0.52046845 0.04066741]]\n",
            "Second matrix:\n",
            "[[0.64460816 0.69053492]\n",
            " [0.70606773 0.10174835]\n",
            " [0.16356823 0.27648416]]\n",
            "Product\n",
            "[[1.27869036 0.77805505]\n",
            " [0.62646025 0.53603443]\n",
            " [1.02362216 0.46482284]\n",
            " [1.03279547 0.67187093]\n",
            " [0.56842341 0.27232861]]\n"
          ]
        }
      ],
      "source": [
        "a = np.random.random((5,3))\n",
        "print(\"First matrix:\")\n",
        "print(a)\n",
        "b = np.random.random((3,2))\n",
        "print(\"Second matrix:\")\n",
        "print(b)\n",
        "c = np.matmul(a, b)\n",
        "print(\"Product\")\n",
        "print(c)"
      ]
    },
    {
      "cell_type": "markdown",
      "id": "4815930e",
      "metadata": {
        "id": "4815930e"
      },
      "source": [
        "## Data types\n",
        "\n",
        "Do you think the following preposition is true?\n",
        "\n",
        "`8==8`\n",
        "\n",
        "Surely you will definetely say yes, which is true mathematically, but computationally it is not always the same, at least in terms of memory. For example, run the following cell:"
      ]
    },
    {
      "cell_type": "code",
      "execution_count": 93,
      "id": "cd81c3c6",
      "metadata": {
        "id": "cd81c3c6",
        "outputId": "83b5064a-7079-48ed-eb6d-9ad72325adca",
        "colab": {
          "base_uri": "https://localhost:8080/"
        }
      },
      "outputs": [
        {
          "output_type": "stream",
          "name": "stdout",
          "text": [
            "int64: 96\n",
            "int8: 89\n",
            "float32: 92\n"
          ]
        }
      ],
      "source": [
        "import sys\n",
        "\n",
        "# int64\n",
        "x = np.array(123)\n",
        "print(\"int64: \" + str(sys.getsizeof(x)))\n",
        "\n",
        "# int8\n",
        "x = np.array(123,dtype=np.int8)\n",
        "print(\"int8: \" + str(sys.getsizeof(x)))\n",
        "\n",
        "# float32\n",
        "x = np.array(123,dtype=np.float32)\n",
        "print(\"float32: \" + str(sys.getsizeof(x)))"
      ]
    },
    {
      "cell_type": "markdown",
      "id": "8e34f294",
      "metadata": {
        "id": "8e34f294"
      },
      "source": [
        "#### It turns out that there are many computational representation of the same number and you can create arrays with different Data Types (dtypes) depending on what you need:\n",
        "\n",
        "- Boolean : `np.bool_`\n",
        "- Char : `np.byte`\n",
        "- Short : `np.short`\n",
        "- Integer : `np.short`\n",
        "- Long : `np.int_`\n",
        "- Float : `np.single`&np.float32`\n",
        "- Double :`np.double`&`np.float64`\n",
        "- `np.int8`: integer (-128 to 127)\n",
        "- `np.int16`:integer( -32768 to 32767)\n",
        "- `np.int32`: integer(-2147483648 to 2147483647)\n",
        "- `np.int64`:integer( -9223372036854775808 to 9223372036854775807)\n",
        "\n",
        "\n",
        "Sometimes, you will need to load, create or export arrays from different data types.\n"
      ]
    },
    {
      "cell_type": "code",
      "execution_count": 93,
      "id": "890bde78",
      "metadata": {
        "id": "890bde78"
      },
      "outputs": [],
      "source": [
        ""
      ]
    },
    {
      "cell_type": "markdown",
      "id": "f1ae2c2d",
      "metadata": {
        "id": "f1ae2c2d"
      },
      "source": [
        "## Harder exercises\n",
        "\n",
        "The next exercises are related with real situations you could face while you are working in data science and machine learning. Also, we will be frequently talking about matrices and bidimensional arrays."
      ]
    },
    {
      "cell_type": "markdown",
      "id": "759c9c8d",
      "metadata": {
        "id": "759c9c8d"
      },
      "source": [
        "#### Exercise: Subtract the mean of each row of a matrix (★★☆)"
      ]
    },
    {
      "cell_type": "code",
      "execution_count": null,
      "id": "6801c73d",
      "metadata": {
        "colab": {
          "base_uri": "https://localhost:8080/"
        },
        "id": "6801c73d",
        "outputId": "1c007936-9892-41da-fb98-fd102306811e"
      },
      "outputs": [
        {
          "output_type": "stream",
          "name": "stdout",
          "text": [
            "[[1 2 3]\n",
            " [4 1 2]\n",
            " [4 2 1]]\n",
            "[[2.        ]\n",
            " [2.33333333]\n",
            " [2.33333333]]\n",
            "[[-1.          0.          1.        ]\n",
            " [ 1.66666667 -1.33333333 -0.33333333]\n",
            " [ 1.66666667 -0.33333333 -1.33333333]]\n"
          ]
        }
      ],
      "source": [
        "matrix = np.random.randint(5,size=(3,3))\n",
        "print(matrix)\n",
        "promedio = matrix.mean(axis=1, keepdims=True)\n",
        "print(promedio)\n",
        "new_matrix = matrix - promedio\n",
        "print(new_matrix)\n",
        "\n"
      ]
    },
    {
      "cell_type": "markdown",
      "id": "129c342d",
      "metadata": {
        "id": "129c342d"
      },
      "source": [
        "#### Exercise: How to get the dates of yesterday, today and tomorrow? (★★☆)\n",
        "\n",
        ">Check `np.datetime64`, `np.timedelta64` in numpy (https://numpy.org/doc/stable/reference/arrays.datetime.html)"
      ]
    },
    {
      "cell_type": "code",
      "execution_count": null,
      "id": "8ba1badb",
      "metadata": {
        "colab": {
          "base_uri": "https://localhost:8080/"
        },
        "id": "8ba1badb",
        "outputId": "0dd91e50-9883-451d-ab41-d06cb81769a4"
      },
      "outputs": [
        {
          "output_type": "stream",
          "name": "stdout",
          "text": [
            "2022-05-20\n",
            "2022-05-19\n",
            "2022-05-21\n"
          ]
        }
      ],
      "source": [
        "today = np.datetime64(\"today\", \"D\")\n",
        "print(today)\n",
        "\n",
        "ayer = today - np.timedelta64(1,\"D\")\n",
        "print(ayer)\n",
        "mañana = today + np.timedelta64(1,\"D\")\n",
        "print(mañana)"
      ]
    },
    {
      "cell_type": "markdown",
      "id": "42f8b2f9",
      "metadata": {
        "id": "42f8b2f9"
      },
      "source": [
        "#### Exercise: How to get all the dates corresponding to the month of December 2022? (★★☆)\n",
        "Combine `arange`with `datetime`\n"
      ]
    },
    {
      "cell_type": "code",
      "execution_count": null,
      "id": "eb8ebe45",
      "metadata": {
        "colab": {
          "base_uri": "https://localhost:8080/"
        },
        "id": "eb8ebe45",
        "outputId": "0e9d19d1-812a-4c2f-e3bd-f15cd0cfec45"
      },
      "outputs": [
        {
          "output_type": "execute_result",
          "data": {
            "text/plain": [
              "array(['2022-12-01', '2022-12-02', '2022-12-03', '2022-12-04',\n",
              "       '2022-12-05', '2022-12-06', '2022-12-07', '2022-12-08',\n",
              "       '2022-12-09', '2022-12-10', '2022-12-11', '2022-12-12',\n",
              "       '2022-12-13', '2022-12-14', '2022-12-15', '2022-12-16',\n",
              "       '2022-12-17', '2022-12-18', '2022-12-19', '2022-12-20',\n",
              "       '2022-12-21', '2022-12-22', '2022-12-23', '2022-12-24',\n",
              "       '2022-12-25', '2022-12-26', '2022-12-27', '2022-12-28',\n",
              "       '2022-12-29', '2022-12-30', '2022-12-31'], dtype='datetime64[D]')"
            ]
          },
          "metadata": {},
          "execution_count": 20
        }
      ],
      "source": [
        "np.arange(\"2022-12\",\"2023-01\",dtype=\"datetime64[D]\")"
      ]
    },
    {
      "cell_type": "markdown",
      "id": "486df8ea",
      "metadata": {
        "id": "486df8ea"
      },
      "source": [
        "#### Exercise: Extract the integer part of a random array of positive numbers using 2 different methods (★★☆)"
      ]
    },
    {
      "cell_type": "code",
      "execution_count": null,
      "id": "34b4fa08",
      "metadata": {
        "colab": {
          "base_uri": "https://localhost:8080/"
        },
        "id": "34b4fa08",
        "outputId": "977ca9c0-ad9b-4229-d00a-763794b9cfd9"
      },
      "outputs": [
        {
          "output_type": "execute_result",
          "data": {
            "text/plain": [
              "array([2., 1., 2., 4., 1.])"
            ]
          },
          "metadata": {},
          "execution_count": 34
        }
      ],
      "source": [
        "arreglo = np.random.uniform(1,5,5)\n",
        "#np.floor(arreglo)\n",
        "#arreglo.astype(int)\n",
        "#print(arreglo//1)\n",
        "#np.trunc(arreglo)"
      ]
    },
    {
      "cell_type": "markdown",
      "id": "649e89f9",
      "metadata": {
        "id": "649e89f9"
      },
      "source": [
        "#### Exercise: Create a 5x5 matrix with row values ranging from 0 to 4 (★★☆)"
      ]
    },
    {
      "cell_type": "code",
      "execution_count": null,
      "id": "663cc611",
      "metadata": {
        "colab": {
          "base_uri": "https://localhost:8080/"
        },
        "id": "663cc611",
        "outputId": "46e3af7f-849b-4b6e-e722-9023038509f5"
      },
      "outputs": [
        {
          "output_type": "stream",
          "name": "stdout",
          "text": [
            "[[0 1 2 3 4]\n",
            " [0 1 2 3 4]\n",
            " [0 1 2 3 4]\n",
            " [0 1 2 3 4]\n",
            " [0 1 2 3 4]]\n"
          ]
        }
      ],
      "source": [
        "matrix = np.tile(np.arange(0,5),(5,1))\n",
        "print(matrix)"
      ]
    },
    {
      "cell_type": "code",
      "source": [
        "x = np.zeros((5,5))\n",
        "x += np.arange(5)\n",
        "print(x)"
      ],
      "metadata": {
        "colab": {
          "base_uri": "https://localhost:8080/"
        },
        "id": "_JuGcb-j1hdE",
        "outputId": "e32445e9-9653-4755-df9b-6ccdb74cb1bf"
      },
      "id": "_JuGcb-j1hdE",
      "execution_count": null,
      "outputs": [
        {
          "output_type": "stream",
          "name": "stdout",
          "text": [
            "[[0. 1. 2. 3. 4.]\n",
            " [0. 1. 2. 3. 4.]\n",
            " [0. 1. 2. 3. 4.]\n",
            " [0. 1. 2. 3. 4.]\n",
            " [0. 1. 2. 3. 4.]]\n"
          ]
        }
      ]
    },
    {
      "cell_type": "markdown",
      "id": "3421e17f",
      "metadata": {
        "id": "3421e17f"
      },
      "source": [
        "#### Exercise: Consider a generator function that generates 10 integers and use it to build an array (★★☆)"
      ]
    },
    {
      "cell_type": "code",
      "execution_count": null,
      "id": "7336b8e4",
      "metadata": {
        "colab": {
          "base_uri": "https://localhost:8080/"
        },
        "id": "7336b8e4",
        "outputId": "88c41125-3f08-4ec1-f6b0-24f7db8ba040"
      },
      "outputs": [
        {
          "output_type": "stream",
          "name": "stdout",
          "text": [
            "[0 1 2 3 4 5 6 7 8 9]\n"
          ]
        }
      ],
      "source": [
        "def generate():\n",
        "  for x in range(10):\n",
        "    yield x\n",
        "\n",
        "Z = np.fromiter(generate(),dtype=int, count= -1)\n",
        "print(Z)"
      ]
    },
    {
      "cell_type": "markdown",
      "id": "483dd554",
      "metadata": {
        "id": "483dd554"
      },
      "source": [
        "#### Exercise: Create a vector of size 10 with values ranging from 0 to 1, both excluded (★★☆)"
      ]
    },
    {
      "cell_type": "code",
      "execution_count": null,
      "id": "c89b93e7",
      "metadata": {
        "id": "c89b93e7"
      },
      "outputs": [],
      "source": [
        ""
      ]
    },
    {
      "cell_type": "markdown",
      "id": "2d07be1c",
      "metadata": {
        "id": "2d07be1c"
      },
      "source": [
        "#### Exercise: Create a random vector of size 10 and sort it (★★☆)"
      ]
    },
    {
      "cell_type": "code",
      "execution_count": null,
      "id": "4f7cb3ad",
      "metadata": {
        "id": "4f7cb3ad"
      },
      "outputs": [],
      "source": [
        ""
      ]
    },
    {
      "cell_type": "markdown",
      "id": "fe043549",
      "metadata": {
        "id": "fe043549"
      },
      "source": [
        "#### Exercise: Consider two random arrays A and B, check if they are equal (★★☆)"
      ]
    },
    {
      "cell_type": "code",
      "execution_count": null,
      "id": "3326a686",
      "metadata": {
        "id": "3326a686"
      },
      "outputs": [],
      "source": [
        ""
      ]
    },
    {
      "cell_type": "markdown",
      "id": "2002cb03",
      "metadata": {
        "id": "2002cb03"
      },
      "source": [
        "#### Exercise: Consider a random 10x2 matrix representing cartesian coordinates, convert them to polar coordinates (★★★)\n",
        ">Suggestion: check how to calculate the \"square of a matrix\""
      ]
    },
    {
      "cell_type": "code",
      "execution_count": null,
      "id": "58be72bc",
      "metadata": {
        "id": "58be72bc"
      },
      "outputs": [],
      "source": [
        ""
      ]
    },
    {
      "cell_type": "markdown",
      "id": "b7109c9f",
      "metadata": {
        "id": "b7109c9f"
      },
      "source": [
        "#### Exercise: Create random vector of size 10 and replace the maximum value by 0 (★★☆)"
      ]
    },
    {
      "cell_type": "code",
      "execution_count": null,
      "id": "f79e79a7",
      "metadata": {
        "id": "f79e79a7"
      },
      "outputs": [],
      "source": [
        ""
      ]
    },
    {
      "cell_type": "markdown",
      "id": "fb24674c",
      "metadata": {
        "id": "fb24674c"
      },
      "source": [
        "#### Exercise: How to print all the values of an array? (★★☆)"
      ]
    },
    {
      "cell_type": "code",
      "execution_count": null,
      "id": "c81f1456",
      "metadata": {
        "id": "c81f1456"
      },
      "outputs": [],
      "source": [
        ""
      ]
    },
    {
      "cell_type": "markdown",
      "id": "48413134",
      "metadata": {
        "id": "48413134"
      },
      "source": [
        "#### Exercise: How to convert a float (32 bits) array into an integer (32 bits) in place?\n",
        ">Check: https://stackoverflow.com/a/4396247/5989906"
      ]
    },
    {
      "cell_type": "code",
      "execution_count": null,
      "id": "5db64b6d",
      "metadata": {
        "id": "5db64b6d"
      },
      "outputs": [],
      "source": [
        ""
      ]
    },
    {
      "cell_type": "markdown",
      "id": "215b6acc",
      "metadata": {
        "id": "215b6acc"
      },
      "source": [
        "#### Exercise: Subtract the mean of each row of a matrix (★★☆)"
      ]
    },
    {
      "cell_type": "code",
      "execution_count": null,
      "id": "dd1adef4",
      "metadata": {
        "id": "dd1adef4"
      },
      "outputs": [],
      "source": [
        ""
      ]
    },
    {
      "cell_type": "markdown",
      "id": "c0cf37e0",
      "metadata": {
        "id": "c0cf37e0"
      },
      "source": [
        "#### Exercise: How to sort an array by the nth column? (★★☆)"
      ]
    },
    {
      "cell_type": "code",
      "execution_count": null,
      "id": "9336ca5f",
      "metadata": {
        "id": "9336ca5f"
      },
      "outputs": [],
      "source": [
        ""
      ]
    },
    {
      "cell_type": "markdown",
      "id": "c17fb213",
      "metadata": {
        "id": "c17fb213"
      },
      "source": [
        "#### Exercise: Find the position of the minimum of a 2D matrix (★★☆)"
      ]
    },
    {
      "cell_type": "code",
      "execution_count": null,
      "id": "7fdda78d",
      "metadata": {
        "id": "7fdda78d"
      },
      "outputs": [],
      "source": [
        ""
      ]
    },
    {
      "cell_type": "markdown",
      "id": "f4427f7f",
      "metadata": {
        "id": "f4427f7f"
      },
      "source": [
        "#### Exercise: Read an image using openCV, check its dimensions, normalize the numbers and show the image (★★★)\n",
        "\n",
        ">Check: https://www.geeksforgeeks.org/python-opencv-cv2-imread-method/"
      ]
    },
    {
      "cell_type": "code",
      "execution_count": null,
      "id": "fe253212",
      "metadata": {
        "id": "fe253212"
      },
      "outputs": [],
      "source": [
        ""
      ]
    },
    {
      "cell_type": "markdown",
      "id": "33c986d9",
      "metadata": {
        "id": "33c986d9"
      },
      "source": [
        "#### Exercise: Considering a four dimensions array, how to get the sum over the last two axis at once? (★★★)"
      ]
    },
    {
      "cell_type": "code",
      "execution_count": null,
      "id": "a99a50e2",
      "metadata": {
        "id": "a99a50e2"
      },
      "outputs": [],
      "source": [
        ""
      ]
    },
    {
      "cell_type": "markdown",
      "id": "928a1a15",
      "metadata": {
        "id": "928a1a15"
      },
      "source": [
        "#### Exercise: How to get the diagonal of a dot product? (★★★)"
      ]
    },
    {
      "cell_type": "code",
      "execution_count": null,
      "id": "ef2c9ddd",
      "metadata": {
        "id": "ef2c9ddd"
      },
      "outputs": [],
      "source": [
        ""
      ]
    },
    {
      "cell_type": "markdown",
      "id": "f62551d8",
      "metadata": {
        "id": "f62551d8"
      },
      "source": [
        "#### Exercise: Consider an array of dimension (5,5,3), how to mulitply it by an array with dimensions (5,5)? (★★★)"
      ]
    },
    {
      "cell_type": "code",
      "execution_count": null,
      "id": "9ab241b7",
      "metadata": {
        "id": "9ab241b7"
      },
      "outputs": [],
      "source": [
        ""
      ]
    },
    {
      "cell_type": "markdown",
      "id": "6896e326",
      "metadata": {
        "id": "6896e326"
      },
      "source": [
        "#### Exercise: How to swap two rows of an array? (★★★)"
      ]
    },
    {
      "cell_type": "code",
      "execution_count": null,
      "id": "9e8fcba9",
      "metadata": {
        "id": "9e8fcba9"
      },
      "outputs": [],
      "source": [
        ""
      ]
    },
    {
      "cell_type": "markdown",
      "id": "8e83df46",
      "metadata": {
        "id": "8e83df46"
      },
      "source": [
        "#### Exercise: Read an image using openCV and tranpose it. What did you get exactly? Was the image rotated? Moved? Reflected with respect to an axis? (★★★)"
      ]
    },
    {
      "cell_type": "code",
      "execution_count": null,
      "id": "f73127b7",
      "metadata": {
        "id": "f73127b7"
      },
      "outputs": [],
      "source": [
        ""
      ]
    },
    {
      "cell_type": "markdown",
      "id": "781fa236",
      "metadata": {
        "id": "781fa236"
      },
      "source": [
        "#### Exercise: Consider an array Z = [1,2,3,4,5,6,7,8,9,10,11,12,13,14], how to generate an array R = [[1,2,3,4], [2,3,4,5], [3,4,5,6], ..., [11,12,13,14]]? (★★★)"
      ]
    },
    {
      "cell_type": "code",
      "execution_count": null,
      "id": "8e84d3c2",
      "metadata": {
        "id": "8e84d3c2"
      },
      "outputs": [],
      "source": [
        ""
      ]
    },
    {
      "cell_type": "markdown",
      "id": "7d8dc135",
      "metadata": {
        "id": "7d8dc135"
      },
      "source": [
        "#### Exercise: How to find the most frequent value in an array? (★★★)"
      ]
    },
    {
      "cell_type": "code",
      "execution_count": null,
      "id": "3978a7a2",
      "metadata": {
        "id": "3978a7a2"
      },
      "outputs": [],
      "source": [
        ""
      ]
    },
    {
      "cell_type": "markdown",
      "id": "4c70397b",
      "metadata": {
        "id": "4c70397b"
      },
      "source": [
        "#### Exercise: How to get the n largest values of an array (★★★)"
      ]
    },
    {
      "cell_type": "code",
      "execution_count": null,
      "id": "16371718",
      "metadata": {
        "id": "16371718"
      },
      "outputs": [],
      "source": [
        ""
      ]
    },
    {
      "cell_type": "markdown",
      "id": "d94352b6",
      "metadata": {
        "id": "d94352b6"
      },
      "source": [
        "#### Exercise: Consider a large vector Z, compute Z to the power of 3 using 3 different methods (★★★)"
      ]
    },
    {
      "cell_type": "code",
      "execution_count": null,
      "id": "301ba8a8",
      "metadata": {
        "id": "301ba8a8"
      },
      "outputs": [],
      "source": [
        ""
      ]
    },
    {
      "cell_type": "markdown",
      "id": "2784c996",
      "metadata": {
        "id": "2784c996"
      },
      "source": [
        "#### Exercise: Given a two dimensional array, how to extract unique rows? (★★★)"
      ]
    },
    {
      "cell_type": "code",
      "execution_count": null,
      "id": "f030595f",
      "metadata": {
        "id": "f030595f"
      },
      "outputs": [],
      "source": [
        ""
      ]
    },
    {
      "cell_type": "markdown",
      "id": "e5737276",
      "metadata": {
        "id": "e5737276"
      },
      "source": [
        "#### Exercise: Can you have an array of strings? Can you mix different data types in the same array? Can you operate (add, sub, mult) arrays with different data types? (★★★)"
      ]
    },
    {
      "cell_type": "code",
      "execution_count": null,
      "id": "68c333b0",
      "metadata": {
        "id": "68c333b0"
      },
      "outputs": [],
      "source": [
        ""
      ]
    }
  ],
  "metadata": {
    "kernelspec": {
      "display_name": "Python 3",
      "language": "python",
      "name": "python3"
    },
    "language_info": {
      "codemirror_mode": {
        "name": "ipython",
        "version": 3
      },
      "file_extension": ".py",
      "mimetype": "text/x-python",
      "name": "python",
      "nbconvert_exporter": "python",
      "pygments_lexer": "ipython3",
      "version": "3.8.12"
    },
    "colab": {
      "name": "02.1-Intro-to-Numpy.ipynb",
      "provenance": []
    }
  },
  "nbformat": 4,
  "nbformat_minor": 5
}