{
  "cells": [
    {
      "cell_type": "markdown",
      "id": "bdfbcacc",
      "metadata": {
        "id": "bdfbcacc"
      },
      "source": [
        "<img src=\"https://github.com/4GeeksAcademy/machine-learning-prework/blob/main/02-numpy/assets/numpy_logo.png?raw=1\" alt=\"logo\" width=\"400\"/>\n",
        "\n",
        "## Introduction to numpy\n",
        "\n",
        "NumPy stands for 'Numerical Python'. It is an open-source Python library used to perform various mathematical and scientific tasks. It contains multi-dimensional arrays and matrixes, along with many high-level mathematical functions that operate on them. It contains among other things:\n",
        "\n",
        "→ a powerful N-dimensional array object.\n",
        "\n",
        "→ sophisticated (broadcasting) functions.\n",
        "\n",
        "→ tools for integrating C/C++ and Fortran code.\n",
        "\n",
        "→ useful linear algebra, Fourier transform, and random number capabilities."
      ]
    },
    {
      "cell_type": "markdown",
      "id": "85902746",
      "metadata": {
        "id": "85902746"
      },
      "source": [
        "## Installing NumPy\n",
        "When you want to work with numpy locally, you should run the following commands:\n",
        "\n",
        "You can install NumPy with:\\\n",
        "`pip install numpy`\\\n",
        "or\\\n",
        "`conda install numpy`\n",
        "\n",
        "In our case, 4Geeks have prepared all the environment in order that you can work comfortably."
      ]
    },
    {
      "cell_type": "markdown",
      "id": "58765356",
      "metadata": {
        "id": "58765356"
      },
      "source": [
        "## Why should we use NumPy?\n",
        "\n",
        "Numpy is a library that performs numerical calculations in python. We will use it mainly because it allows us to create, modify matrixes, and do operations on them with ease.\n",
        "\n",
        "NumPy is like Pandas, Matplotlib or Scikit-Learn. It is one of the packages that you cannot miss when you are studying Machine Learning. Mainly because this library provides a matrix data structure that has some benefits over regular Python lists. Some of these benefits are: being more compact, quicker access to reading and writing articles, more convenient and efficient.\n",
        "\n",
        "For example, we will see later in the bootcamp that working with images is dealing with three-dimensional matrixes as large as 3840 x 2160, which means we will have 3×3840×2160 = 24883200 entries!!! 😱😱😱.\n",
        "\n",
        "Working with matrixes of that magnitude is practically impossible to carry out with lists and dictionaries if one wants to have an efficient and fast programming."
      ]
    },
    {
      "cell_type": "markdown",
      "id": "c4e52ee5",
      "metadata": {
        "id": "c4e52ee5"
      },
      "source": [
        "#### Exercise: Import the numpy package under the name `np` (★☆☆)\n",
        "\n",
        "`numpy` is commonly imported as `np` so we highly recommend to put this alias."
      ]
    },
    {
      "cell_type": "code",
      "execution_count": 1,
      "id": "ea3038d9",
      "metadata": {
        "id": "ea3038d9"
      },
      "outputs": [],
      "source": [
        "import numpy as np"
      ]
    },
    {
      "cell_type": "markdown",
      "id": "40631cd6",
      "metadata": {
        "id": "40631cd6"
      },
      "source": [
        "## What is an array and why it is important for Machine Learning?\n",
        "\n",
        "An array is a data structure consisting of a collection of elements (values or variables), each identified by at least one index or key.\n"
      ]
    },
    {
      "cell_type": "markdown",
      "id": "ce969254",
      "metadata": {
        "id": "ce969254"
      },
      "source": [
        "![alt text](assets/1D.png \"1D\")"
      ]
    },
    {
      "cell_type": "markdown",
      "id": "735d02e2",
      "metadata": {
        "id": "735d02e2"
      },
      "source": [
        "An array is known as the central data structure of the Numpy library; it can also be of several dimensions. For example, neural networks sometimes deal with 4D arrays.\n",
        "\n",
        "Later on, we are also going to use another kind of arrays called: Tensors."
      ]
    },
    {
      "cell_type": "markdown",
      "id": "a20ce3a4",
      "metadata": {
        "id": "a20ce3a4"
      },
      "source": [
        "![alt text](./assets/3D.png \"3D\")"
      ]
    },
    {
      "cell_type": "markdown",
      "id": "46950f4f",
      "metadata": {
        "id": "46950f4f"
      },
      "source": [
        "#### Exercise: Print the version and configuration of numpy (★☆☆)\n",
        "\n",
        "You can print the version of any package of Python using `name_of_package.__version__`"
      ]
    },
    {
      "cell_type": "code",
      "execution_count": null,
      "id": "2a9f5838",
      "metadata": {
        "id": "2a9f5838",
        "outputId": "9e931598-ed4c-47b2-e23b-44b9bc217d24"
      },
      "outputs": [
        {
          "name": "stdout",
          "output_type": "stream",
          "text": [
            "1.21.3\n"
          ]
        }
      ],
      "source": [
        "import numpy as np\n",
        "print(np.__version__)"
      ]
    },
    {
      "cell_type": "markdown",
      "id": "e3c20b3d",
      "metadata": {
        "id": "e3c20b3d"
      },
      "source": [
        "#### Exercise: Create a null vector of size 10 (★☆☆)\n",
        "\n",
        "A `null vector` is an array of zeros (`0`), also called `initialization vector`.\n",
        "\n",
        ">Check de function `np.zeros` (https://numpy.org/doc/stable/reference/generated/numpy.zeros.html)"
      ]
    },
    {
      "cell_type": "code",
      "execution_count": null,
      "id": "8a758bcf",
      "metadata": {
        "id": "8a758bcf",
        "outputId": "97475063-17d1-48e1-ae4f-2510195c7468"
      },
      "outputs": [
        {
          "data": {
            "text/plain": [
              "array([], dtype=float64)"
            ]
          },
          "execution_count": 9,
          "metadata": {},
          "output_type": "execute_result"
        }
      ],
      "source": [
        "np.zeros(0)"
      ]
    },
    {
      "cell_type": "markdown",
      "id": "6cbe7954",
      "metadata": {
        "id": "6cbe7954"
      },
      "source": [
        "#### Exercise: Create a vector of ones with size 10 (★☆☆)\n",
        "\n",
        ">Check de function `np.ones` (https://numpy.org/doc/stable/reference/generated/numpy.ones.html)"
      ]
    },
    {
      "cell_type": "code",
      "execution_count": null,
      "id": "86477874",
      "metadata": {
        "id": "86477874",
        "outputId": "01eef2b5-e597-4827-b7ae-75c70ff53cf8"
      },
      "outputs": [
        {
          "data": {
            "text/plain": [
              "array([1., 1., 1., 1., 1., 1., 1., 1., 1., 1.])"
            ]
          },
          "execution_count": 10,
          "metadata": {},
          "output_type": "execute_result"
        }
      ],
      "source": [
        "np.ones(10)"
      ]
    },
    {
      "cell_type": "markdown",
      "id": "0a708990",
      "metadata": {
        "id": "0a708990"
      },
      "source": [
        "#### Exercise: Create an 1D array with a specific start value, end value, and number of values (★☆☆)\n",
        "\n",
        ">Check the function `np.linspace` (https://numpy.org/doc/stable/reference/generated/numpy.linspace.html)"
      ]
    },
    {
      "cell_type": "code",
      "execution_count": null,
      "id": "477e01f4",
      "metadata": {
        "id": "477e01f4",
        "outputId": "5adf399c-6847-4761-f5a9-86d17a6ed4a7"
      },
      "outputs": [
        {
          "data": {
            "text/plain": [
              "array([1.        , 1.11111111, 1.22222222, 1.33333333, 1.44444444,\n",
              "       1.55555556, 1.66666667, 1.77777778, 1.88888889, 2.        ])"
            ]
          },
          "execution_count": 11,
          "metadata": {},
          "output_type": "execute_result"
        }
      ],
      "source": [
        "np.linspace(1,2,10)"
      ]
    },
    {
      "cell_type": "markdown",
      "id": "782d4c77",
      "metadata": {
        "id": "782d4c77"
      },
      "source": [
        "#### Run: Create a vector (1D array) with random integers from 10 to 49 and dimension 1x35 (★☆☆)\n",
        "\n",
        "When `dimension` is expressed `1x35` it means: One dimension array with 35 items (length=35).\n",
        "\n",
        ">Check the function `np.random` which allows you to create random arrays (https://numpy.org/doc/1.16/reference/routines.random.html)"
      ]
    },
    {
      "cell_type": "code",
      "execution_count": null,
      "id": "5dbe1a08",
      "metadata": {
        "id": "5dbe1a08",
        "outputId": "081599b0-4913-4d6b-cc56-5b71074936fc"
      },
      "outputs": [
        {
          "name": "stdout",
          "output_type": "stream",
          "text": [
            "[0.95625101 0.46980614 0.80157953 0.79762784 0.67327667 0.42400419\n",
            " 0.40437389 0.58845834 0.58894057 0.40771583]\n"
          ]
        }
      ],
      "source": [
        "import numpy as np\n",
        "\n",
        "## 10 random numbers between (0, 1)\n",
        "print(np.random.random(10)) "
      ]
    },
    {
      "cell_type": "code",
      "execution_count": null,
      "id": "a9354456",
      "metadata": {
        "id": "a9354456",
        "outputId": "7ce6572e-6f94-4533-eb5a-270762e5b4ce"
      },
      "outputs": [
        {
          "name": "stdout",
          "output_type": "stream",
          "text": [
            "[0.56168108 0.24748839 0.53761307 0.97091848 0.79245561 0.22161239\n",
            " 0.69350801 0.48000351 0.18968002 0.32187232]\n",
            "[ 0.94209455 -1.64272316  0.56620792  2.10585027 -0.90969019  0.15682171\n",
            " -0.58121318  0.13185223  1.72316188 -0.35960136]\n"
          ]
        }
      ],
      "source": [
        "## Two ways to create numbers with normal distribution\n",
        "print(np.random.rand(10)) # 10 random values with distribution N(0,1)\n",
        "print(np.random.normal(loc = 0, scale = 1, size = 10)) # 10 random values with distribution N(0,1)"
      ]
    },
    {
      "cell_type": "code",
      "execution_count": null,
      "id": "73ed6271",
      "metadata": {
        "id": "73ed6271"
      },
      "outputs": [],
      "source": [
        "## Did you notice the difference between both functions? \n",
        "print(np.random.normal(loc = -5, scale = 33, size = 10)) # 10 random values with distribution N(-5,33)"
      ]
    },
    {
      "cell_type": "code",
      "execution_count": null,
      "id": "49ae7a5a",
      "metadata": {
        "id": "49ae7a5a"
      },
      "outputs": [],
      "source": [
        "## 10 random values with uniform distribution. That means, all values have the same probability\n",
        "print(np.random.uniform(-30,100,10)) # All values are between -30 and 100."
      ]
    },
    {
      "cell_type": "code",
      "execution_count": null,
      "id": "f78e72cb",
      "metadata": {
        "id": "f78e72cb"
      },
      "outputs": [],
      "source": [
        "# 10 integers values between 0 and 100.\n",
        "print(np.random.randint(0, 100, 10))"
      ]
    },
    {
      "cell_type": "code",
      "execution_count": null,
      "id": "db278431",
      "metadata": {
        "id": "db278431"
      },
      "outputs": [],
      "source": [
        "# 10 random values with Chi distribution with 5 degrees of freedom\n",
        "print(np.random.chisquare(5,10))"
      ]
    },
    {
      "cell_type": "markdown",
      "id": "1b7841da",
      "metadata": {
        "id": "1b7841da"
      },
      "source": [
        "The above examples are the most common distribution and random values you will learn throughout the bootcamp. Now, let's deal with those arrays."
      ]
    },
    {
      "cell_type": "markdown",
      "id": "48d48f01",
      "metadata": {
        "id": "48d48f01"
      },
      "source": [
        "#### Exercise: Reverse one of the last vector we created before (first element becomes last) (★☆☆)\n",
        "Try with `[::-1]`"
      ]
    },
    {
      "cell_type": "code",
      "execution_count": null,
      "id": "3ed233e7",
      "metadata": {
        "id": "3ed233e7"
      },
      "outputs": [],
      "source": [
        ""
      ]
    },
    {
      "cell_type": "markdown",
      "id": "4fa39382",
      "metadata": {
        "id": "4fa39382"
      },
      "source": [
        "#### Exercise: Create a 5x5 identity matrix (★☆☆)\n",
        "\n",
        ">Check the function `np.eye`(https://numpy.org/devdocs/reference/generated/numpy.eye.html)"
      ]
    },
    {
      "cell_type": "code",
      "execution_count": null,
      "id": "c97757ec",
      "metadata": {
        "id": "c97757ec"
      },
      "outputs": [],
      "source": [
        ""
      ]
    },
    {
      "cell_type": "markdown",
      "id": "da64551a",
      "metadata": {
        "id": "da64551a"
      },
      "source": [
        "#### Exercise: Find indexes of non-zero elements from [1,2,0,0,4,0] (★☆☆)\n",
        "\n",
        ">Check the function `where`(https://numpy.org/devdocs/reference/generated/numpy.where.html)"
      ]
    },
    {
      "cell_type": "code",
      "execution_count": null,
      "id": "327f7adb",
      "metadata": {
        "id": "327f7adb"
      },
      "outputs": [],
      "source": [
        ""
      ]
    },
    {
      "cell_type": "markdown",
      "id": "13c5928c",
      "metadata": {
        "id": "13c5928c"
      },
      "source": [
        "#### Exercise: Create a 10x10 array with random values and find the minimum and maximum values (★☆☆)\n",
        "\n",
        ">Check the function `min` (https://numpy.org/devdocs/reference/generated/numpy.where.html) and `max` (https://numpy.org/devdocs/reference/generated/numpy.max.html)"
      ]
    },
    {
      "cell_type": "code",
      "execution_count": null,
      "id": "911c9b93",
      "metadata": {
        "id": "911c9b93"
      },
      "outputs": [],
      "source": [
        ""
      ]
    },
    {
      "cell_type": "markdown",
      "id": "3fa2e461",
      "metadata": {
        "id": "3fa2e461"
      },
      "source": [
        "#### Exercise: Create a random vector of size 30 and find the mean value (★☆☆)"
      ]
    },
    {
      "cell_type": "code",
      "execution_count": null,
      "id": "323eb38a",
      "metadata": {
        "id": "323eb38a"
      },
      "outputs": [],
      "source": [
        ""
      ]
    },
    {
      "cell_type": "markdown",
      "id": "961f074f",
      "metadata": {
        "id": "961f074f"
      },
      "source": [
        "#### Exercise: Define a function with your date of birth (yyyy/mm/dd) as imput, that returns a random array with the following dimensions: (★★☆)\n",
        "\n",
        "$$yyyy-1900 \\times |mm - dd|$$"
      ]
    },
    {
      "cell_type": "code",
      "execution_count": null,
      "id": "d3f49255",
      "metadata": {
        "id": "d3f49255"
      },
      "outputs": [],
      "source": [
        ""
      ]
    },
    {
      "cell_type": "markdown",
      "id": "ff8dbb92",
      "metadata": {
        "id": "ff8dbb92"
      },
      "source": [
        "## What is the difference between Python List and a Numpy Array?\n",
        "\n",
        "- Python list can contain elements with different data types, while Numpy Array‘s elements are always homogeneous (same data types).\n",
        "\n",
        "- Numpy arrays are faster and more compact than Python lists.\n",
        "\n",
        "## Why Numpy Arrays are faster than Lists?\n",
        "\n",
        "- Numpy Arrays use fixed memory to store data and less memory than Python lists.\n",
        "\n",
        "- Contiguous memory allocation in Numpy Arrays."
      ]
    },
    {
      "cell_type": "markdown",
      "id": "e3a7ba7f",
      "metadata": {
        "id": "e3a7ba7f"
      },
      "source": [
        "#### Exercise: Convert the list `my_list = [1, 2, 3]` to numpy array (★☆☆)"
      ]
    },
    {
      "cell_type": "code",
      "execution_count": null,
      "id": "01d8e257",
      "metadata": {
        "id": "01d8e257"
      },
      "outputs": [],
      "source": [
        ""
      ]
    },
    {
      "cell_type": "markdown",
      "id": "6d17ab5d",
      "metadata": {
        "id": "6d17ab5d"
      },
      "source": [
        "#### Exercise: Convert the tuple `my_list = (1, 2, 3)` to numpy array (★☆☆)"
      ]
    },
    {
      "cell_type": "code",
      "execution_count": null,
      "id": "841373cd",
      "metadata": {
        "id": "841373cd"
      },
      "outputs": [],
      "source": [
        ""
      ]
    },
    {
      "cell_type": "markdown",
      "id": "8837119b",
      "metadata": {
        "id": "8837119b"
      },
      "source": [
        "#### Exercise: Convert the list of tuples `my_list = [(1,2,3), (4,5)]` to numpy array (★☆☆)"
      ]
    },
    {
      "cell_type": "code",
      "execution_count": null,
      "id": "2c0d16f1",
      "metadata": {
        "id": "2c0d16f1"
      },
      "outputs": [],
      "source": [
        ""
      ]
    },
    {
      "cell_type": "markdown",
      "id": "ec788c9f",
      "metadata": {
        "id": "ec788c9f"
      },
      "source": [
        "#### Exercise: Resize a random array of dimensions 5x12 into 12x5 (★☆☆)\n",
        "\n",
        ">Check `reshape` from `numpy` (https://numpy.org/doc/stable/reference/generated/numpy.reshape.html)"
      ]
    },
    {
      "cell_type": "code",
      "execution_count": null,
      "id": "0a4f919f",
      "metadata": {
        "id": "0a4f919f"
      },
      "outputs": [],
      "source": [
        ""
      ]
    },
    {
      "cell_type": "markdown",
      "id": "391791e0",
      "metadata": {
        "id": "391791e0"
      },
      "source": [
        "#### Exercise: Create a function that normalize a 5x5 random matrix (★☆☆)\n",
        "\n",
        ">Remember from probability (https://en.wikipedia.org/wiki/Normalization_(statistics)) that :\n",
        "$$ x_{norm} = \\frac{x - \\bar{x}}{\\sigma}$$\n"
      ]
    },
    {
      "cell_type": "code",
      "execution_count": null,
      "id": "f6533d39",
      "metadata": {
        "id": "f6533d39"
      },
      "outputs": [],
      "source": [
        ""
      ]
    },
    {
      "cell_type": "markdown",
      "id": "d2d143f1",
      "metadata": {
        "id": "d2d143f1"
      },
      "source": [
        "## Stacking numpy arrays\n",
        "\n",
        "Stacking is used to join a sequence of same dimension arrays along a new axis.\n",
        "\n",
        "`numpy.stack(arrays,axis)` : It returns a stacked array of the input arrays which has one more dimension than the input arrays.\n",
        "\n",
        "### You have two ways to do it:\n",
        "\n",
        "\n",
        "![alt text](./assets/stack.jpeg \"stack\")\n",
        "\n",
        "\n",
        "### or\n",
        "\n",
        "\n",
        "![alt text](./assets/stack2.jpeg \"stack\")\n",
        "\n",
        "\n"
      ]
    },
    {
      "cell_type": "markdown",
      "id": "1e74d39e",
      "metadata": {
        "id": "1e74d39e"
      },
      "source": [
        "#### Exercise: Generate two random arrays with integers and apply the stacking using `stack` (★★☆)"
      ]
    },
    {
      "cell_type": "code",
      "execution_count": null,
      "id": "3f639d33",
      "metadata": {
        "id": "3f639d33"
      },
      "outputs": [],
      "source": [
        ""
      ]
    },
    {
      "cell_type": "markdown",
      "id": "78250c14",
      "metadata": {
        "id": "78250c14"
      },
      "source": [
        "#### Exercise: Generate two random arrays with integers and apply the stacking using `hstack` and `vstack` (★★☆)"
      ]
    },
    {
      "cell_type": "code",
      "execution_count": null,
      "id": "9fe729cb",
      "metadata": {
        "id": "9fe729cb"
      },
      "outputs": [],
      "source": [
        ""
      ]
    },
    {
      "cell_type": "markdown",
      "id": "51898680",
      "metadata": {
        "id": "51898680"
      },
      "source": [
        "## Basic maths in numpy\n",
        "\n",
        "You can make typical math operations like:\n",
        "\n",
        "- Addition,Subtraction,Multiplication and Division between two arrays using numpy.\n",
        "- Operation on arrays using sum() & cumsum() function.\n",
        "- Minimum and Maximum value from an array.\n",
        "- Exponent/Power , Square Root and Cube Root functions.\n",
        "\n",
        "or even apply common trigonometric functions:\n",
        "\n",
        "- `numpy.sin()`:  Sine (x) Function\n",
        "- `numpy.cos()`: Cosine(x) Function\n",
        "- `numpy.tan()`: Tangent(x) Function\n",
        "- `numpy.sinh()`: Hyperbolic Sine (x) Function\n",
        "- `numpy.cosh()`: Hyperbolic Cosine(x) Function\n",
        "- `numpy.tanh()`: Hyperbolic Tangent(x) Function\n",
        "- `numpy.arcsin()`: Inverse Sine(x) Function\n",
        "- `numpy.arccos()`: Inverse Cosine(x) Function\n",
        "- `numpy.arctan()`: Inverse Tangent(X) Function\n",
        "- `numpy.pi`: Pi value π\n",
        "- `numpy.hypot(w,h)`: For calculating Hypotenuse $c = \\sqrt{(w^2 + h^2)}$\n",
        "- `numpy.rad2deg()`: Radians to degrees\n",
        "- `numpy.deg2rad()`: Degrees to radians"
      ]
    },
    {
      "cell_type": "markdown",
      "id": "89e78048",
      "metadata": {
        "id": "89e78048"
      },
      "source": [
        "#### Exercise: Generate two random 8 - dimensional vectors and apply the most common operation between vectors:  addition, substraction, multiplication, division(★☆☆)\n",
        "\n",
        ">Check the math functions here: https://numpy.org/doc/stable/reference/routines.math.html"
      ]
    },
    {
      "cell_type": "code",
      "execution_count": null,
      "id": "b62e9d1c",
      "metadata": {
        "id": "b62e9d1c"
      },
      "outputs": [],
      "source": [
        ""
      ]
    },
    {
      "cell_type": "markdown",
      "id": "ebd10810",
      "metadata": {
        "id": "ebd10810"
      },
      "source": [
        "#### Exercise: Generate two random matrices with dimensions between 5 and 10. For example, try 5x7 vs 8x9. Were you able to do the matrix multiplication? why? (★★☆) "
      ]
    },
    {
      "cell_type": "code",
      "execution_count": null,
      "id": "6ada209f",
      "metadata": {
        "id": "6ada209f"
      },
      "outputs": [],
      "source": [
        ""
      ]
    },
    {
      "cell_type": "markdown",
      "id": "c0e940f8",
      "metadata": {
        "id": "c0e940f8"
      },
      "source": [
        "#### Exercise: Given 2 numpy arrays as matrices, output the result of multiplying the 2 matrices (as a numpy array) Were you able to do the matrix multiplication? (★★☆) \n",
        "\n",
        "$$ a = \\left(\\begin{matrix}\n",
        "0 & 1 & 2\\\\ \n",
        "3 & 4 & 5\\\\ \n",
        "6 & 7 & 8\n",
        "\\end{matrix}\\right)$$\n",
        "\n",
        "$$ b = \\left(\\begin{matrix}\n",
        "2 & 3 & 4\\\\ \n",
        "5 & 6 & 7\\\\ \n",
        "8 & 9 & 10\n",
        "\\end{matrix}\\right)$$\n",
        "\n",
        "\n"
      ]
    },
    {
      "cell_type": "code",
      "execution_count": null,
      "id": "820dc7a5",
      "metadata": {
        "id": "820dc7a5"
      },
      "outputs": [],
      "source": [
        ""
      ]
    },
    {
      "cell_type": "markdown",
      "id": "22713c3f",
      "metadata": {
        "id": "22713c3f"
      },
      "source": [
        "#### Exercise: Multiply a 5x3 matrix by a 3x2 matrix (real matrix product) (★★☆)"
      ]
    },
    {
      "cell_type": "code",
      "execution_count": null,
      "id": "a3e05c29",
      "metadata": {
        "id": "a3e05c29"
      },
      "outputs": [],
      "source": [
        ""
      ]
    },
    {
      "cell_type": "markdown",
      "id": "4815930e",
      "metadata": {
        "id": "4815930e"
      },
      "source": [
        "## Data types\n",
        "\n",
        "Do you think the following preposition is true?\n",
        "\n",
        "`8==8`\n",
        "\n",
        "Surely you will definetely say yes, which is true mathematically, but computationally it is not always the same, at least in terms of memory. For example, run the following cell:"
      ]
    },
    {
      "cell_type": "code",
      "execution_count": null,
      "id": "cd81c3c6",
      "metadata": {
        "id": "cd81c3c6"
      },
      "outputs": [],
      "source": [
        "import sys\n",
        "\n",
        "# int64\n",
        "x = np.array(123)\n",
        "print(\"int64: \" + str(sys.getsizeof(x)))\n",
        "\n",
        "# int8\n",
        "x = np.array(123,dtype=np.int8)\n",
        "print(\"int8: \" + str(sys.getsizeof(x)))\n",
        "\n",
        "# float32\n",
        "x = np.array(123,dtype=np.float32)\n",
        "print(\"float32: \" + str(sys.getsizeof(x)))"
      ]
    },
    {
      "cell_type": "markdown",
      "id": "8e34f294",
      "metadata": {
        "id": "8e34f294"
      },
      "source": [
        "#### It turns out that there are many computational representation of the same number and you can create arrays with different Data Types (dtypes) depending on what you need:\n",
        "\n",
        "- Boolean : `np.bool_`\n",
        "- Char : `np.byte`\n",
        "- Short : `np.short`\n",
        "- Integer : `np.short`\n",
        "- Long : `np.int_`\n",
        "- Float : `np.single`&np.float32`\n",
        "- Double :`np.double`&`np.float64`\n",
        "- `np.int8`: integer (-128 to 127)\n",
        "- `np.int16`:integer( -32768 to 32767)\n",
        "- `np.int32`: integer(-2147483648 to 2147483647)\n",
        "- `np.int64`:integer( -9223372036854775808 to 9223372036854775807)\n",
        "\n",
        "\n",
        "Sometimes, you will need to load, create or export arrays from different data types.\n"
      ]
    },
    {
      "cell_type": "code",
      "execution_count": null,
      "id": "890bde78",
      "metadata": {
        "id": "890bde78"
      },
      "outputs": [],
      "source": [
        ""
      ]
    },
    {
      "cell_type": "markdown",
      "id": "f1ae2c2d",
      "metadata": {
        "id": "f1ae2c2d"
      },
      "source": [
        "## Harder exercises\n",
        "\n",
        "The next exercises are related with real situations you could face while you are working in data science and machine learning. Also, we will be frequently talking about matrices and bidimensional arrays."
      ]
    },
    {
      "cell_type": "markdown",
      "id": "759c9c8d",
      "metadata": {
        "id": "759c9c8d"
      },
      "source": [
        "#### Exercise: Subtract the mean of each row of a matrix (★★☆)"
      ]
    },
    {
      "cell_type": "code",
      "execution_count": 8,
      "id": "6801c73d",
      "metadata": {
        "colab": {
          "base_uri": "https://localhost:8080/"
        },
        "id": "6801c73d",
        "outputId": "1c007936-9892-41da-fb98-fd102306811e"
      },
      "outputs": [
        {
          "output_type": "stream",
          "name": "stdout",
          "text": [
            "[[1 2 3]\n",
            " [4 1 2]\n",
            " [4 2 1]]\n",
            "[[2.        ]\n",
            " [2.33333333]\n",
            " [2.33333333]]\n",
            "[[-1.          0.          1.        ]\n",
            " [ 1.66666667 -1.33333333 -0.33333333]\n",
            " [ 1.66666667 -0.33333333 -1.33333333]]\n"
          ]
        }
      ],
      "source": [
        "matrix = np.random.randint(5,size=(3,3))\n",
        "print(matrix)\n",
        "promedio = matrix.mean(axis=1, keepdims=True)\n",
        "print(promedio)\n",
        "new_matrix = matrix - promedio\n",
        "print(new_matrix)\n",
        "\n"
      ]
    },
    {
      "cell_type": "markdown",
      "id": "129c342d",
      "metadata": {
        "id": "129c342d"
      },
      "source": [
        "#### Exercise: How to get the dates of yesterday, today and tomorrow? (★★☆)\n",
        "\n",
        ">Check `np.datetime64`, `np.timedelta64` in numpy (https://numpy.org/doc/stable/reference/arrays.datetime.html)"
      ]
    },
    {
      "cell_type": "code",
      "execution_count": 17,
      "id": "8ba1badb",
      "metadata": {
        "colab": {
          "base_uri": "https://localhost:8080/"
        },
        "id": "8ba1badb",
        "outputId": "0dd91e50-9883-451d-ab41-d06cb81769a4"
      },
      "outputs": [
        {
          "output_type": "stream",
          "name": "stdout",
          "text": [
            "2022-05-20\n",
            "2022-05-19\n",
            "2022-05-21\n"
          ]
        }
      ],
      "source": [
        "today = np.datetime64(\"today\", \"D\")\n",
        "print(today)\n",
        "\n",
        "ayer = today - np.timedelta64(1,\"D\")\n",
        "print(ayer)\n",
        "mañana = today + np.timedelta64(1,\"D\")\n",
        "print(mañana)"
      ]
    },
    {
      "cell_type": "markdown",
      "id": "42f8b2f9",
      "metadata": {
        "id": "42f8b2f9"
      },
      "source": [
        "#### Exercise: How to get all the dates corresponding to the month of December 2022? (★★☆)\n",
        "Combine `arange`with `datetime`\n"
      ]
    },
    {
      "cell_type": "code",
      "execution_count": 20,
      "id": "eb8ebe45",
      "metadata": {
        "colab": {
          "base_uri": "https://localhost:8080/"
        },
        "id": "eb8ebe45",
        "outputId": "0e9d19d1-812a-4c2f-e3bd-f15cd0cfec45"
      },
      "outputs": [
        {
          "output_type": "execute_result",
          "data": {
            "text/plain": [
              "array(['2022-12-01', '2022-12-02', '2022-12-03', '2022-12-04',\n",
              "       '2022-12-05', '2022-12-06', '2022-12-07', '2022-12-08',\n",
              "       '2022-12-09', '2022-12-10', '2022-12-11', '2022-12-12',\n",
              "       '2022-12-13', '2022-12-14', '2022-12-15', '2022-12-16',\n",
              "       '2022-12-17', '2022-12-18', '2022-12-19', '2022-12-20',\n",
              "       '2022-12-21', '2022-12-22', '2022-12-23', '2022-12-24',\n",
              "       '2022-12-25', '2022-12-26', '2022-12-27', '2022-12-28',\n",
              "       '2022-12-29', '2022-12-30', '2022-12-31'], dtype='datetime64[D]')"
            ]
          },
          "metadata": {},
          "execution_count": 20
        }
      ],
      "source": [
        "np.arange(\"2022-12\",\"2023-01\",dtype=\"datetime64[D]\")"
      ]
    },
    {
      "cell_type": "markdown",
      "id": "486df8ea",
      "metadata": {
        "id": "486df8ea"
      },
      "source": [
        "#### Exercise: Extract the integer part of a random array of positive numbers using 2 different methods (★★☆)"
      ]
    },
    {
      "cell_type": "code",
      "execution_count": 34,
      "id": "34b4fa08",
      "metadata": {
        "colab": {
          "base_uri": "https://localhost:8080/"
        },
        "id": "34b4fa08",
        "outputId": "977ca9c0-ad9b-4229-d00a-763794b9cfd9"
      },
      "outputs": [
        {
          "output_type": "execute_result",
          "data": {
            "text/plain": [
              "array([2., 1., 2., 4., 1.])"
            ]
          },
          "metadata": {},
          "execution_count": 34
        }
      ],
      "source": [
        "arreglo = np.random.uniform(1,5,5)\n",
        "#np.floor(arreglo)\n",
        "#arreglo.astype(int)\n",
        "#print(arreglo//1)\n",
        "#np.trunc(arreglo)"
      ]
    },
    {
      "cell_type": "markdown",
      "id": "649e89f9",
      "metadata": {
        "id": "649e89f9"
      },
      "source": [
        "#### Exercise: Create a 5x5 matrix with row values ranging from 0 to 4 (★★☆)"
      ]
    },
    {
      "cell_type": "code",
      "execution_count": 40,
      "id": "663cc611",
      "metadata": {
        "colab": {
          "base_uri": "https://localhost:8080/"
        },
        "id": "663cc611",
        "outputId": "46e3af7f-849b-4b6e-e722-9023038509f5"
      },
      "outputs": [
        {
          "output_type": "stream",
          "name": "stdout",
          "text": [
            "[[0 1 2 3 4]\n",
            " [0 1 2 3 4]\n",
            " [0 1 2 3 4]\n",
            " [0 1 2 3 4]\n",
            " [0 1 2 3 4]]\n"
          ]
        }
      ],
      "source": [
        "matrix = np.tile(np.arange(0,5),(5,1))\n",
        "print(matrix)"
      ]
    },
    {
      "cell_type": "code",
      "source": [
        "x = np.zeros((5,5))\n",
        "x += np.arange(5)\n",
        "print(x)"
      ],
      "metadata": {
        "id": "_JuGcb-j1hdE",
        "outputId": "e32445e9-9653-4755-df9b-6ccdb74cb1bf",
        "colab": {
          "base_uri": "https://localhost:8080/"
        }
      },
      "id": "_JuGcb-j1hdE",
      "execution_count": 44,
      "outputs": [
        {
          "output_type": "stream",
          "name": "stdout",
          "text": [
            "[[0. 1. 2. 3. 4.]\n",
            " [0. 1. 2. 3. 4.]\n",
            " [0. 1. 2. 3. 4.]\n",
            " [0. 1. 2. 3. 4.]\n",
            " [0. 1. 2. 3. 4.]]\n"
          ]
        }
      ]
    },
    {
      "cell_type": "markdown",
      "id": "3421e17f",
      "metadata": {
        "id": "3421e17f"
      },
      "source": [
        "#### Exercise: Consider a generator function that generates 10 integers and use it to build an array (★★☆)"
      ]
    },
    {
      "cell_type": "code",
      "execution_count": 47,
      "id": "7336b8e4",
      "metadata": {
        "colab": {
          "base_uri": "https://localhost:8080/"
        },
        "id": "7336b8e4",
        "outputId": "88c41125-3f08-4ec1-f6b0-24f7db8ba040"
      },
      "outputs": [
        {
          "output_type": "stream",
          "name": "stdout",
          "text": [
            "[0 1 2 3 4 5 6 7 8 9]\n"
          ]
        }
      ],
      "source": [
        "def generate():\n",
        "  for x in range(10):\n",
        "    yield x\n",
        "\n",
        "Z = np.fromiter(generate(),dtype=int, count= -1)\n",
        "print(Z)"
      ]
    },
    {
      "cell_type": "markdown",
      "id": "483dd554",
      "metadata": {
        "id": "483dd554"
      },
      "source": [
        "#### Exercise: Create a vector of size 10 with values ranging from 0 to 1, both excluded (★★☆)"
      ]
    },
    {
      "cell_type": "code",
      "execution_count": null,
      "id": "c89b93e7",
      "metadata": {
        "id": "c89b93e7"
      },
      "outputs": [],
      "source": [
        ""
      ]
    },
    {
      "cell_type": "markdown",
      "id": "2d07be1c",
      "metadata": {
        "id": "2d07be1c"
      },
      "source": [
        "#### Exercise: Create a random vector of size 10 and sort it (★★☆)"
      ]
    },
    {
      "cell_type": "code",
      "execution_count": null,
      "id": "4f7cb3ad",
      "metadata": {
        "id": "4f7cb3ad"
      },
      "outputs": [],
      "source": [
        ""
      ]
    },
    {
      "cell_type": "markdown",
      "id": "fe043549",
      "metadata": {
        "id": "fe043549"
      },
      "source": [
        "#### Exercise: Consider two random arrays A and B, check if they are equal (★★☆)"
      ]
    },
    {
      "cell_type": "code",
      "execution_count": null,
      "id": "3326a686",
      "metadata": {
        "id": "3326a686"
      },
      "outputs": [],
      "source": [
        ""
      ]
    },
    {
      "cell_type": "markdown",
      "id": "2002cb03",
      "metadata": {
        "id": "2002cb03"
      },
      "source": [
        "#### Exercise: Consider a random 10x2 matrix representing cartesian coordinates, convert them to polar coordinates (★★★)\n",
        ">Suggestion: check how to calculate the \"square of a matrix\""
      ]
    },
    {
      "cell_type": "code",
      "execution_count": null,
      "id": "58be72bc",
      "metadata": {
        "id": "58be72bc"
      },
      "outputs": [],
      "source": [
        ""
      ]
    },
    {
      "cell_type": "markdown",
      "id": "b7109c9f",
      "metadata": {
        "id": "b7109c9f"
      },
      "source": [
        "#### Exercise: Create random vector of size 10 and replace the maximum value by 0 (★★☆)"
      ]
    },
    {
      "cell_type": "code",
      "execution_count": null,
      "id": "f79e79a7",
      "metadata": {
        "id": "f79e79a7"
      },
      "outputs": [],
      "source": [
        ""
      ]
    },
    {
      "cell_type": "markdown",
      "id": "fb24674c",
      "metadata": {
        "id": "fb24674c"
      },
      "source": [
        "#### Exercise: How to print all the values of an array? (★★☆)"
      ]
    },
    {
      "cell_type": "code",
      "execution_count": null,
      "id": "c81f1456",
      "metadata": {
        "id": "c81f1456"
      },
      "outputs": [],
      "source": [
        ""
      ]
    },
    {
      "cell_type": "markdown",
      "id": "48413134",
      "metadata": {
        "id": "48413134"
      },
      "source": [
        "#### Exercise: How to convert a float (32 bits) array into an integer (32 bits) in place?\n",
        ">Check: https://stackoverflow.com/a/4396247/5989906"
      ]
    },
    {
      "cell_type": "code",
      "execution_count": null,
      "id": "5db64b6d",
      "metadata": {
        "id": "5db64b6d"
      },
      "outputs": [],
      "source": [
        ""
      ]
    },
    {
      "cell_type": "markdown",
      "id": "215b6acc",
      "metadata": {
        "id": "215b6acc"
      },
      "source": [
        "#### Exercise: Subtract the mean of each row of a matrix (★★☆)"
      ]
    },
    {
      "cell_type": "code",
      "execution_count": null,
      "id": "dd1adef4",
      "metadata": {
        "id": "dd1adef4"
      },
      "outputs": [],
      "source": [
        ""
      ]
    },
    {
      "cell_type": "markdown",
      "id": "c0cf37e0",
      "metadata": {
        "id": "c0cf37e0"
      },
      "source": [
        "#### Exercise: How to sort an array by the nth column? (★★☆)"
      ]
    },
    {
      "cell_type": "code",
      "execution_count": null,
      "id": "9336ca5f",
      "metadata": {
        "id": "9336ca5f"
      },
      "outputs": [],
      "source": [
        ""
      ]
    },
    {
      "cell_type": "markdown",
      "id": "c17fb213",
      "metadata": {
        "id": "c17fb213"
      },
      "source": [
        "#### Exercise: Find the position of the minimum of a 2D matrix (★★☆)"
      ]
    },
    {
      "cell_type": "code",
      "execution_count": null,
      "id": "7fdda78d",
      "metadata": {
        "id": "7fdda78d"
      },
      "outputs": [],
      "source": [
        ""
      ]
    },
    {
      "cell_type": "markdown",
      "id": "f4427f7f",
      "metadata": {
        "id": "f4427f7f"
      },
      "source": [
        "#### Exercise: Read an image using openCV, check its dimensions, normalize the numbers and show the image (★★★)\n",
        "\n",
        ">Check: https://www.geeksforgeeks.org/python-opencv-cv2-imread-method/"
      ]
    },
    {
      "cell_type": "code",
      "execution_count": null,
      "id": "fe253212",
      "metadata": {
        "id": "fe253212"
      },
      "outputs": [],
      "source": [
        ""
      ]
    },
    {
      "cell_type": "markdown",
      "id": "33c986d9",
      "metadata": {
        "id": "33c986d9"
      },
      "source": [
        "#### Exercise: Considering a four dimensions array, how to get the sum over the last two axis at once? (★★★)"
      ]
    },
    {
      "cell_type": "code",
      "execution_count": null,
      "id": "a99a50e2",
      "metadata": {
        "id": "a99a50e2"
      },
      "outputs": [],
      "source": [
        ""
      ]
    },
    {
      "cell_type": "markdown",
      "id": "928a1a15",
      "metadata": {
        "id": "928a1a15"
      },
      "source": [
        "#### Exercise: How to get the diagonal of a dot product? (★★★)"
      ]
    },
    {
      "cell_type": "code",
      "execution_count": null,
      "id": "ef2c9ddd",
      "metadata": {
        "id": "ef2c9ddd"
      },
      "outputs": [],
      "source": [
        ""
      ]
    },
    {
      "cell_type": "markdown",
      "id": "f62551d8",
      "metadata": {
        "id": "f62551d8"
      },
      "source": [
        "#### Exercise: Consider an array of dimension (5,5,3), how to mulitply it by an array with dimensions (5,5)? (★★★)"
      ]
    },
    {
      "cell_type": "code",
      "execution_count": null,
      "id": "9ab241b7",
      "metadata": {
        "id": "9ab241b7"
      },
      "outputs": [],
      "source": [
        ""
      ]
    },
    {
      "cell_type": "markdown",
      "id": "6896e326",
      "metadata": {
        "id": "6896e326"
      },
      "source": [
        "#### Exercise: How to swap two rows of an array? (★★★)"
      ]
    },
    {
      "cell_type": "code",
      "execution_count": null,
      "id": "9e8fcba9",
      "metadata": {
        "id": "9e8fcba9"
      },
      "outputs": [],
      "source": [
        ""
      ]
    },
    {
      "cell_type": "markdown",
      "id": "8e83df46",
      "metadata": {
        "id": "8e83df46"
      },
      "source": [
        "#### Exercise: Read an image using openCV and tranpose it. What did you get exactly? Was the image rotated? Moved? Reflected with respect to an axis? (★★★)"
      ]
    },
    {
      "cell_type": "code",
      "execution_count": null,
      "id": "f73127b7",
      "metadata": {
        "id": "f73127b7"
      },
      "outputs": [],
      "source": [
        ""
      ]
    },
    {
      "cell_type": "markdown",
      "id": "781fa236",
      "metadata": {
        "id": "781fa236"
      },
      "source": [
        "#### Exercise: Consider an array Z = [1,2,3,4,5,6,7,8,9,10,11,12,13,14], how to generate an array R = [[1,2,3,4], [2,3,4,5], [3,4,5,6], ..., [11,12,13,14]]? (★★★)"
      ]
    },
    {
      "cell_type": "code",
      "execution_count": null,
      "id": "8e84d3c2",
      "metadata": {
        "id": "8e84d3c2"
      },
      "outputs": [],
      "source": [
        ""
      ]
    },
    {
      "cell_type": "markdown",
      "id": "7d8dc135",
      "metadata": {
        "id": "7d8dc135"
      },
      "source": [
        "#### Exercise: How to find the most frequent value in an array? (★★★)"
      ]
    },
    {
      "cell_type": "code",
      "execution_count": null,
      "id": "3978a7a2",
      "metadata": {
        "id": "3978a7a2"
      },
      "outputs": [],
      "source": [
        ""
      ]
    },
    {
      "cell_type": "markdown",
      "id": "4c70397b",
      "metadata": {
        "id": "4c70397b"
      },
      "source": [
        "#### Exercise: How to get the n largest values of an array (★★★)"
      ]
    },
    {
      "cell_type": "code",
      "execution_count": null,
      "id": "16371718",
      "metadata": {
        "id": "16371718"
      },
      "outputs": [],
      "source": [
        ""
      ]
    },
    {
      "cell_type": "markdown",
      "id": "d94352b6",
      "metadata": {
        "id": "d94352b6"
      },
      "source": [
        "#### Exercise: Consider a large vector Z, compute Z to the power of 3 using 3 different methods (★★★)"
      ]
    },
    {
      "cell_type": "code",
      "execution_count": null,
      "id": "301ba8a8",
      "metadata": {
        "id": "301ba8a8"
      },
      "outputs": [],
      "source": [
        ""
      ]
    },
    {
      "cell_type": "markdown",
      "id": "2784c996",
      "metadata": {
        "id": "2784c996"
      },
      "source": [
        "#### Exercise: Given a two dimensional array, how to extract unique rows? (★★★)"
      ]
    },
    {
      "cell_type": "code",
      "execution_count": null,
      "id": "f030595f",
      "metadata": {
        "id": "f030595f"
      },
      "outputs": [],
      "source": [
        ""
      ]
    },
    {
      "cell_type": "markdown",
      "id": "e5737276",
      "metadata": {
        "id": "e5737276"
      },
      "source": [
        "#### Exercise: Can you have an array of strings? Can you mix different data types in the same array? Can you operate (add, sub, mult) arrays with different data types? (★★★)"
      ]
    },
    {
      "cell_type": "code",
      "execution_count": null,
      "id": "68c333b0",
      "metadata": {
        "id": "68c333b0"
      },
      "outputs": [],
      "source": [
        ""
      ]
    }
  ],
  "metadata": {
    "kernelspec": {
      "display_name": "Python 3",
      "language": "python",
      "name": "python3"
    },
    "language_info": {
      "codemirror_mode": {
        "name": "ipython",
        "version": 3
      },
      "file_extension": ".py",
      "mimetype": "text/x-python",
      "name": "python",
      "nbconvert_exporter": "python",
      "pygments_lexer": "ipython3",
      "version": "3.8.12"
    },
    "colab": {
      "name": "02.1-Intro-to-Numpy.ipynb",
      "provenance": []
    }
  },
  "nbformat": 4,
  "nbformat_minor": 5
}