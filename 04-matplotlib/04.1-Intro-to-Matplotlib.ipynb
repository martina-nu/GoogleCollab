{
  "cells": [
    {
      "cell_type": "markdown",
      "id": "bdfbcacc",
      "metadata": {
        "id": "bdfbcacc"
      },
      "source": [
        "![alt text](./assets/matplotlib_logo.png \"mat\")\n",
        "\n",
        "\n",
        "## Intro to Pyplot\n",
        "\n",
        "matplotlib.pyplot is a collection of functions that make matplotlib work like MATLAB. Each pyplot function makes some change to a figure. For example, creates a figure, creates a plotting area in a figure, plots some lines in a plotting area, decorates the plot with labels, etc.\n",
        "\n",
        "In matplotlib.pyplot various states are preserved across function calls, so that it keeps track of things like the current figure and plotting area. The plotting functions are directed to the current axes (please note that \"axes\" here and in most places in the documentation refers to the axes part of a figure and not the strict mathematical term for more than one axis).\n",
        "\n",
        "It allows you to create and customize the most common types of charts, including:\n",
        "\n",
        "- Bar charts.\n",
        "- Histogram.\n",
        "- Sector diagrams.\n",
        "- Violin diagrams.\n",
        "- Scatter plots or points.\n",
        "- Line diagrams.\n",
        "- Area diagrams.\n",
        "\n",
        "## Installing matplotlib\n",
        "\n",
        "When you want to work with matplotlib locally, you should run the following command:\n",
        "\n",
        "`pip install matplotlib`\\\n",
        "or\\\n",
        "`conda install matplotlib`\n",
        "In our case, 4Geeks have prepared all the environment in order that you can work comfortably."
      ]
    },
    {
      "cell_type": "markdown",
      "id": "c4e52ee5",
      "metadata": {
        "id": "c4e52ee5"
      },
      "source": [
        "#### Import the matplotlib package and the pyplot module in two different ways and call it \"`plt`\" (★☆☆)\n",
        "Which one is \"correct\"? Check PEP8 (https://www.python.org/dev/peps/pep-0008/#imports)"
      ]
    },
    {
      "cell_type": "code",
      "execution_count": null,
      "id": "ea3038d9",
      "metadata": {
        "id": "ea3038d9"
      },
      "outputs": [],
      "source": [
        ""
      ]
    },
    {
      "cell_type": "markdown",
      "id": "40631cd6",
      "metadata": {
        "id": "40631cd6"
      },
      "source": [
        "## Chart creation with matplotlib\n",
        "\n",
        "To create a graph with matplotlib it is usual to follow the following steps:\n",
        "\n",
        "- Import the pyplot module.\n",
        "- Define the figure that will contain the graph, which is the region (window or page) where it will be drawn and the axes on which the data will be drawn. For this, the subplots () function is used.\n",
        "- Plot the data on the axes. For this, different functions are used depending on the type of graph you want.\n",
        "- Customize the chart. For this, there are many functions that allow you to add a title, a legend, a grid, change colors or customize the axes.\n",
        "- Save the chart. For this, the savefig () function is used.\n",
        "- Show the graph. For this, the show () function is used.\n",
        "\n",
        "An \"empty\" plot will be created if you run the following lines:\n",
        "```\n",
        "# empty plot\n",
        "fig, ax = plt.subplots()\n",
        "```"
      ]
    },
    {
      "cell_type": "markdown",
      "id": "e3c20b3d",
      "metadata": {
        "id": "e3c20b3d"
      },
      "source": [
        "#### Create a scatter plot of the following vector list (★☆☆)\n",
        "`x = [1, 2, 3, 4], y = [1, 2, 0, 0.5]`\n",
        "\n",
        "Use `ax.scatter`"
      ]
    },
    {
      "cell_type": "code",
      "execution_count": null,
      "id": "8a758bcf",
      "metadata": {
        "id": "8a758bcf"
      },
      "outputs": [],
      "source": [
        ""
      ]
    },
    {
      "cell_type": "markdown",
      "id": "0a708990",
      "metadata": {
        "id": "0a708990"
      },
      "source": [
        "#### Create a line plot of the following vector list (★☆☆)\n",
        "`x = [1, 2, 3, 4], y = [1, 2, 0, 0.5]`\n",
        "\n",
        "Use `ax.plot`"
      ]
    },
    {
      "cell_type": "code",
      "execution_count": null,
      "id": "477e01f4",
      "metadata": {
        "id": "477e01f4"
      },
      "outputs": [],
      "source": [
        ""
      ]
    },
    {
      "cell_type": "markdown",
      "id": "0b16cd77",
      "metadata": {
        "id": "0b16cd77"
      },
      "source": [
        "#### Create an area plot of the following vector list (★☆☆)\n",
        "`x = [1, 2, 3, 4], y = [1, 2, 0, 0.5]`\n",
        "\n",
        "Use `ax.fill_between`"
      ]
    },
    {
      "cell_type": "code",
      "execution_count": null,
      "id": "4d9b5975",
      "metadata": {
        "id": "4d9b5975"
      },
      "outputs": [],
      "source": [
        ""
      ]
    },
    {
      "cell_type": "markdown",
      "id": "782d4c77",
      "metadata": {
        "id": "782d4c77"
      },
      "source": [
        "#### Create a bar plot of the following vector list (★☆☆)\n",
        "`[1, 2, 3], [3, 2, 1]`\n",
        "\n",
        "Use `ax.bar`"
      ]
    },
    {
      "cell_type": "code",
      "execution_count": null,
      "id": "5dbe1a08",
      "metadata": {
        "id": "5dbe1a08"
      },
      "outputs": [],
      "source": [
        ""
      ]
    },
    {
      "cell_type": "markdown",
      "id": "48d48f01",
      "metadata": {
        "id": "48d48f01"
      },
      "source": [
        "#### Create a horizontal bar plot of the following vector list (★☆☆)\n",
        "`[1, 2, 3], [3, 2, 1]`\n",
        "\n",
        "Use `ax.barh`"
      ]
    },
    {
      "cell_type": "code",
      "execution_count": null,
      "id": "3ed233e7",
      "metadata": {
        "id": "3ed233e7"
      },
      "outputs": [],
      "source": [
        ""
      ]
    },
    {
      "cell_type": "markdown",
      "id": "4fa39382",
      "metadata": {
        "id": "4fa39382"
      },
      "source": [
        "#### Create a histogram plot of a vector array with normal distribution like $N ~ (2, 1.5)$ (★★☆)\n",
        "Note: Remember `np.random` and use ax.hist."
      ]
    },
    {
      "cell_type": "code",
      "execution_count": null,
      "id": "c97757ec",
      "metadata": {
        "id": "c97757ec"
      },
      "outputs": [],
      "source": [
        ""
      ]
    },
    {
      "cell_type": "markdown",
      "id": "da64551a",
      "metadata": {
        "id": "da64551a"
      },
      "source": [
        "#### Draw a pie chart of the following vector list (★☆☆)\n",
        "`[5, 4, 3, 2, 1]`\n",
        "\n",
        "Use `ax.pie`"
      ]
    },
    {
      "cell_type": "code",
      "execution_count": null,
      "id": "327f7adb",
      "metadata": {
        "id": "327f7adb"
      },
      "outputs": [],
      "source": [
        ""
      ]
    },
    {
      "cell_type": "markdown",
      "id": "13c5928c",
      "metadata": {
        "id": "13c5928c"
      },
      "source": [
        "## Boxplots\n",
        "\n",
        "The next image is a boxplot. A boxplot is a standardized way of displaying the distribution of data based on a five number summary (“minimum”, first quartile (Q1), median, third quartile (Q3), and “maximum”). It can tell you about your outliers and what their values are. It can also tell you if your data is symmetrical, how tightly it is grouped, and if and how it is skewed.\n",
        "\n",
        "![alt text](./assets/boxplot.png \"boxp\")\n",
        "\n",
        "\n",
        "Boxplots have the following characteristics:\n",
        "\n",
        "- Median (Q2/50th Percentile): the middle value of the Dataset.\n",
        "- First quartile (Q1/25th Percentile): the middle number between the smallest number (not the “minimum”) and the median of the Dataset.\n",
        "- Third quartile (Q3/75th Percentile): the middle value between the median and the highest value (not the “maximum”) of the Dataset.\n",
        "-Iinterquartile range (IQR): 25th to the 75th percentile.\n",
        "- Whiskers (shown in blue).\n",
        "- Outliers (shown as green circles).\n",
        "- “Maximum”: Q3 + 1.5 * IQR.\n",
        "- “Minimum”: Q1 - 1.5 * IQR.\n",
        "\n",
        "What defines an outlier, “minimum” or “maximum” may not be clear yet. We will explain it in the bootcamp."
      ]
    },
    {
      "cell_type": "markdown",
      "id": "33e3e430",
      "metadata": {
        "id": "33e3e430"
      },
      "source": [
        "#### Create a boxplot of the following vector list (★☆☆)\n",
        "Use `ax.boxplot`"
      ]
    },
    {
      "cell_type": "code",
      "execution_count": null,
      "id": "911c9b93",
      "metadata": {
        "id": "911c9b93"
      },
      "outputs": [],
      "source": [
        ""
      ]
    },
    {
      "cell_type": "markdown",
      "id": "3fa2e461",
      "metadata": {
        "id": "3fa2e461"
      },
      "source": [
        "#### Pick a random image from Google, read it with openCV and then make a plot (★★☆)\n",
        "Use `cv2.imread`\\\n",
        "Use `ax.imshow` \\\n",
        "\n",
        "Do you see the image exactly as it is? What do you think happened?"
      ]
    },
    {
      "cell_type": "code",
      "execution_count": null,
      "id": "323eb38a",
      "metadata": {
        "id": "323eb38a"
      },
      "outputs": [],
      "source": [
        ""
      ]
    },
    {
      "cell_type": "markdown",
      "id": "ff8dbb92",
      "metadata": {
        "id": "ff8dbb92"
      },
      "source": [
        "## Change the appearance of charts\n",
        "\n",
        "The graphics created with matplotlib are customizable and the appearance of almost all its elements can be changed. The elements that are most often modified are:\n",
        "\n",
        "- Colors.\n",
        "- Point markers.\n",
        "- Lines style.\n",
        "- Titles.\n",
        "- Axes.\n",
        "- Legend.\n",
        "- Rack.\n",
        "\n",
        "To change the color of the objects, use the parameter color = color-name, where color-name is a string with the name of the color from among the available colors. \n",
        "\n",
        ">Check the full list here: https://matplotlib.org/stable/gallery/color/named_colors.html"
      ]
    },
    {
      "cell_type": "markdown",
      "id": "e3a7ba7f",
      "metadata": {
        "id": "e3a7ba7f"
      },
      "source": [
        "#### Create a line plot with the following vector lists and customize the colors, markers, line style and titles (★★☆)\n"
      ]
    },
    {
      "cell_type": "code",
      "execution_count": null,
      "id": "01d8e257",
      "metadata": {
        "id": "01d8e257"
      },
      "outputs": [],
      "source": [
        ""
      ]
    },
    {
      "cell_type": "markdown",
      "id": "6d17ab5d",
      "metadata": {
        "id": "6d17ab5d"
      },
      "source": [
        "## Multiple charts\n",
        "It is possible to draw several graphs in different axes in the same figure organized in table form. To do this, when the figure and the axes are initialized, the number of rows and columns of the table that will contain the graphs must be passed to the subplots function. With this, the different axes are organized in an array and each of them can be accessed through their indexes. If you want the different axes to share the same limits for the axes, you can pass the parameters `sharex = True` for the x axis or `sharey = True` for the y axis."
      ]
    },
    {
      "cell_type": "code",
      "execution_count": null,
      "id": "841373cd",
      "metadata": {
        "id": "841373cd"
      },
      "outputs": [],
      "source": [
        "## Input\n",
        "s = pd.Series({'Math': 6.0,  'Economy': 4.5, 'Programming': 8.5})"
      ]
    },
    {
      "cell_type": "markdown",
      "id": "8837119b",
      "metadata": {
        "id": "8837119b"
      },
      "source": [
        "\n",
        "\n",
        "#### Run the following code and check what happens"
      ]
    },
    {
      "cell_type": "code",
      "execution_count": null,
      "id": "2c0d16f1",
      "metadata": {
        "id": "2c0d16f1"
      },
      "outputs": [],
      "source": [
        "import matplotlib.pyplot as plt\n",
        "fig, ax = plt.subplots(2, 2, sharey = True)\n",
        "days = ['Mon', 'Tue', 'Wed', 'Thu', 'Fri', 'Sat', 'Sun']\n",
        "temperature = {'Madrid':[28.5, 30.5, 31, 30, 28, 27.5, 30.5], 'Barcelona':[24.5, 25.5, 26.5, 25, 26.5, 24.5, 25]}\n",
        "ax[0, 0].plot(days, temperature['Madrid'])\n",
        "ax[0, 1].plot(days, temperature['Barcelona'], color = 'tab:orange')\n",
        "ax[1, 0].bar(days, temperature['Madrid'])\n",
        "ax[1, 1].bar(days, temperature['Barcelona'], color = 'tab:orange')\n",
        "plt.show()"
      ]
    },
    {
      "cell_type": "markdown",
      "id": "ec788c9f",
      "metadata": {
        "id": "ec788c9f"
      },
      "source": [
        "#### Repeat 4 plots you already done previously in 4 subplots (★★☆)"
      ]
    },
    {
      "cell_type": "code",
      "execution_count": null,
      "id": "0a4f919f",
      "metadata": {
        "id": "0a4f919f"
      },
      "outputs": [],
      "source": [
        ""
      ]
    },
    {
      "cell_type": "markdown",
      "id": "7c2e563a",
      "metadata": {
        "id": "7c2e563a"
      },
      "source": [
        "## Integration with Pandas\n",
        "Matplotlib integrates seamlessly with the Pandas library, allowing graphs to be drawn from data from Pandas series and DataFrames.\n",
        "\n",
        "#### Check the following code which do the same as above:"
      ]
    },
    {
      "cell_type": "code",
      "execution_count": null,
      "id": "3f639d33",
      "metadata": {
        "id": "3f639d33"
      },
      "outputs": [],
      "source": [
        "import pandas as pd \n",
        "import matplotlib.pyplot as plt\n",
        "\n",
        "df = pd.DataFrame({'Days':['Mon', 'Tue', 'Wed', 'Thu', 'Fri', 'Sat', 'Sun'], \n",
        "                   'Madrid':[28.5, 30.5, 31, 30, 28, 27.5, 30.5], \n",
        "                   'Barcelona':[24.5, 25.5, 26.5, 25, 26.5, 24.5, 25]})\n",
        "fig, ax = plt.subplots()\n",
        "df.plot(x = 'Days', y = 'Madrid', ax = ax)\n",
        "df.plot(x = 'Days', y = 'Barcelona', ax = ax)\n",
        "plt.show()"
      ]
    },
    {
      "cell_type": "markdown",
      "id": "78250c14",
      "metadata": {
        "id": "78250c14"
      },
      "source": [
        "#### Read the file titanic_train.csv located in this folder and plot the mean of Age by the group given by Sex  (★★★)\n"
      ]
    },
    {
      "cell_type": "code",
      "execution_count": null,
      "id": "9fe729cb",
      "metadata": {
        "scrolled": true,
        "id": "9fe729cb"
      },
      "outputs": [],
      "source": [
        "import pandas as pd\n",
        "import matplotlib.pyplot as plt\n",
        "import numpy as np\n",
        "\n",
        "pop = pd.read_csv(\"pop_hist.csv\")\n",
        "pop = pop.iloc[np.where(pop.AGE==\"TOTAL\") and np.where(pop.LOCATION!=\"OECD\") and (np.where(pop.LOCATION==\"ESP\") or np.where(pop.LOCATION==\"USA\")) ]\n",
        "pop = pop.loc[:,[\"LOCATION\",\"TIME\",\"Value\"]]\n",
        "pop[\"Value\"] = pop[\"Value\"].astype(int)\n",
        "\n",
        "fig, ax = plt.subplots()\n",
        "pop.plot(x = 'TIME', y = 'Value', ax = ax)\n",
        "pop.plot(x = 'TIME', y = 'Value', ax = ax)\n",
        "plt.show()\n"
      ]
    },
    {
      "cell_type": "markdown",
      "id": "89e78048",
      "metadata": {
        "id": "89e78048"
      },
      "source": [
        "## What is 3D Data Visualization?\n",
        "\n",
        "3-D Dimensional data provides the perception of depth, width, and height (it can be viewed from any angle). Three-dimensional visualizations were developed to provide both qualitative and quantitative information about an object. 3D visualizations are visualized with the three-phase process of scene, geometry, and rendering. Datasets increase in size, the need for analysis and visualization tools for the data also becomes essential.\n",
        "\n",
        "Analysis operations, like visualization operations, may be either scene-based or object-based and deal with methods of quantifying object information.\n",
        "\n",
        "Some examples of 3D shapes are prisms, pyramids, spheres, cones, cubes, or even figures!!!! 😲😲.\n",
        "\n",
        "![alt text](https://github.com/4GeeksAcademy/machine-learning-prework/blob/main/04-matplotlib/assets/tea.png?raw=1)\n",
        "\n",
        "\n",
        "## Why 3D Visualization Matters?\n",
        "Three-Dimensional visualizations represent visualizations in all angles with just turning off the camera in the scene. While considering the two-dimensional formats, there is a limit on how much information to take and use visualization for making decisions, planning and targeting customers. Three-Dimensional visualization allows to draw which character of the scene changed. It easily communicates with the internal features. Some of the applications include GIS(Geographic Information Systems), geographic visualizations in a three-dimensional view, provides more interaction which is essential for understanding. It gives a sense of immersion of the environment where the user appreciates the scale of change and visualizes the impact of building design on the external environment and the inhabitants. GIS examples will include city planning, build information planning, coastal analysis, and modeling and wind farm assessment.\n",
        "\n",
        "#### However, we will see in the following lessons that we can make visualizations in 4D and even these surfaces are not too common in data analysis.\n",
        "\n"
      ]
    },
    {
      "cell_type": "code",
      "execution_count": null,
      "id": "b62e9d1c",
      "metadata": {
        "id": "b62e9d1c"
      },
      "outputs": [],
      "source": [
        "# We enable three-dimensional plots by importing the mplot3d toolkit\n",
        "from mpl_toolkits import mplot3d\n",
        "\n",
        "# Once this submodule is imported, we can create a three-dimensional axes by passing the keyword projection='3d' to any of the normal axes creation routines\n",
        "\n",
        "%matplotlib inline\n",
        "import numpy as np\n",
        "import matplotlib.pyplot as plt\n",
        "\n",
        "fig = plt.figure()\n",
        "ax = plt.axes(projection='3d')"
      ]
    },
    {
      "cell_type": "markdown",
      "id": "ebd10810",
      "metadata": {
        "id": "ebd10810"
      },
      "source": [
        "#### Change the name of columns of the above DataFrame using two different methods (★★☆) \n",
        "\n",
        ">Check the function `rename`: (https://matplotlib.pydata.org/docs/reference/api/matplotlib.DataFrame.rename.html)"
      ]
    },
    {
      "cell_type": "code",
      "execution_count": null,
      "id": "6ada209f",
      "metadata": {
        "id": "6ada209f"
      },
      "outputs": [],
      "source": [
        "#Three-Dimensional Contour Plots\n",
        "\n",
        "def f(x,y):\n",
        "    return np.sin(np.sqrt(x**2+y**2))\n",
        "\n",
        "x = np.linspace(-6, 6, 30)\n",
        "y = np.linspace(-6, 6, 30)\n",
        "\n",
        "X,Y=np.meshgrid(x,y)\n",
        "Z=f(X,Y)\n",
        "\n",
        "fig=plt.figure()\n",
        "ax = plt.axes(projection='3d')\n",
        "ax.contour3D(X, Y, Z, 50, cmap='binary')\n",
        "ax.set_xlabel('x')\n",
        "ax.set_ylabel('y')\n",
        "ax.set_zlabel('z')\n",
        "\n",
        "#Sometimes the default viewing angle is not optimal, in which case we can use the view_init method to set the elevation and azimuthal angles. \n",
        "\n",
        "ax.view_init(60,35)\n",
        "fig"
      ]
    }
  ],
  "metadata": {
    "kernelspec": {
      "display_name": "Python 3",
      "language": "python",
      "name": "python3"
    },
    "language_info": {
      "codemirror_mode": {
        "name": "ipython",
        "version": 3
      },
      "file_extension": ".py",
      "mimetype": "text/x-python",
      "name": "python",
      "nbconvert_exporter": "python",
      "pygments_lexer": "ipython3",
      "version": "3.8.10"
    },
    "colab": {
      "name": "04.1-Intro-to-Matplotlib.ipynb",
      "provenance": []
    }
  },
  "nbformat": 4,
  "nbformat_minor": 5
}